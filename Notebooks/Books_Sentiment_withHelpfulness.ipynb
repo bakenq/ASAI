{
 "cells": [
  {
   "cell_type": "code",
   "execution_count": 37,
   "metadata": {},
   "outputs": [],
   "source": [
    "import warnings\n",
    "warnings.filterwarnings('ignore')\n",
    "\n",
    "#General Data/Plotting\n",
    "import pandas as pd \n",
    "import numpy as np \n",
    "import matplotlib.pyplot as plt \n",
    "import seaborn as sns \n",
    "from tqdm.auto import tqdm \n",
    "import random\n",
    "\n",
    "# Language\n",
    "import nltk \n",
    "from nltk.corpus import stopwords\n",
    "from nltk.stem import WordNetLemmatizer \n",
    "import re \n",
    "from collections import Counter\n",
    "from string import punctuation\n",
    "\n",
    "# Modeling\n",
    "from sklearn.feature_extraction.text import TfidfVectorizer\n",
    "from sklearn.model_selection import train_test_split \n",
    "from sklearn.metrics import precision_score, recall_score , f1_score, accuracy_score,confusion_matrix\n",
    "\n",
    "from sklearn.linear_model import LogisticRegression\n",
    "from sklearn.ensemble import RandomForestClassifier\n",
    "\n",
    "from sklearn.datasets import load_iris\n",
    "\n",
    "\n",
    "import tensorflow as tf \n",
    "from tensorflow import keras \n",
    "from tensorflow.keras.preprocessing.text import Tokenizer \n",
    "from tensorflow.keras.preprocessing.sequence import pad_sequences\n",
    "from tensorflow.keras import Sequential \n",
    "from tensorflow.keras.metrics import Precision, Recall\n",
    "from tensorflow.keras.layers import Dense , Embedding , Bidirectional , LSTM\n",
    "\n",
    "lemma = WordNetLemmatizer()"
   ]
  },
  {
   "cell_type": "code",
   "execution_count": 38,
   "metadata": {},
   "outputs": [],
   "source": [
    "tqdm.pandas()"
   ]
  },
  {
   "cell_type": "code",
   "execution_count": 39,
   "metadata": {},
   "outputs": [],
   "source": [
    "df = pd.read_csv('../Datasets/Books_rating.csv')"
   ]
  },
  {
   "cell_type": "code",
   "execution_count": 40,
   "metadata": {},
   "outputs": [
    {
     "data": {
      "text/html": [
       "<div>\n",
       "<style scoped>\n",
       "    .dataframe tbody tr th:only-of-type {\n",
       "        vertical-align: middle;\n",
       "    }\n",
       "\n",
       "    .dataframe tbody tr th {\n",
       "        vertical-align: top;\n",
       "    }\n",
       "\n",
       "    .dataframe thead th {\n",
       "        text-align: right;\n",
       "    }\n",
       "</style>\n",
       "<table border=\"1\" class=\"dataframe\">\n",
       "  <thead>\n",
       "    <tr style=\"text-align: right;\">\n",
       "      <th></th>\n",
       "      <th>Id</th>\n",
       "      <th>Title</th>\n",
       "      <th>Price</th>\n",
       "      <th>User_id</th>\n",
       "      <th>profileName</th>\n",
       "      <th>review/helpfulness</th>\n",
       "      <th>review/score</th>\n",
       "      <th>review/time</th>\n",
       "      <th>review/summary</th>\n",
       "      <th>review/text</th>\n",
       "    </tr>\n",
       "  </thead>\n",
       "  <tbody>\n",
       "    <tr>\n",
       "      <th>0</th>\n",
       "      <td>1882931173</td>\n",
       "      <td>Its Only Art If Its Well Hung!</td>\n",
       "      <td>NaN</td>\n",
       "      <td>AVCGYZL8FQQTD</td>\n",
       "      <td>Jim of Oz \"jim-of-oz\"</td>\n",
       "      <td>7/7</td>\n",
       "      <td>4.0</td>\n",
       "      <td>940636800</td>\n",
       "      <td>Nice collection of Julie Strain images</td>\n",
       "      <td>This is only for Julie Strain fans. It's a col...</td>\n",
       "    </tr>\n",
       "    <tr>\n",
       "      <th>1</th>\n",
       "      <td>0826414346</td>\n",
       "      <td>Dr. Seuss: American Icon</td>\n",
       "      <td>NaN</td>\n",
       "      <td>A30TK6U7DNS82R</td>\n",
       "      <td>Kevin Killian</td>\n",
       "      <td>10/10</td>\n",
       "      <td>5.0</td>\n",
       "      <td>1095724800</td>\n",
       "      <td>Really Enjoyed It</td>\n",
       "      <td>I don't care much for Dr. Seuss but after read...</td>\n",
       "    </tr>\n",
       "    <tr>\n",
       "      <th>2</th>\n",
       "      <td>0826414346</td>\n",
       "      <td>Dr. Seuss: American Icon</td>\n",
       "      <td>NaN</td>\n",
       "      <td>A3UH4UZ4RSVO82</td>\n",
       "      <td>John Granger</td>\n",
       "      <td>10/11</td>\n",
       "      <td>5.0</td>\n",
       "      <td>1078790400</td>\n",
       "      <td>Essential for every personal and Public Library</td>\n",
       "      <td>If people become the books they read and if \"t...</td>\n",
       "    </tr>\n",
       "    <tr>\n",
       "      <th>3</th>\n",
       "      <td>0826414346</td>\n",
       "      <td>Dr. Seuss: American Icon</td>\n",
       "      <td>NaN</td>\n",
       "      <td>A2MVUWT453QH61</td>\n",
       "      <td>Roy E. Perry \"amateur philosopher\"</td>\n",
       "      <td>7/7</td>\n",
       "      <td>4.0</td>\n",
       "      <td>1090713600</td>\n",
       "      <td>Phlip Nel gives silly Seuss a serious treatment</td>\n",
       "      <td>Theodore Seuss Geisel (1904-1991), aka &amp;quot;D...</td>\n",
       "    </tr>\n",
       "    <tr>\n",
       "      <th>4</th>\n",
       "      <td>0826414346</td>\n",
       "      <td>Dr. Seuss: American Icon</td>\n",
       "      <td>NaN</td>\n",
       "      <td>A22X4XUPKF66MR</td>\n",
       "      <td>D. H. Richards \"ninthwavestore\"</td>\n",
       "      <td>3/3</td>\n",
       "      <td>4.0</td>\n",
       "      <td>1107993600</td>\n",
       "      <td>Good academic overview</td>\n",
       "      <td>Philip Nel - Dr. Seuss: American IconThis is b...</td>\n",
       "    </tr>\n",
       "  </tbody>\n",
       "</table>\n",
       "</div>"
      ],
      "text/plain": [
       "           Id                           Title  Price         User_id  \\\n",
       "0  1882931173  Its Only Art If Its Well Hung!    NaN   AVCGYZL8FQQTD   \n",
       "1  0826414346        Dr. Seuss: American Icon    NaN  A30TK6U7DNS82R   \n",
       "2  0826414346        Dr. Seuss: American Icon    NaN  A3UH4UZ4RSVO82   \n",
       "3  0826414346        Dr. Seuss: American Icon    NaN  A2MVUWT453QH61   \n",
       "4  0826414346        Dr. Seuss: American Icon    NaN  A22X4XUPKF66MR   \n",
       "\n",
       "                          profileName review/helpfulness  review/score  \\\n",
       "0               Jim of Oz \"jim-of-oz\"                7/7           4.0   \n",
       "1                       Kevin Killian              10/10           5.0   \n",
       "2                        John Granger              10/11           5.0   \n",
       "3  Roy E. Perry \"amateur philosopher\"                7/7           4.0   \n",
       "4     D. H. Richards \"ninthwavestore\"                3/3           4.0   \n",
       "\n",
       "   review/time                                   review/summary  \\\n",
       "0    940636800           Nice collection of Julie Strain images   \n",
       "1   1095724800                                Really Enjoyed It   \n",
       "2   1078790400  Essential for every personal and Public Library   \n",
       "3   1090713600  Phlip Nel gives silly Seuss a serious treatment   \n",
       "4   1107993600                           Good academic overview   \n",
       "\n",
       "                                         review/text  \n",
       "0  This is only for Julie Strain fans. It's a col...  \n",
       "1  I don't care much for Dr. Seuss but after read...  \n",
       "2  If people become the books they read and if \"t...  \n",
       "3  Theodore Seuss Geisel (1904-1991), aka &quot;D...  \n",
       "4  Philip Nel - Dr. Seuss: American IconThis is b...  "
      ]
     },
     "execution_count": 40,
     "metadata": {},
     "output_type": "execute_result"
    }
   ],
   "source": [
    "df.head()"
   ]
  },
  {
   "cell_type": "code",
   "execution_count": 41,
   "metadata": {},
   "outputs": [
    {
     "data": {
      "text/html": [
       "<div>\n",
       "<style scoped>\n",
       "    .dataframe tbody tr th:only-of-type {\n",
       "        vertical-align: middle;\n",
       "    }\n",
       "\n",
       "    .dataframe tbody tr th {\n",
       "        vertical-align: top;\n",
       "    }\n",
       "\n",
       "    .dataframe thead th {\n",
       "        text-align: right;\n",
       "    }\n",
       "</style>\n",
       "<table border=\"1\" class=\"dataframe\">\n",
       "  <thead>\n",
       "    <tr style=\"text-align: right;\">\n",
       "      <th></th>\n",
       "      <th>Id</th>\n",
       "      <th>Title</th>\n",
       "      <th>Price</th>\n",
       "      <th>User_id</th>\n",
       "      <th>profileName</th>\n",
       "      <th>review/helpfulness</th>\n",
       "      <th>review/score</th>\n",
       "      <th>review/time</th>\n",
       "      <th>review/summary</th>\n",
       "      <th>review/text</th>\n",
       "      <th>helpful_0</th>\n",
       "      <th>helpful_1</th>\n",
       "    </tr>\n",
       "  </thead>\n",
       "  <tbody>\n",
       "    <tr>\n",
       "      <th>0</th>\n",
       "      <td>1882931173</td>\n",
       "      <td>Its Only Art If Its Well Hung!</td>\n",
       "      <td>NaN</td>\n",
       "      <td>AVCGYZL8FQQTD</td>\n",
       "      <td>Jim of Oz \"jim-of-oz\"</td>\n",
       "      <td>7/7</td>\n",
       "      <td>4.0</td>\n",
       "      <td>940636800</td>\n",
       "      <td>Nice collection of Julie Strain images</td>\n",
       "      <td>This is only for Julie Strain fans. It's a col...</td>\n",
       "      <td>7</td>\n",
       "      <td>7</td>\n",
       "    </tr>\n",
       "    <tr>\n",
       "      <th>1</th>\n",
       "      <td>0826414346</td>\n",
       "      <td>Dr. Seuss: American Icon</td>\n",
       "      <td>NaN</td>\n",
       "      <td>A30TK6U7DNS82R</td>\n",
       "      <td>Kevin Killian</td>\n",
       "      <td>10/10</td>\n",
       "      <td>5.0</td>\n",
       "      <td>1095724800</td>\n",
       "      <td>Really Enjoyed It</td>\n",
       "      <td>I don't care much for Dr. Seuss but after read...</td>\n",
       "      <td>10</td>\n",
       "      <td>10</td>\n",
       "    </tr>\n",
       "    <tr>\n",
       "      <th>2</th>\n",
       "      <td>0826414346</td>\n",
       "      <td>Dr. Seuss: American Icon</td>\n",
       "      <td>NaN</td>\n",
       "      <td>A3UH4UZ4RSVO82</td>\n",
       "      <td>John Granger</td>\n",
       "      <td>10/11</td>\n",
       "      <td>5.0</td>\n",
       "      <td>1078790400</td>\n",
       "      <td>Essential for every personal and Public Library</td>\n",
       "      <td>If people become the books they read and if \"t...</td>\n",
       "      <td>10</td>\n",
       "      <td>11</td>\n",
       "    </tr>\n",
       "    <tr>\n",
       "      <th>3</th>\n",
       "      <td>0826414346</td>\n",
       "      <td>Dr. Seuss: American Icon</td>\n",
       "      <td>NaN</td>\n",
       "      <td>A2MVUWT453QH61</td>\n",
       "      <td>Roy E. Perry \"amateur philosopher\"</td>\n",
       "      <td>7/7</td>\n",
       "      <td>4.0</td>\n",
       "      <td>1090713600</td>\n",
       "      <td>Phlip Nel gives silly Seuss a serious treatment</td>\n",
       "      <td>Theodore Seuss Geisel (1904-1991), aka &amp;quot;D...</td>\n",
       "      <td>7</td>\n",
       "      <td>7</td>\n",
       "    </tr>\n",
       "    <tr>\n",
       "      <th>4</th>\n",
       "      <td>0826414346</td>\n",
       "      <td>Dr. Seuss: American Icon</td>\n",
       "      <td>NaN</td>\n",
       "      <td>A22X4XUPKF66MR</td>\n",
       "      <td>D. H. Richards \"ninthwavestore\"</td>\n",
       "      <td>3/3</td>\n",
       "      <td>4.0</td>\n",
       "      <td>1107993600</td>\n",
       "      <td>Good academic overview</td>\n",
       "      <td>Philip Nel - Dr. Seuss: American IconThis is b...</td>\n",
       "      <td>3</td>\n",
       "      <td>3</td>\n",
       "    </tr>\n",
       "  </tbody>\n",
       "</table>\n",
       "</div>"
      ],
      "text/plain": [
       "           Id                           Title  Price         User_id  \\\n",
       "0  1882931173  Its Only Art If Its Well Hung!    NaN   AVCGYZL8FQQTD   \n",
       "1  0826414346        Dr. Seuss: American Icon    NaN  A30TK6U7DNS82R   \n",
       "2  0826414346        Dr. Seuss: American Icon    NaN  A3UH4UZ4RSVO82   \n",
       "3  0826414346        Dr. Seuss: American Icon    NaN  A2MVUWT453QH61   \n",
       "4  0826414346        Dr. Seuss: American Icon    NaN  A22X4XUPKF66MR   \n",
       "\n",
       "                          profileName review/helpfulness  review/score  \\\n",
       "0               Jim of Oz \"jim-of-oz\"                7/7           4.0   \n",
       "1                       Kevin Killian              10/10           5.0   \n",
       "2                        John Granger              10/11           5.0   \n",
       "3  Roy E. Perry \"amateur philosopher\"                7/7           4.0   \n",
       "4     D. H. Richards \"ninthwavestore\"                3/3           4.0   \n",
       "\n",
       "   review/time                                   review/summary  \\\n",
       "0    940636800           Nice collection of Julie Strain images   \n",
       "1   1095724800                                Really Enjoyed It   \n",
       "2   1078790400  Essential for every personal and Public Library   \n",
       "3   1090713600  Phlip Nel gives silly Seuss a serious treatment   \n",
       "4   1107993600                           Good academic overview   \n",
       "\n",
       "                                         review/text helpful_0 helpful_1  \n",
       "0  This is only for Julie Strain fans. It's a col...         7         7  \n",
       "1  I don't care much for Dr. Seuss but after read...        10        10  \n",
       "2  If people become the books they read and if \"t...        10        11  \n",
       "3  Theodore Seuss Geisel (1904-1991), aka &quot;D...         7         7  \n",
       "4  Philip Nel - Dr. Seuss: American IconThis is b...         3         3  "
      ]
     },
     "execution_count": 41,
     "metadata": {},
     "output_type": "execute_result"
    }
   ],
   "source": [
    "df[['helpful_0', 'helpful_1']] = df['review/helpfulness'].str.split('/', expand=True)\n",
    "\n",
    "# Konvertieren der 'helpfulness'-Spalte in numerische Werte (falls notwendig)\n",
    "#df['review/helpfulness'] = pd.to_numeric(df['review/helpfulness'], errors='coerce')\n",
    "\n",
    "df.head()\n"
   ]
  },
  {
   "cell_type": "code",
   "execution_count": 42,
   "metadata": {},
   "outputs": [],
   "source": [
    "#df['helpful_0'] = df['helpful_0'].apply(func=lambda x: x*1)\n",
    "#df['helpful_1'] = df['helpful_1'].apply(func=lambda x: x*1)"
   ]
  },
  {
   "cell_type": "markdown",
   "metadata": {},
   "source": [
    "#### EDA v0"
   ]
  },
  {
   "cell_type": "code",
   "execution_count": 43,
   "metadata": {},
   "outputs": [
    {
     "name": "stderr",
     "output_type": "stream",
     "text": [
      "  0%|          | 0/3000000 [00:00<?, ?it/s]"
     ]
    },
    {
     "name": "stderr",
     "output_type": "stream",
     "text": [
      "100%|██████████| 3000000/3000000 [00:42<00:00, 70086.17it/s]\n",
      "100%|██████████| 3000000/3000000 [00:42<00:00, 69819.10it/s]\n"
     ]
    }
   ],
   "source": [
    "# Daten vor dem Plotten sortieren\n",
    "df['helpful_0'] = df['helpful_0'].progress_apply(pd.to_numeric)\n",
    "df['helpful_1'] = df['helpful_1'].progress_apply(pd.to_numeric)"
   ]
  },
  {
   "cell_type": "code",
   "execution_count": 44,
   "metadata": {},
   "outputs": [],
   "source": [
    "df['helpful_0'] = df['helpful_0'].astype(int)\n",
    "df['helpful_1'] = df['helpful_1'].astype(int)"
   ]
  },
  {
   "cell_type": "code",
   "execution_count": 45,
   "metadata": {},
   "outputs": [
    {
     "data": {
      "image/png": "[encoded data removed]",
      "text/plain": [
       "<Figure size 1000x600 with 1 Axes>"
      ]
     },
     "metadata": {},
     "output_type": "display_data"
    }
   ],
   "source": [
    "# Plot erstellen\n",
    "plt.figure(figsize=(10, 6))\n",
    "\n",
    "\n",
    "plt.hist(df['helpful_1'], bins=10000, color='blue', edgecolor='black', alpha=0.7)\n",
    "\n",
    "# Titel und Beschriftungen hinzufügen\n",
    "plt.title('Verteilung der Helpful-Votes in den Reviews')\n",
    "plt.xlabel('Anzahl der Helpful-Votes')\n",
    "plt.ylabel('Anzahl der Reviews')\n",
    "\n",
    "# Gitter hinzufügen\n",
    "plt.grid(True, linestyle='--', alpha=0.5)\n",
    "\n",
    "plt.xlim(1, 10)\n",
    "\n",
    "# Diagramm anzeigen\n",
    "plt.show()"
   ]
  },
  {
   "cell_type": "code",
   "execution_count": 46,
   "metadata": {},
   "outputs": [
    {
     "name": "stdout",
     "output_type": "stream",
     "text": [
      "Number of rows with helpful_1 > 3:  239553\n"
     ]
    }
   ],
   "source": [
    "num_rows = len(df[df['helpful_1'] >= 20])\n",
    "print(\"Number of rows with helpful_1 > 3: \", num_rows)"
   ]
  },
  {
   "cell_type": "code",
   "execution_count": 47,
   "metadata": {},
   "outputs": [],
   "source": [
    "# Remove reviews with not enough helpful votes\n",
    "df = df[df['helpful_1'] >= 20]"
   ]
  },
  {
   "cell_type": "code",
   "execution_count": 48,
   "metadata": {},
   "outputs": [],
   "source": [
    "df['helpful_ratio'] = df['helpful_0'] / df['helpful_1']\n"
   ]
  },
  {
   "cell_type": "code",
   "execution_count": 49,
   "metadata": {},
   "outputs": [
    {
     "data": {
      "text/html": [
       "<div>\n",
       "<style scoped>\n",
       "    .dataframe tbody tr th:only-of-type {\n",
       "        vertical-align: middle;\n",
       "    }\n",
       "\n",
       "    .dataframe tbody tr th {\n",
       "        vertical-align: top;\n",
       "    }\n",
       "\n",
       "    .dataframe thead th {\n",
       "        text-align: right;\n",
       "    }\n",
       "</style>\n",
       "<table border=\"1\" class=\"dataframe\">\n",
       "  <thead>\n",
       "    <tr style=\"text-align: right;\">\n",
       "      <th></th>\n",
       "      <th>Id</th>\n",
       "      <th>Title</th>\n",
       "      <th>Price</th>\n",
       "      <th>User_id</th>\n",
       "      <th>profileName</th>\n",
       "      <th>review/helpfulness</th>\n",
       "      <th>review/score</th>\n",
       "      <th>review/time</th>\n",
       "      <th>review/summary</th>\n",
       "      <th>review/text</th>\n",
       "      <th>helpful_0</th>\n",
       "      <th>helpful_1</th>\n",
       "      <th>helpful_ratio</th>\n",
       "      <th>ratio_percent</th>\n",
       "    </tr>\n",
       "  </thead>\n",
       "  <tbody>\n",
       "    <tr>\n",
       "      <th>47</th>\n",
       "      <td>0802841899</td>\n",
       "      <td>The Church of Christ: A Biblical Ecclesiology ...</td>\n",
       "      <td>25.97</td>\n",
       "      <td>ARI272XF8TOL4</td>\n",
       "      <td>Christopher J. Bray</td>\n",
       "      <td>74/81</td>\n",
       "      <td>5.0</td>\n",
       "      <td>955411200</td>\n",
       "      <td>Ecclesiological Milestone</td>\n",
       "      <td>With the publication of Everett Ferguson's boo...</td>\n",
       "      <td>74</td>\n",
       "      <td>81</td>\n",
       "      <td>0.913580</td>\n",
       "      <td>91</td>\n",
       "    </tr>\n",
       "    <tr>\n",
       "      <th>81</th>\n",
       "      <td>0974289108</td>\n",
       "      <td>The Ultimate Guide to Law School Admission: In...</td>\n",
       "      <td>14.95</td>\n",
       "      <td>A1KZ0RDJZQSY4O</td>\n",
       "      <td>sayock</td>\n",
       "      <td>27/29</td>\n",
       "      <td>3.0</td>\n",
       "      <td>1090368000</td>\n",
       "      <td>No &amp;quot;Insider&amp;quot; Secrets</td>\n",
       "      <td>If you are someone who is fairly new to the la...</td>\n",
       "      <td>27</td>\n",
       "      <td>29</td>\n",
       "      <td>0.931034</td>\n",
       "      <td>93</td>\n",
       "    </tr>\n",
       "    <tr>\n",
       "      <th>88</th>\n",
       "      <td>0809080699</td>\n",
       "      <td>The Repeal of Reticence: A History of America'...</td>\n",
       "      <td>NaN</td>\n",
       "      <td>A18YY5TBNSDW3O</td>\n",
       "      <td>Bartleby</td>\n",
       "      <td>29/29</td>\n",
       "      <td>5.0</td>\n",
       "      <td>899164800</td>\n",
       "      <td>Great treatment of the defeat of reticence by ...</td>\n",
       "      <td>Using a quiet, restrained writing style that i...</td>\n",
       "      <td>29</td>\n",
       "      <td>29</td>\n",
       "      <td>1.000000</td>\n",
       "      <td>100</td>\n",
       "    </tr>\n",
       "    <tr>\n",
       "      <th>91</th>\n",
       "      <td>B000NKGYMK</td>\n",
       "      <td>Alaska Sourdough</td>\n",
       "      <td>NaN</td>\n",
       "      <td>NaN</td>\n",
       "      <td>NaN</td>\n",
       "      <td>36/37</td>\n",
       "      <td>5.0</td>\n",
       "      <td>949104000</td>\n",
       "      <td>Real Alaskan Sourdough</td>\n",
       "      <td>Ruth Allman has written an excellent book abou...</td>\n",
       "      <td>36</td>\n",
       "      <td>37</td>\n",
       "      <td>0.972973</td>\n",
       "      <td>97</td>\n",
       "    </tr>\n",
       "    <tr>\n",
       "      <th>92</th>\n",
       "      <td>B000NKGYMK</td>\n",
       "      <td>Alaska Sourdough</td>\n",
       "      <td>NaN</td>\n",
       "      <td>AC58Z72OB2DDX</td>\n",
       "      <td>Gary W. Marian</td>\n",
       "      <td>29/30</td>\n",
       "      <td>5.0</td>\n",
       "      <td>945734400</td>\n",
       "      <td>True Alaskan cooking</td>\n",
       "      <td>I have been using this book since 1988, the ei...</td>\n",
       "      <td>29</td>\n",
       "      <td>30</td>\n",
       "      <td>0.966667</td>\n",
       "      <td>96</td>\n",
       "    </tr>\n",
       "  </tbody>\n",
       "</table>\n",
       "</div>"
      ],
      "text/plain": [
       "            Id                                              Title  Price  \\\n",
       "47  0802841899  The Church of Christ: A Biblical Ecclesiology ...  25.97   \n",
       "81  0974289108  The Ultimate Guide to Law School Admission: In...  14.95   \n",
       "88  0809080699  The Repeal of Reticence: A History of America'...    NaN   \n",
       "91  B000NKGYMK                                   Alaska Sourdough    NaN   \n",
       "92  B000NKGYMK                                   Alaska Sourdough    NaN   \n",
       "\n",
       "           User_id          profileName review/helpfulness  review/score  \\\n",
       "47   ARI272XF8TOL4  Christopher J. Bray              74/81           5.0   \n",
       "81  A1KZ0RDJZQSY4O               sayock              27/29           3.0   \n",
       "88  A18YY5TBNSDW3O             Bartleby              29/29           5.0   \n",
       "91             NaN                  NaN              36/37           5.0   \n",
       "92   AC58Z72OB2DDX       Gary W. Marian              29/30           5.0   \n",
       "\n",
       "    review/time                                     review/summary  \\\n",
       "47    955411200                          Ecclesiological Milestone   \n",
       "81   1090368000                     No &quot;Insider&quot; Secrets   \n",
       "88    899164800  Great treatment of the defeat of reticence by ...   \n",
       "91    949104000                             Real Alaskan Sourdough   \n",
       "92    945734400                               True Alaskan cooking   \n",
       "\n",
       "                                          review/text  helpful_0  helpful_1  \\\n",
       "47  With the publication of Everett Ferguson's boo...         74         81   \n",
       "81  If you are someone who is fairly new to the la...         27         29   \n",
       "88  Using a quiet, restrained writing style that i...         29         29   \n",
       "91  Ruth Allman has written an excellent book abou...         36         37   \n",
       "92  I have been using this book since 1988, the ei...         29         30   \n",
       "\n",
       "    helpful_ratio  ratio_percent  \n",
       "47       0.913580             91  \n",
       "81       0.931034             93  \n",
       "88       1.000000            100  \n",
       "91       0.972973             97  \n",
       "92       0.966667             96  "
      ]
     },
     "execution_count": 49,
     "metadata": {},
     "output_type": "execute_result"
    }
   ],
   "source": [
    "df['ratio_percent'] = (df['helpful_ratio'] * 100).astype(int)\n",
    "df.head()"
   ]
  },
  {
   "cell_type": "code",
   "execution_count": 50,
   "metadata": {},
   "outputs": [],
   "source": [
    "df.drop(['Id', 'Title', 'Price', 'User_id', 'profileName', 'review/time', 'review/summary'], axis='columns', inplace=True)"
   ]
  },
  {
   "cell_type": "code",
   "execution_count": 51,
   "metadata": {},
   "outputs": [
    {
     "data": {
      "text/html": [
       "<div>\n",
       "<style scoped>\n",
       "    .dataframe tbody tr th:only-of-type {\n",
       "        vertical-align: middle;\n",
       "    }\n",
       "\n",
       "    .dataframe tbody tr th {\n",
       "        vertical-align: top;\n",
       "    }\n",
       "\n",
       "    .dataframe thead th {\n",
       "        text-align: right;\n",
       "    }\n",
       "</style>\n",
       "<table border=\"1\" class=\"dataframe\">\n",
       "  <thead>\n",
       "    <tr style=\"text-align: right;\">\n",
       "      <th></th>\n",
       "      <th>review/helpfulness</th>\n",
       "      <th>review/score</th>\n",
       "      <th>review/text</th>\n",
       "      <th>helpful_0</th>\n",
       "      <th>helpful_1</th>\n",
       "      <th>helpful_ratio</th>\n",
       "      <th>ratio_percent</th>\n",
       "    </tr>\n",
       "  </thead>\n",
       "  <tbody>\n",
       "    <tr>\n",
       "      <th>47</th>\n",
       "      <td>74/81</td>\n",
       "      <td>5.0</td>\n",
       "      <td>With the publication of Everett Ferguson's boo...</td>\n",
       "      <td>74</td>\n",
       "      <td>81</td>\n",
       "      <td>0.913580</td>\n",
       "      <td>91</td>\n",
       "    </tr>\n",
       "    <tr>\n",
       "      <th>81</th>\n",
       "      <td>27/29</td>\n",
       "      <td>3.0</td>\n",
       "      <td>If you are someone who is fairly new to the la...</td>\n",
       "      <td>27</td>\n",
       "      <td>29</td>\n",
       "      <td>0.931034</td>\n",
       "      <td>93</td>\n",
       "    </tr>\n",
       "    <tr>\n",
       "      <th>88</th>\n",
       "      <td>29/29</td>\n",
       "      <td>5.0</td>\n",
       "      <td>Using a quiet, restrained writing style that i...</td>\n",
       "      <td>29</td>\n",
       "      <td>29</td>\n",
       "      <td>1.000000</td>\n",
       "      <td>100</td>\n",
       "    </tr>\n",
       "    <tr>\n",
       "      <th>91</th>\n",
       "      <td>36/37</td>\n",
       "      <td>5.0</td>\n",
       "      <td>Ruth Allman has written an excellent book abou...</td>\n",
       "      <td>36</td>\n",
       "      <td>37</td>\n",
       "      <td>0.972973</td>\n",
       "      <td>97</td>\n",
       "    </tr>\n",
       "    <tr>\n",
       "      <th>92</th>\n",
       "      <td>29/30</td>\n",
       "      <td>5.0</td>\n",
       "      <td>I have been using this book since 1988, the ei...</td>\n",
       "      <td>29</td>\n",
       "      <td>30</td>\n",
       "      <td>0.966667</td>\n",
       "      <td>96</td>\n",
       "    </tr>\n",
       "  </tbody>\n",
       "</table>\n",
       "</div>"
      ],
      "text/plain": [
       "   review/helpfulness  review/score  \\\n",
       "47              74/81           5.0   \n",
       "81              27/29           3.0   \n",
       "88              29/29           5.0   \n",
       "91              36/37           5.0   \n",
       "92              29/30           5.0   \n",
       "\n",
       "                                          review/text  helpful_0  helpful_1  \\\n",
       "47  With the publication of Everett Ferguson's boo...         74         81   \n",
       "81  If you are someone who is fairly new to the la...         27         29   \n",
       "88  Using a quiet, restrained writing style that i...         29         29   \n",
       "91  Ruth Allman has written an excellent book abou...         36         37   \n",
       "92  I have been using this book since 1988, the ei...         29         30   \n",
       "\n",
       "    helpful_ratio  ratio_percent  \n",
       "47       0.913580             91  \n",
       "81       0.931034             93  \n",
       "88       1.000000            100  \n",
       "91       0.972973             97  \n",
       "92       0.966667             96  "
      ]
     },
     "execution_count": 51,
     "metadata": {},
     "output_type": "execute_result"
    }
   ],
   "source": [
    "df.head()"
   ]
  },
  {
   "cell_type": "code",
   "execution_count": 52,
   "metadata": {},
   "outputs": [
    {
     "data": {
      "text/html": [
       "<div>\n",
       "<style scoped>\n",
       "    .dataframe tbody tr th:only-of-type {\n",
       "        vertical-align: middle;\n",
       "    }\n",
       "\n",
       "    .dataframe tbody tr th {\n",
       "        vertical-align: top;\n",
       "    }\n",
       "\n",
       "    .dataframe thead th {\n",
       "        text-align: right;\n",
       "    }\n",
       "</style>\n",
       "<table border=\"1\" class=\"dataframe\">\n",
       "  <thead>\n",
       "    <tr style=\"text-align: right;\">\n",
       "      <th></th>\n",
       "      <th>review/helpfulness</th>\n",
       "      <th>Rating</th>\n",
       "      <th>Review</th>\n",
       "      <th>helpful_0</th>\n",
       "      <th>helpful_1</th>\n",
       "      <th>helpful_ratio</th>\n",
       "      <th>ratio_percent</th>\n",
       "      <th>review_len</th>\n",
       "    </tr>\n",
       "  </thead>\n",
       "  <tbody>\n",
       "    <tr>\n",
       "      <th>47</th>\n",
       "      <td>74/81</td>\n",
       "      <td>5.0</td>\n",
       "      <td>With the publication of Everett Ferguson's boo...</td>\n",
       "      <td>74</td>\n",
       "      <td>81</td>\n",
       "      <td>0.913580</td>\n",
       "      <td>91</td>\n",
       "      <td>999</td>\n",
       "    </tr>\n",
       "    <tr>\n",
       "      <th>81</th>\n",
       "      <td>27/29</td>\n",
       "      <td>3.0</td>\n",
       "      <td>If you are someone who is fairly new to the la...</td>\n",
       "      <td>27</td>\n",
       "      <td>29</td>\n",
       "      <td>0.931034</td>\n",
       "      <td>93</td>\n",
       "      <td>367</td>\n",
       "    </tr>\n",
       "    <tr>\n",
       "      <th>88</th>\n",
       "      <td>29/29</td>\n",
       "      <td>5.0</td>\n",
       "      <td>Using a quiet, restrained writing style that i...</td>\n",
       "      <td>29</td>\n",
       "      <td>29</td>\n",
       "      <td>1.000000</td>\n",
       "      <td>100</td>\n",
       "      <td>532</td>\n",
       "    </tr>\n",
       "    <tr>\n",
       "      <th>91</th>\n",
       "      <td>36/37</td>\n",
       "      <td>5.0</td>\n",
       "      <td>Ruth Allman has written an excellent book abou...</td>\n",
       "      <td>36</td>\n",
       "      <td>37</td>\n",
       "      <td>0.972973</td>\n",
       "      <td>97</td>\n",
       "      <td>153</td>\n",
       "    </tr>\n",
       "    <tr>\n",
       "      <th>92</th>\n",
       "      <td>29/30</td>\n",
       "      <td>5.0</td>\n",
       "      <td>I have been using this book since 1988, the ei...</td>\n",
       "      <td>29</td>\n",
       "      <td>30</td>\n",
       "      <td>0.966667</td>\n",
       "      <td>96</td>\n",
       "      <td>63</td>\n",
       "    </tr>\n",
       "  </tbody>\n",
       "</table>\n",
       "</div>"
      ],
      "text/plain": [
       "   review/helpfulness  Rating  \\\n",
       "47              74/81     5.0   \n",
       "81              27/29     3.0   \n",
       "88              29/29     5.0   \n",
       "91              36/37     5.0   \n",
       "92              29/30     5.0   \n",
       "\n",
       "                                               Review  helpful_0  helpful_1  \\\n",
       "47  With the publication of Everett Ferguson's boo...         74         81   \n",
       "81  If you are someone who is fairly new to the la...         27         29   \n",
       "88  Using a quiet, restrained writing style that i...         29         29   \n",
       "91  Ruth Allman has written an excellent book abou...         36         37   \n",
       "92  I have been using this book since 1988, the ei...         29         30   \n",
       "\n",
       "    helpful_ratio  ratio_percent  review_len  \n",
       "47       0.913580             91         999  \n",
       "81       0.931034             93         367  \n",
       "88       1.000000            100         532  \n",
       "91       0.972973             97         153  \n",
       "92       0.966667             96          63  "
      ]
     },
     "execution_count": 52,
     "metadata": {},
     "output_type": "execute_result"
    }
   ],
   "source": [
    "df = df.rename(columns={\"review/text\":\"Review\",\"review/score\": \"Rating\"})\n",
    "\n",
    "df['review_len'] = [len(text.split()) for text in df.Review]\n",
    "df.head()"
   ]
  },
  {
   "cell_type": "code",
   "execution_count": 53,
   "metadata": {},
   "outputs": [
    {
     "data": {
      "image/png": "[encoded data removed]",
      "text/plain": [
       "<Figure size 1600x500 with 1 Axes>"
      ]
     },
     "metadata": {},
     "output_type": "display_data"
    }
   ],
   "source": [
    "plt.figure(figsize=(16,5))\n",
    "ax = sns.countplot(x='review_len', data=df, palette='Blues_r')\n",
    "plt.title('Count of sentence with high number of words', fontsize=25)\n",
    "plt.yticks([])\n",
    "ax.bar_label(ax.containers[0])\n",
    "plt.ylabel('count')\n",
    "plt.xlabel('')\n",
    "\n",
    "# Reduziere die Anzahl der x-Achsenticks\n",
    "n = 100  # Du kannst die Anzahl anpassen, um die Dichte der Ticks zu ändern\n",
    "for i, label in enumerate(ax.get_xticklabels()):\n",
    "    if i % n != 0:\n",
    "        label.set_visible(False)\n",
    "\n",
    "plt.show()"
   ]
  },
  {
   "cell_type": "code",
   "execution_count": 54,
   "metadata": {},
   "outputs": [
    {
     "data": {
      "text/plain": [
       "239553"
      ]
     },
     "execution_count": 54,
     "metadata": {},
     "output_type": "execute_result"
    }
   ],
   "source": [
    "len(df)"
   ]
  },
  {
   "cell_type": "code",
   "execution_count": 80,
   "metadata": {},
   "outputs": [],
   "source": [
    "df = df[df['review_len'] <= 300]"
   ]
  },
  {
   "cell_type": "code",
   "execution_count": 81,
   "metadata": {},
   "outputs": [
    {
     "data": {
      "text/plain": [
       "137055"
      ]
     },
     "execution_count": 81,
     "metadata": {},
     "output_type": "execute_result"
    }
   ],
   "source": [
    "len(df)"
   ]
  },
  {
   "cell_type": "code",
   "execution_count": 82,
   "metadata": {},
   "outputs": [],
   "source": [
    "def convert_label(df) : \n",
    "    if df['ratio_percent'] <= 70 : \n",
    "        rate = 0 # for Negative \n",
    "    else : \n",
    "        rate = 1 # for Positive\n",
    "        \n",
    "    return rate"
   ]
  },
  {
   "cell_type": "code",
   "execution_count": 83,
   "metadata": {},
   "outputs": [
    {
     "data": {
      "text/html": [
       "<div>\n",
       "<style scoped>\n",
       "    .dataframe tbody tr th:only-of-type {\n",
       "        vertical-align: middle;\n",
       "    }\n",
       "\n",
       "    .dataframe tbody tr th {\n",
       "        vertical-align: top;\n",
       "    }\n",
       "\n",
       "    .dataframe thead th {\n",
       "        text-align: right;\n",
       "    }\n",
       "</style>\n",
       "<table border=\"1\" class=\"dataframe\">\n",
       "  <thead>\n",
       "    <tr style=\"text-align: right;\">\n",
       "      <th></th>\n",
       "      <th>review/helpfulness</th>\n",
       "      <th>Rating</th>\n",
       "      <th>Review</th>\n",
       "      <th>helpful_0</th>\n",
       "      <th>helpful_1</th>\n",
       "      <th>helpful_ratio</th>\n",
       "      <th>ratio_percent</th>\n",
       "      <th>review_len</th>\n",
       "      <th>IsHelpful</th>\n",
       "      <th>cleaned_reviews</th>\n",
       "    </tr>\n",
       "  </thead>\n",
       "  <tbody>\n",
       "    <tr>\n",
       "      <th>34011</th>\n",
       "      <td>16/23</td>\n",
       "      <td>1.0</td>\n",
       "      <td>Tom Brokaw had as much to do with the writing ...</td>\n",
       "      <td>16</td>\n",
       "      <td>23</td>\n",
       "      <td>0.695652</td>\n",
       "      <td>69</td>\n",
       "      <td>300</td>\n",
       "      <td>0</td>\n",
       "      <td>tom brokaw much writing book king james i writ...</td>\n",
       "    </tr>\n",
       "    <tr>\n",
       "      <th>27583</th>\n",
       "      <td>68/71</td>\n",
       "      <td>5.0</td>\n",
       "      <td>In Before You Think Another Thought, Bruce I. ...</td>\n",
       "      <td>68</td>\n",
       "      <td>71</td>\n",
       "      <td>0.957746</td>\n",
       "      <td>95</td>\n",
       "      <td>300</td>\n",
       "      <td>1</td>\n",
       "      <td>in before you think another thought bruce i do...</td>\n",
       "    </tr>\n",
       "    <tr>\n",
       "      <th>1929729</th>\n",
       "      <td>33/33</td>\n",
       "      <td>4.0</td>\n",
       "      <td>The critics focus on Lawrence's lifelong sexua...</td>\n",
       "      <td>33</td>\n",
       "      <td>33</td>\n",
       "      <td>1.000000</td>\n",
       "      <td>100</td>\n",
       "      <td>300</td>\n",
       "      <td>1</td>\n",
       "      <td>the critic focus lawrence lifelong sexual them...</td>\n",
       "    </tr>\n",
       "    <tr>\n",
       "      <th>1632480</th>\n",
       "      <td>20/20</td>\n",
       "      <td>4.0</td>\n",
       "      <td>Lauren Bennett had not become romantically inv...</td>\n",
       "      <td>20</td>\n",
       "      <td>20</td>\n",
       "      <td>1.000000</td>\n",
       "      <td>100</td>\n",
       "      <td>300</td>\n",
       "      <td>1</td>\n",
       "      <td>lauren bennett become romantically involved ma...</td>\n",
       "    </tr>\n",
       "    <tr>\n",
       "      <th>2632180</th>\n",
       "      <td>34/36</td>\n",
       "      <td>2.0</td>\n",
       "      <td>Mridula Baljekar's THE LOW-FAT INDIAN VEGETARI...</td>\n",
       "      <td>34</td>\n",
       "      <td>36</td>\n",
       "      <td>0.944444</td>\n",
       "      <td>94</td>\n",
       "      <td>300</td>\n",
       "      <td>1</td>\n",
       "      <td>mridula baljekars the lowfat indian vegetarian...</td>\n",
       "    </tr>\n",
       "  </tbody>\n",
       "</table>\n",
       "</div>"
      ],
      "text/plain": [
       "        review/helpfulness  Rating  \\\n",
       "34011                16/23     1.0   \n",
       "27583                68/71     5.0   \n",
       "1929729              33/33     4.0   \n",
       "1632480              20/20     4.0   \n",
       "2632180              34/36     2.0   \n",
       "\n",
       "                                                    Review  helpful_0  \\\n",
       "34011    Tom Brokaw had as much to do with the writing ...         16   \n",
       "27583    In Before You Think Another Thought, Bruce I. ...         68   \n",
       "1929729  The critics focus on Lawrence's lifelong sexua...         33   \n",
       "1632480  Lauren Bennett had not become romantically inv...         20   \n",
       "2632180  Mridula Baljekar's THE LOW-FAT INDIAN VEGETARI...         34   \n",
       "\n",
       "         helpful_1  helpful_ratio  ratio_percent  review_len  IsHelpful  \\\n",
       "34011           23       0.695652             69         300          0   \n",
       "27583           71       0.957746             95         300          1   \n",
       "1929729         33       1.000000            100         300          1   \n",
       "1632480         20       1.000000            100         300          1   \n",
       "2632180         36       0.944444             94         300          1   \n",
       "\n",
       "                                           cleaned_reviews  \n",
       "34011    tom brokaw much writing book king james i writ...  \n",
       "27583    in before you think another thought bruce i do...  \n",
       "1929729  the critic focus lawrence lifelong sexual them...  \n",
       "1632480  lauren bennett become romantically involved ma...  \n",
       "2632180  mridula baljekars the lowfat indian vegetarian...  "
      ]
     },
     "execution_count": 83,
     "metadata": {},
     "output_type": "execute_result"
    }
   ],
   "source": [
    "df['IsHelpful'] = df.apply(convert_label, axis = 1)\n",
    "df.head()"
   ]
  },
  {
   "cell_type": "code",
   "execution_count": 84,
   "metadata": {},
   "outputs": [],
   "source": [
    "# Drop reviews below 10 words\n",
    "#df = df[~(df['review_len'] < 10)]"
   ]
  },
  {
   "cell_type": "code",
   "execution_count": 85,
   "metadata": {},
   "outputs": [
    {
     "data": {
      "text/html": [
       "<div>\n",
       "<style scoped>\n",
       "    .dataframe tbody tr th:only-of-type {\n",
       "        vertical-align: middle;\n",
       "    }\n",
       "\n",
       "    .dataframe tbody tr th {\n",
       "        vertical-align: top;\n",
       "    }\n",
       "\n",
       "    .dataframe thead th {\n",
       "        text-align: right;\n",
       "    }\n",
       "</style>\n",
       "<table border=\"1\" class=\"dataframe\">\n",
       "  <thead>\n",
       "    <tr style=\"text-align: right;\">\n",
       "      <th></th>\n",
       "      <th>review/helpfulness</th>\n",
       "      <th>Rating</th>\n",
       "      <th>Review</th>\n",
       "      <th>helpful_0</th>\n",
       "      <th>helpful_1</th>\n",
       "      <th>helpful_ratio</th>\n",
       "      <th>ratio_percent</th>\n",
       "      <th>review_len</th>\n",
       "      <th>IsHelpful</th>\n",
       "      <th>cleaned_reviews</th>\n",
       "    </tr>\n",
       "  </thead>\n",
       "  <tbody>\n",
       "    <tr>\n",
       "      <th>2144387</th>\n",
       "      <td>43/43</td>\n",
       "      <td>5.0</td>\n",
       "      <td>Bill Shore uses stories from his life, as well...</td>\n",
       "      <td>43</td>\n",
       "      <td>43</td>\n",
       "      <td>1.0</td>\n",
       "      <td>100</td>\n",
       "      <td>147</td>\n",
       "      <td>1</td>\n",
       "      <td>bill shore us story life well famous famous ba...</td>\n",
       "    </tr>\n",
       "    <tr>\n",
       "      <th>2518180</th>\n",
       "      <td>33/33</td>\n",
       "      <td>5.0</td>\n",
       "      <td>I'm a 30 year old person that was born and rai...</td>\n",
       "      <td>33</td>\n",
       "      <td>33</td>\n",
       "      <td>1.0</td>\n",
       "      <td>100</td>\n",
       "      <td>187</td>\n",
       "      <td>1</td>\n",
       "      <td>im year old person born raised netherlands las...</td>\n",
       "    </tr>\n",
       "    <tr>\n",
       "      <th>227035</th>\n",
       "      <td>22/22</td>\n",
       "      <td>5.0</td>\n",
       "      <td>A friend recommended All Love Flows to the Sel...</td>\n",
       "      <td>22</td>\n",
       "      <td>22</td>\n",
       "      <td>1.0</td>\n",
       "      <td>100</td>\n",
       "      <td>187</td>\n",
       "      <td>1</td>\n",
       "      <td>a friend recommended all love flow self eterna...</td>\n",
       "    </tr>\n",
       "    <tr>\n",
       "      <th>1116593</th>\n",
       "      <td>26/26</td>\n",
       "      <td>4.0</td>\n",
       "      <td>This Disney song book is fun and easy to play....</td>\n",
       "      <td>26</td>\n",
       "      <td>26</td>\n",
       "      <td>1.0</td>\n",
       "      <td>100</td>\n",
       "      <td>85</td>\n",
       "      <td>1</td>\n",
       "      <td>this disney song book fun easy play it fake bo...</td>\n",
       "    </tr>\n",
       "    <tr>\n",
       "      <th>2993495</th>\n",
       "      <td>28/28</td>\n",
       "      <td>5.0</td>\n",
       "      <td>Until I read this book I never dreamed that th...</td>\n",
       "      <td>28</td>\n",
       "      <td>28</td>\n",
       "      <td>1.0</td>\n",
       "      <td>100</td>\n",
       "      <td>85</td>\n",
       "      <td>1</td>\n",
       "      <td>until i read book i never dreamed many creativ...</td>\n",
       "    </tr>\n",
       "  </tbody>\n",
       "</table>\n",
       "</div>"
      ],
      "text/plain": [
       "        review/helpfulness  Rating  \\\n",
       "2144387              43/43     5.0   \n",
       "2518180              33/33     5.0   \n",
       "227035               22/22     5.0   \n",
       "1116593              26/26     4.0   \n",
       "2993495              28/28     5.0   \n",
       "\n",
       "                                                    Review  helpful_0  \\\n",
       "2144387  Bill Shore uses stories from his life, as well...         43   \n",
       "2518180  I'm a 30 year old person that was born and rai...         33   \n",
       "227035   A friend recommended All Love Flows to the Sel...         22   \n",
       "1116593  This Disney song book is fun and easy to play....         26   \n",
       "2993495  Until I read this book I never dreamed that th...         28   \n",
       "\n",
       "         helpful_1  helpful_ratio  ratio_percent  review_len  IsHelpful  \\\n",
       "2144387         43            1.0            100         147          1   \n",
       "2518180         33            1.0            100         187          1   \n",
       "227035          22            1.0            100         187          1   \n",
       "1116593         26            1.0            100          85          1   \n",
       "2993495         28            1.0            100          85          1   \n",
       "\n",
       "                                           cleaned_reviews  \n",
       "2144387  bill shore us story life well famous famous ba...  \n",
       "2518180  im year old person born raised netherlands las...  \n",
       "227035   a friend recommended all love flow self eterna...  \n",
       "1116593  this disney song book fun easy play it fake bo...  \n",
       "2993495  until i read book i never dreamed many creativ...  "
      ]
     },
     "execution_count": 85,
     "metadata": {},
     "output_type": "execute_result"
    }
   ],
   "source": [
    "df.sort_values(by='ratio_percent', ascending=False, inplace=True)\n",
    "df.head()"
   ]
  },
  {
   "cell_type": "code",
   "execution_count": 86,
   "metadata": {},
   "outputs": [
    {
     "data": {
      "text/html": [
       "<div>\n",
       "<style scoped>\n",
       "    .dataframe tbody tr th:only-of-type {\n",
       "        vertical-align: middle;\n",
       "    }\n",
       "\n",
       "    .dataframe tbody tr th {\n",
       "        vertical-align: top;\n",
       "    }\n",
       "\n",
       "    .dataframe thead th {\n",
       "        text-align: right;\n",
       "    }\n",
       "</style>\n",
       "<table border=\"1\" class=\"dataframe\">\n",
       "  <thead>\n",
       "    <tr style=\"text-align: right;\">\n",
       "      <th></th>\n",
       "      <th>review/helpfulness</th>\n",
       "      <th>Rating</th>\n",
       "      <th>Review</th>\n",
       "      <th>helpful_0</th>\n",
       "      <th>helpful_1</th>\n",
       "      <th>helpful_ratio</th>\n",
       "      <th>ratio_percent</th>\n",
       "      <th>review_len</th>\n",
       "      <th>IsHelpful</th>\n",
       "      <th>cleaned_reviews</th>\n",
       "    </tr>\n",
       "  </thead>\n",
       "  <tbody>\n",
       "    <tr>\n",
       "      <th>213761</th>\n",
       "      <td>26/29</td>\n",
       "      <td>5.0</td>\n",
       "      <td>When I passed the CCNA exam a year ago I used ...</td>\n",
       "      <td>26</td>\n",
       "      <td>29</td>\n",
       "      <td>0.896552</td>\n",
       "      <td>89</td>\n",
       "      <td>300</td>\n",
       "      <td>1</td>\n",
       "      <td>when i passed ccna exam year ago i used ccna s...</td>\n",
       "    </tr>\n",
       "    <tr>\n",
       "      <th>402877</th>\n",
       "      <td>22/23</td>\n",
       "      <td>5.0</td>\n",
       "      <td>This book is soooooo good. I read Pfanz Day On...</td>\n",
       "      <td>22</td>\n",
       "      <td>23</td>\n",
       "      <td>0.956522</td>\n",
       "      <td>95</td>\n",
       "      <td>300</td>\n",
       "      <td>1</td>\n",
       "      <td>this book soooooo good i read pfanz day one ma...</td>\n",
       "    </tr>\n",
       "    <tr>\n",
       "      <th>169861</th>\n",
       "      <td>35/47</td>\n",
       "      <td>3.0</td>\n",
       "      <td>I have bought Missing Manuals before, and have...</td>\n",
       "      <td>35</td>\n",
       "      <td>47</td>\n",
       "      <td>0.744681</td>\n",
       "      <td>74</td>\n",
       "      <td>300</td>\n",
       "      <td>1</td>\n",
       "      <td>i bought missing manual pleased i think motto ...</td>\n",
       "    </tr>\n",
       "    <tr>\n",
       "      <th>998174</th>\n",
       "      <td>7/20</td>\n",
       "      <td>5.0</td>\n",
       "      <td>I work in the game industry and have done so f...</td>\n",
       "      <td>7</td>\n",
       "      <td>20</td>\n",
       "      <td>0.350000</td>\n",
       "      <td>35</td>\n",
       "      <td>300</td>\n",
       "      <td>0</td>\n",
       "      <td>i work game industry done year i mainly create...</td>\n",
       "    </tr>\n",
       "    <tr>\n",
       "      <th>2145491</th>\n",
       "      <td>20/40</td>\n",
       "      <td>3.0</td>\n",
       "      <td>THIS IS A BOOK THAT MUST BE RECOMMENDED. IT MA...</td>\n",
       "      <td>20</td>\n",
       "      <td>40</td>\n",
       "      <td>0.500000</td>\n",
       "      <td>50</td>\n",
       "      <td>300</td>\n",
       "      <td>0</td>\n",
       "      <td>this is a book that must be recommended it may...</td>\n",
       "    </tr>\n",
       "  </tbody>\n",
       "</table>\n",
       "</div>"
      ],
      "text/plain": [
       "        review/helpfulness  Rating  \\\n",
       "213761               26/29     5.0   \n",
       "402877               22/23     5.0   \n",
       "169861               35/47     3.0   \n",
       "998174                7/20     5.0   \n",
       "2145491              20/40     3.0   \n",
       "\n",
       "                                                    Review  helpful_0  \\\n",
       "213761   When I passed the CCNA exam a year ago I used ...         26   \n",
       "402877   This book is soooooo good. I read Pfanz Day On...         22   \n",
       "169861   I have bought Missing Manuals before, and have...         35   \n",
       "998174   I work in the game industry and have done so f...          7   \n",
       "2145491  THIS IS A BOOK THAT MUST BE RECOMMENDED. IT MA...         20   \n",
       "\n",
       "         helpful_1  helpful_ratio  ratio_percent  review_len  IsHelpful  \\\n",
       "213761          29       0.896552             89         300          1   \n",
       "402877          23       0.956522             95         300          1   \n",
       "169861          47       0.744681             74         300          1   \n",
       "998174          20       0.350000             35         300          0   \n",
       "2145491         40       0.500000             50         300          0   \n",
       "\n",
       "                                           cleaned_reviews  \n",
       "213761   when i passed ccna exam year ago i used ccna s...  \n",
       "402877   this book soooooo good i read pfanz day one ma...  \n",
       "169861   i bought missing manual pleased i think motto ...  \n",
       "998174   i work game industry done year i mainly create...  \n",
       "2145491  this is a book that must be recommended it may...  "
      ]
     },
     "execution_count": 86,
     "metadata": {},
     "output_type": "execute_result"
    }
   ],
   "source": [
    "df.sort_values(by='review_len', ascending=False, inplace=True)\n",
    "df.head()"
   ]
  },
  {
   "cell_type": "markdown",
   "metadata": {},
   "source": [
    "### Data Prepossessing :ghost:"
   ]
  },
  {
   "cell_type": "code",
   "execution_count": 87,
   "metadata": {},
   "outputs": [],
   "source": [
    "def DataPrep(text) : \n",
    "    text = re.sub(r'\\d+', '', text) # numbers\n",
    "    text = re.sub(r'[^\\w\\s]', '', text) # special characters\n",
    "    \n",
    "    # tokenization \n",
    "    tokens = nltk.word_tokenize(text) \n",
    "    \n",
    "    # remove puncs \n",
    "    punc = list(punctuation)\n",
    "    words = [word for word in tokens if word not in punc]\n",
    "    \n",
    "    # remove stopwords \n",
    "    stop_words = set(stopwords.words('english'))\n",
    "    words = [word.lower() for word in words if not word in stop_words]\n",
    "    \n",
    "    # lemmatization \n",
    "    words = [lemma.lemmatize(word) for word in words]\n",
    "    \n",
    "    text = ' '.join(words)\n",
    "    \n",
    "    return text"
   ]
  },
  {
   "cell_type": "code",
   "execution_count": 88,
   "metadata": {},
   "outputs": [
    {
     "name": "stderr",
     "output_type": "stream",
     "text": [
      "100%|██████████| 137055/137055 [02:12<00:00, 1031.60it/s]\n"
     ]
    }
   ],
   "source": [
    "df['cleaned_reviews'] = df['Review'].progress_apply(DataPrep)"
   ]
  },
  {
   "cell_type": "code",
   "execution_count": 89,
   "metadata": {},
   "outputs": [
    {
     "data": {
      "text/html": [
       "<div>\n",
       "<style scoped>\n",
       "    .dataframe tbody tr th:only-of-type {\n",
       "        vertical-align: middle;\n",
       "    }\n",
       "\n",
       "    .dataframe tbody tr th {\n",
       "        vertical-align: top;\n",
       "    }\n",
       "\n",
       "    .dataframe thead th {\n",
       "        text-align: right;\n",
       "    }\n",
       "</style>\n",
       "<table border=\"1\" class=\"dataframe\">\n",
       "  <thead>\n",
       "    <tr style=\"text-align: right;\">\n",
       "      <th></th>\n",
       "      <th>review/helpfulness</th>\n",
       "      <th>Rating</th>\n",
       "      <th>Review</th>\n",
       "      <th>helpful_0</th>\n",
       "      <th>helpful_1</th>\n",
       "      <th>helpful_ratio</th>\n",
       "      <th>ratio_percent</th>\n",
       "      <th>review_len</th>\n",
       "      <th>IsHelpful</th>\n",
       "      <th>cleaned_reviews</th>\n",
       "    </tr>\n",
       "  </thead>\n",
       "  <tbody>\n",
       "    <tr>\n",
       "      <th>213761</th>\n",
       "      <td>26/29</td>\n",
       "      <td>5.0</td>\n",
       "      <td>When I passed the CCNA exam a year ago I used ...</td>\n",
       "      <td>26</td>\n",
       "      <td>29</td>\n",
       "      <td>0.896552</td>\n",
       "      <td>89</td>\n",
       "      <td>300</td>\n",
       "      <td>1</td>\n",
       "      <td>when i passed ccna exam year ago i used ccna s...</td>\n",
       "    </tr>\n",
       "    <tr>\n",
       "      <th>402877</th>\n",
       "      <td>22/23</td>\n",
       "      <td>5.0</td>\n",
       "      <td>This book is soooooo good. I read Pfanz Day On...</td>\n",
       "      <td>22</td>\n",
       "      <td>23</td>\n",
       "      <td>0.956522</td>\n",
       "      <td>95</td>\n",
       "      <td>300</td>\n",
       "      <td>1</td>\n",
       "      <td>this book soooooo good i read pfanz day one ma...</td>\n",
       "    </tr>\n",
       "    <tr>\n",
       "      <th>169861</th>\n",
       "      <td>35/47</td>\n",
       "      <td>3.0</td>\n",
       "      <td>I have bought Missing Manuals before, and have...</td>\n",
       "      <td>35</td>\n",
       "      <td>47</td>\n",
       "      <td>0.744681</td>\n",
       "      <td>74</td>\n",
       "      <td>300</td>\n",
       "      <td>1</td>\n",
       "      <td>i bought missing manual pleased i think motto ...</td>\n",
       "    </tr>\n",
       "    <tr>\n",
       "      <th>998174</th>\n",
       "      <td>7/20</td>\n",
       "      <td>5.0</td>\n",
       "      <td>I work in the game industry and have done so f...</td>\n",
       "      <td>7</td>\n",
       "      <td>20</td>\n",
       "      <td>0.350000</td>\n",
       "      <td>35</td>\n",
       "      <td>300</td>\n",
       "      <td>0</td>\n",
       "      <td>i work game industry done year i mainly create...</td>\n",
       "    </tr>\n",
       "    <tr>\n",
       "      <th>2145491</th>\n",
       "      <td>20/40</td>\n",
       "      <td>3.0</td>\n",
       "      <td>THIS IS A BOOK THAT MUST BE RECOMMENDED. IT MA...</td>\n",
       "      <td>20</td>\n",
       "      <td>40</td>\n",
       "      <td>0.500000</td>\n",
       "      <td>50</td>\n",
       "      <td>300</td>\n",
       "      <td>0</td>\n",
       "      <td>this is a book that must be recommended it may...</td>\n",
       "    </tr>\n",
       "  </tbody>\n",
       "</table>\n",
       "</div>"
      ],
      "text/plain": [
       "        review/helpfulness  Rating  \\\n",
       "213761               26/29     5.0   \n",
       "402877               22/23     5.0   \n",
       "169861               35/47     3.0   \n",
       "998174                7/20     5.0   \n",
       "2145491              20/40     3.0   \n",
       "\n",
       "                                                    Review  helpful_0  \\\n",
       "213761   When I passed the CCNA exam a year ago I used ...         26   \n",
       "402877   This book is soooooo good. I read Pfanz Day On...         22   \n",
       "169861   I have bought Missing Manuals before, and have...         35   \n",
       "998174   I work in the game industry and have done so f...          7   \n",
       "2145491  THIS IS A BOOK THAT MUST BE RECOMMENDED. IT MA...         20   \n",
       "\n",
       "         helpful_1  helpful_ratio  ratio_percent  review_len  IsHelpful  \\\n",
       "213761          29       0.896552             89         300          1   \n",
       "402877          23       0.956522             95         300          1   \n",
       "169861          47       0.744681             74         300          1   \n",
       "998174          20       0.350000             35         300          0   \n",
       "2145491         40       0.500000             50         300          0   \n",
       "\n",
       "                                           cleaned_reviews  \n",
       "213761   when i passed ccna exam year ago i used ccna s...  \n",
       "402877   this book soooooo good i read pfanz day one ma...  \n",
       "169861   i bought missing manual pleased i think motto ...  \n",
       "998174   i work game industry done year i mainly create...  \n",
       "2145491  this is a book that must be recommended it may...  "
      ]
     },
     "execution_count": 89,
     "metadata": {},
     "output_type": "execute_result"
    }
   ],
   "source": [
    "df.head()"
   ]
  },
  {
   "cell_type": "code",
   "execution_count": 90,
   "metadata": {},
   "outputs": [
    {
     "name": "stdout",
     "output_type": "stream",
     "text": [
      "There are around 0 duplicated reviews, we will remove them.\n"
     ]
    }
   ],
   "source": [
    "print(f'There are around {int(df[\"cleaned_reviews\"].duplicated().sum())} duplicated reviews, we will remove them.')"
   ]
  },
  {
   "cell_type": "code",
   "execution_count": 91,
   "metadata": {},
   "outputs": [],
   "source": [
    "df.drop_duplicates(\"cleaned_reviews\", inplace=True)"
   ]
  },
  {
   "cell_type": "markdown",
   "metadata": {},
   "source": [
    "### EDA"
   ]
  },
  {
   "cell_type": "code",
   "execution_count": 92,
   "metadata": {},
   "outputs": [
    {
     "data": {
      "image/png": "[encoded data removed]",
      "text/plain": [
       "<Figure size 1000x500 with 2 Axes>"
      ]
     },
     "metadata": {},
     "output_type": "display_data"
    }
   ],
   "source": [
    "label_count = df['IsHelpful'].value_counts()\n",
    "fig,axes = plt.subplots(nrows=1, ncols=2, figsize=(10,5))\n",
    "\n",
    "sns.set_theme(style='darkgrid', palette='pastel')\n",
    "color = sns.color_palette(palette='pastel')\n",
    "explode = [0.02]*len(label_count)\n",
    "\n",
    "axes[0].pie(label_count.values, labels=label_count.index, autopct='%1.1f%%', colors=color, explode=explode)\n",
    "axes[0].set_title('Percentage Label')\n",
    "\n",
    "#sns.countplot(df['Rating'] , ax=axes[1])\n",
    "counts = df['IsHelpful'].value_counts().sort_index()\n",
    "counts.plot.bar(color=color)\n",
    "axes[1].set_title('Count Label')\n",
    "axes[1].set_xlabel('Label')\n",
    "axes[1].set_ylabel('Count')\n",
    "\n",
    "plt.tight_layout()\n",
    "plt.show()"
   ]
  },
  {
   "cell_type": "markdown",
   "metadata": {},
   "source": [
    "### Split Data"
   ]
  },
  {
   "cell_type": "code",
   "execution_count": 93,
   "metadata": {},
   "outputs": [],
   "source": [
    "#iris = load_iris()\n",
    "x_train, x_val, y_train, y_val = train_test_split(df['cleaned_reviews'], df['IsHelpful'], train_size=0.80, random_state=42)"
   ]
  },
  {
   "cell_type": "code",
   "execution_count": 94,
   "metadata": {},
   "outputs": [
    {
     "data": {
      "text/plain": [
       "(109644, 27411)"
      ]
     },
     "execution_count": 94,
     "metadata": {},
     "output_type": "execute_result"
    }
   ],
   "source": [
    "len(x_train), len(x_val)"
   ]
  },
  {
   "cell_type": "markdown",
   "metadata": {},
   "source": [
    "### Feature Extraction"
   ]
  },
  {
   "cell_type": "code",
   "execution_count": 97,
   "metadata": {},
   "outputs": [
    {
     "name": "stdout",
     "output_type": "stream",
     "text": [
      "No. of feature words:  25000\n"
     ]
    }
   ],
   "source": [
    "# Options: max_features=50000, min_df=5, ngram_range=(1,2)\n",
    "vec = TfidfVectorizer(max_features=25000)\n",
    "vec.fit(x_train)\n",
    "print(\"No. of feature words: \",len(vec.get_feature_names_out()))"
   ]
  },
  {
   "cell_type": "code",
   "execution_count": 98,
   "metadata": {},
   "outputs": [],
   "source": [
    "x_train = vec.transform(x_train).toarray()\n",
    "x_val = vec.transform(x_val).toarray()"
   ]
  },
  {
   "cell_type": "code",
   "execution_count": 99,
   "metadata": {},
   "outputs": [
    {
     "data": {
      "text/plain": [
       "'\\nbatch_size = 1  # Ändere dies entsprechend deinem Speicherplatz\\nnum_batches_train = int(np.ceil(len(x_train) / batch_size))\\n\\nX_train_combined = None\\n\\nfor i in range(num_batches_train):\\n    start_idx = i * batch_size\\n    end_idx = (i + 1) * batch_size\\n    texts_train_batch = x_train[start_idx:end_idx]\\n    X_train_batch = vec.transform(texts_train_batch).toarray()\\n\\n    if X_train_combined is None:\\n        X_train_combined = X_train_batch\\n    else:\\n        X_train_combined = np.vstack((X_train_combined, X_train_batch))\\n\\n# Logistic Regression-Modell erstellen und anpassen\\nmodel = LogisticRegression(random_state=42)\\nmodel.fit(X_train_combined, y_train)\\n\\n# Batch-Verarbeitung für Testdaten\\nnum_batches_test = int(np.ceil(len(x_val) / batch_size))\\n\\nX_test_combined = None\\n\\nfor i in range(num_batches_test):\\n    start_idx = i * batch_size\\n    end_idx = (i + 1) * batch_size\\n    texts_test_batch = x_val[start_idx:end_idx]\\n    X_test_batch = vec.transform(texts_test_batch).toarray()\\n\\n    if X_test_combined is None:\\n        X_test_combined = X_test_batch\\n    else:\\n        X_test_combined = np.vstack((X_test_combined, X_test_batch))\\n\\n# Vorhersagen treffen und Genauigkeit berechnen\\ny_pred = model.predict(X_test_combined)\\naccuracy = accuracy_score(y_val, y_pred)\\n\\nprint(\"Genauigkeit:\", accuracy)\\n'"
      ]
     },
     "execution_count": 99,
     "metadata": {},
     "output_type": "execute_result"
    }
   ],
   "source": [
    "# Batch-Verarbeitung für Trainingsdaten\n",
    "\n",
    "\"\"\"\n",
    "batch_size = 1  # Ändere dies entsprechend deinem Speicherplatz\n",
    "num_batches_train = int(np.ceil(len(x_train) / batch_size))\n",
    "\n",
    "X_train_combined = None\n",
    "\n",
    "for i in range(num_batches_train):\n",
    "    start_idx = i * batch_size\n",
    "    end_idx = (i + 1) * batch_size\n",
    "    texts_train_batch = x_train[start_idx:end_idx]\n",
    "    X_train_batch = vec.transform(texts_train_batch).toarray()\n",
    "\n",
    "    if X_train_combined is None:\n",
    "        X_train_combined = X_train_batch\n",
    "    else:\n",
    "        X_train_combined = np.vstack((X_train_combined, X_train_batch))\n",
    "\n",
    "# Logistic Regression-Modell erstellen und anpassen\n",
    "model = LogisticRegression(random_state=42)\n",
    "model.fit(X_train_combined, y_train)\n",
    "\n",
    "# Batch-Verarbeitung für Testdaten\n",
    "num_batches_test = int(np.ceil(len(x_val) / batch_size))\n",
    "\n",
    "X_test_combined = None\n",
    "\n",
    "for i in range(num_batches_test):\n",
    "    start_idx = i * batch_size\n",
    "    end_idx = (i + 1) * batch_size\n",
    "    texts_test_batch = x_val[start_idx:end_idx]\n",
    "    X_test_batch = vec.transform(texts_test_batch).toarray()\n",
    "\n",
    "    if X_test_combined is None:\n",
    "        X_test_combined = X_test_batch\n",
    "    else:\n",
    "        X_test_combined = np.vstack((X_test_combined, X_test_batch))\n",
    "\n",
    "# Vorhersagen treffen und Genauigkeit berechnen\n",
    "y_pred = model.predict(X_test_combined)\n",
    "accuracy = accuracy_score(y_val, y_pred)\n",
    "\n",
    "print(\"Genauigkeit:\", accuracy)\n",
    "\"\"\""
   ]
  },
  {
   "cell_type": "code",
   "execution_count": 100,
   "metadata": {},
   "outputs": [
    {
     "data": {
      "text/plain": [
       "((109644, 25000), (27411, 25000))"
      ]
     },
     "execution_count": 100,
     "metadata": {},
     "output_type": "execute_result"
    }
   ],
   "source": [
    "x_train.shape , x_val.shape"
   ]
  },
  {
   "cell_type": "code",
   "execution_count": 115,
   "metadata": {},
   "outputs": [],
   "source": [
    "# Add 'len' feature to the TF-IDF transformed data\n",
    "#x_train_combined = np.column_stack((x_train, len_train))\n",
    "#x_val_combined = np.column_stack((x_val, len_val))"
   ]
  },
  {
   "cell_type": "code",
   "execution_count": 101,
   "metadata": {},
   "outputs": [],
   "source": [
    "#print(x_train_combined)"
   ]
  },
  {
   "cell_type": "code",
   "execution_count": 102,
   "metadata": {},
   "outputs": [],
   "source": [
    "#x_train_combined.shape, x_val_combined.shape"
   ]
  },
  {
   "cell_type": "markdown",
   "metadata": {},
   "source": [
    "### Logistic Regret"
   ]
  },
  {
   "cell_type": "markdown",
   "metadata": {},
   "source": [
    "### LR mit Review+IsHelpful"
   ]
  },
  {
   "cell_type": "code",
   "execution_count": 103,
   "metadata": {},
   "outputs": [
    {
     "data": {
      "text/html": [
       "<style>#sk-container-id-1 {color: black;}#sk-container-id-1 pre{padding: 0;}#sk-container-id-1 div.sk-toggleable {background-color: white;}#sk-container-id-1 label.sk-toggleable__label {cursor: pointer;display: block;width: 100%;margin-bottom: 0;padding: 0.3em;box-sizing: border-box;text-align: center;}#sk-container-id-1 label.sk-toggleable__label-arrow:before {content: \"▸\";float: left;margin-right: 0.25em;color: #696969;}#sk-container-id-1 label.sk-toggleable__label-arrow:hover:before {color: black;}#sk-container-id-1 div.sk-estimator:hover label.sk-toggleable__label-arrow:before {color: black;}#sk-container-id-1 div.sk-toggleable__content {max-height: 0;max-width: 0;overflow: hidden;text-align: left;background-color: #f0f8ff;}#sk-container-id-1 div.sk-toggleable__content pre {margin: 0.2em;color: black;border-radius: 0.25em;background-color: #f0f8ff;}#sk-container-id-1 input.sk-toggleable__control:checked~div.sk-toggleable__content {max-height: 200px;max-width: 100%;overflow: auto;}#sk-container-id-1 input.sk-toggleable__control:checked~label.sk-toggleable__label-arrow:before {content: \"▾\";}#sk-container-id-1 div.sk-estimator input.sk-toggleable__control:checked~label.sk-toggleable__label {background-color: #d4ebff;}#sk-container-id-1 div.sk-label input.sk-toggleable__control:checked~label.sk-toggleable__label {background-color: #d4ebff;}#sk-container-id-1 input.sk-hidden--visually {border: 0;clip: rect(1px 1px 1px 1px);clip: rect(1px, 1px, 1px, 1px);height: 1px;margin: -1px;overflow: hidden;padding: 0;position: absolute;width: 1px;}#sk-container-id-1 div.sk-estimator {font-family: monospace;background-color: #f0f8ff;border: 1px dotted black;border-radius: 0.25em;box-sizing: border-box;margin-bottom: 0.5em;}#sk-container-id-1 div.sk-estimator:hover {background-color: #d4ebff;}#sk-container-id-1 div.sk-parallel-item::after {content: \"\";width: 100%;border-bottom: 1px solid gray;flex-grow: 1;}#sk-container-id-1 div.sk-label:hover label.sk-toggleable__label {background-color: #d4ebff;}#sk-container-id-1 div.sk-serial::before {content: \"\";position: absolute;border-left: 1px solid gray;box-sizing: border-box;top: 0;bottom: 0;left: 50%;z-index: 0;}#sk-container-id-1 div.sk-serial {display: flex;flex-direction: column;align-items: center;background-color: white;padding-right: 0.2em;padding-left: 0.2em;position: relative;}#sk-container-id-1 div.sk-item {position: relative;z-index: 1;}#sk-container-id-1 div.sk-parallel {display: flex;align-items: stretch;justify-content: center;background-color: white;position: relative;}#sk-container-id-1 div.sk-item::before, #sk-container-id-1 div.sk-parallel-item::before {content: \"\";position: absolute;border-left: 1px solid gray;box-sizing: border-box;top: 0;bottom: 0;left: 50%;z-index: -1;}#sk-container-id-1 div.sk-parallel-item {display: flex;flex-direction: column;z-index: 1;position: relative;background-color: white;}#sk-container-id-1 div.sk-parallel-item:first-child::after {align-self: flex-end;width: 50%;}#sk-container-id-1 div.sk-parallel-item:last-child::after {align-self: flex-start;width: 50%;}#sk-container-id-1 div.sk-parallel-item:only-child::after {width: 0;}#sk-container-id-1 div.sk-dashed-wrapped {border: 1px dashed gray;margin: 0 0.4em 0.5em 0.4em;box-sizing: border-box;padding-bottom: 0.4em;background-color: white;}#sk-container-id-1 div.sk-label label {font-family: monospace;font-weight: bold;display: inline-block;line-height: 1.2em;}#sk-container-id-1 div.sk-label-container {text-align: center;}#sk-container-id-1 div.sk-container {/* jupyter's `normalize.less` sets `[hidden] { display: none; }` but bootstrap.min.css set `[hidden] { display: none !important; }` so we also need the `!important` here to be able to override the default hidden behavior on the sphinx rendered scikit-learn.org. See: https://github.com/scikit-learn/scikit-learn/issues/21755 */display: inline-block !important;position: relative;}#sk-container-id-1 div.sk-text-repr-fallback {display: none;}</style><div id=\"sk-container-id-1\" class=\"sk-top-container\"><div class=\"sk-text-repr-fallback\"><pre>LogisticRegression(random_state=42)</pre><b>In a Jupyter environment, please rerun this cell to show the HTML representation or trust the notebook. <br />On GitHub, the HTML representation is unable to render, please try loading this page with nbviewer.org.</b></div><div class=\"sk-container\" hidden><div class=\"sk-item\"><div class=\"sk-estimator sk-toggleable\"><input class=\"sk-toggleable__control sk-hidden--visually\" id=\"sk-estimator-id-1\" type=\"checkbox\" checked><label for=\"sk-estimator-id-1\" class=\"sk-toggleable__label sk-toggleable__label-arrow\">LogisticRegression</label><div class=\"sk-toggleable__content\"><pre>LogisticRegression(random_state=42)</pre></div></div></div></div></div>"
      ],
      "text/plain": [
       "LogisticRegression(random_state=42)"
      ]
     },
     "execution_count": 103,
     "metadata": {},
     "output_type": "execute_result"
    }
   ],
   "source": [
    "lr = LogisticRegression(random_state=42)\n",
    "lr.fit(x_train , y_train)"
   ]
  },
  {
   "cell_type": "code",
   "execution_count": 104,
   "metadata": {},
   "outputs": [],
   "source": [
    "train_acc1 = lr.score(x_train , y_train)"
   ]
  },
  {
   "cell_type": "code",
   "execution_count": 105,
   "metadata": {},
   "outputs": [],
   "source": [
    "lr_pred = lr.predict(x_val)\n",
    "\n",
    "val_acc1 = accuracy_score(y_val , lr_pred) \n",
    "\n",
    "val_precision1 = precision_score(y_val , lr_pred , average='weighted')\n",
    "val_recall1 = recall_score(y_val , lr_pred , average='weighted')\n",
    "val_f1score1 = f1_score(y_val , lr_pred , average='weighted')"
   ]
  },
  {
   "cell_type": "code",
   "execution_count": 106,
   "metadata": {},
   "outputs": [
    {
     "name": "stdout",
     "output_type": "stream",
     "text": [
      "The training accuracy for logistic regression : 82.97%\n",
      "\n",
      "The validation accuracy for logistic regression : 79.21%\n",
      "\n",
      "The precision for logistic regression : 0.79\n",
      "\n",
      "The recall for logistic regression : 0.79\n",
      "\n",
      "The f1 score for logistic regression : 0.79\n",
      "\n"
     ]
    }
   ],
   "source": [
    "print(f\"The training accuracy for logistic regression : {(train_acc1*100):0.2f}%\\n\")\n",
    "print(f\"The validation accuracy for logistic regression : {(val_acc1*100):0.2f}%\\n\")\n",
    "print(f\"The precision for logistic regression : {val_precision1:0.2f}\\n\")\n",
    "print(f\"The recall for logistic regression : {val_recall1:0.2f}\\n\")\n",
    "print(f\"The f1 score for logistic regression : {val_f1score1:0.2f}\\n\")"
   ]
  },
  {
   "cell_type": "code",
   "execution_count": 107,
   "metadata": {},
   "outputs": [
    {
     "data": {
      "image/png": "[encoded data removed]",
      "text/plain": [
       "<Figure size 640x480 with 2 Axes>"
      ]
     },
     "metadata": {},
     "output_type": "display_data"
    }
   ],
   "source": [
    "lr_cm = confusion_matrix(y_val , lr_pred)\n",
    "sns.heatmap(lr_cm, annot=True,fmt='3g')\n",
    "plt.show()"
   ]
  },
  {
   "cell_type": "markdown",
   "metadata": {},
   "source": [
    "### AB HIER WURDE NOCH NICHT WEITER AUSGEFÜHRT SEIT NEUEM DATENSATZ"
   ]
  },
  {
   "cell_type": "code",
   "execution_count": 143,
   "metadata": {},
   "outputs": [],
   "source": [
    "def predict_helpfulness(review_text):\n",
    "    # Vorverarbeitung des Texts (Tokenisierung, etc.)\n",
    "    preprocessed_text = DataPrep(review_text)  # Du müsstest deine eigene Vorverarbeitungsfunktion implementieren\n",
    "\n",
    "    # Umwandlung des vorverarbeiteten Texts in TF-IDF-Merkmale\n",
    "    tfidf_features = vec.transform([preprocessed_text])\n",
    "\n",
    "    # Vorhersage mit dem trainierten Logistic Regression-Modell\n",
    "    prediction = lr.predict(tfidf_features)\n",
    "\n",
    "    return prediction[0]"
   ]
  },
  {
   "cell_type": "code",
   "execution_count": 155,
   "metadata": {},
   "outputs": [
    {
     "data": {
      "text/plain": [
       "0"
      ]
     },
     "execution_count": 155,
     "metadata": {},
     "output_type": "execute_result"
    }
   ],
   "source": [
    "predict_helpfulness(\"Con: Christmas on the 24th of September. Pro: I love christmas!\")"
   ]
  },
  {
   "cell_type": "markdown",
   "metadata": {},
   "source": [
    "### LR mit Review+IsHelpful+Len"
   ]
  },
  {
   "cell_type": "code",
   "execution_count": 123,
   "metadata": {},
   "outputs": [
    {
     "data": {
      "text/html": [
       "<style>#sk-container-id-6 {color: black;}#sk-container-id-6 pre{padding: 0;}#sk-container-id-6 div.sk-toggleable {background-color: white;}#sk-container-id-6 label.sk-toggleable__label {cursor: pointer;display: block;width: 100%;margin-bottom: 0;padding: 0.3em;box-sizing: border-box;text-align: center;}#sk-container-id-6 label.sk-toggleable__label-arrow:before {content: \"▸\";float: left;margin-right: 0.25em;color: #696969;}#sk-container-id-6 label.sk-toggleable__label-arrow:hover:before {color: black;}#sk-container-id-6 div.sk-estimator:hover label.sk-toggleable__label-arrow:before {color: black;}#sk-container-id-6 div.sk-toggleable__content {max-height: 0;max-width: 0;overflow: hidden;text-align: left;background-color: #f0f8ff;}#sk-container-id-6 div.sk-toggleable__content pre {margin: 0.2em;color: black;border-radius: 0.25em;background-color: #f0f8ff;}#sk-container-id-6 input.sk-toggleable__control:checked~div.sk-toggleable__content {max-height: 200px;max-width: 100%;overflow: auto;}#sk-container-id-6 input.sk-toggleable__control:checked~label.sk-toggleable__label-arrow:before {content: \"▾\";}#sk-container-id-6 div.sk-estimator input.sk-toggleable__control:checked~label.sk-toggleable__label {background-color: #d4ebff;}#sk-container-id-6 div.sk-label input.sk-toggleable__control:checked~label.sk-toggleable__label {background-color: #d4ebff;}#sk-container-id-6 input.sk-hidden--visually {border: 0;clip: rect(1px 1px 1px 1px);clip: rect(1px, 1px, 1px, 1px);height: 1px;margin: -1px;overflow: hidden;padding: 0;position: absolute;width: 1px;}#sk-container-id-6 div.sk-estimator {font-family: monospace;background-color: #f0f8ff;border: 1px dotted black;border-radius: 0.25em;box-sizing: border-box;margin-bottom: 0.5em;}#sk-container-id-6 div.sk-estimator:hover {background-color: #d4ebff;}#sk-container-id-6 div.sk-parallel-item::after {content: \"\";width: 100%;border-bottom: 1px solid gray;flex-grow: 1;}#sk-container-id-6 div.sk-label:hover label.sk-toggleable__label {background-color: #d4ebff;}#sk-container-id-6 div.sk-serial::before {content: \"\";position: absolute;border-left: 1px solid gray;box-sizing: border-box;top: 0;bottom: 0;left: 50%;z-index: 0;}#sk-container-id-6 div.sk-serial {display: flex;flex-direction: column;align-items: center;background-color: white;padding-right: 0.2em;padding-left: 0.2em;position: relative;}#sk-container-id-6 div.sk-item {position: relative;z-index: 1;}#sk-container-id-6 div.sk-parallel {display: flex;align-items: stretch;justify-content: center;background-color: white;position: relative;}#sk-container-id-6 div.sk-item::before, #sk-container-id-6 div.sk-parallel-item::before {content: \"\";position: absolute;border-left: 1px solid gray;box-sizing: border-box;top: 0;bottom: 0;left: 50%;z-index: -1;}#sk-container-id-6 div.sk-parallel-item {display: flex;flex-direction: column;z-index: 1;position: relative;background-color: white;}#sk-container-id-6 div.sk-parallel-item:first-child::after {align-self: flex-end;width: 50%;}#sk-container-id-6 div.sk-parallel-item:last-child::after {align-self: flex-start;width: 50%;}#sk-container-id-6 div.sk-parallel-item:only-child::after {width: 0;}#sk-container-id-6 div.sk-dashed-wrapped {border: 1px dashed gray;margin: 0 0.4em 0.5em 0.4em;box-sizing: border-box;padding-bottom: 0.4em;background-color: white;}#sk-container-id-6 div.sk-label label {font-family: monospace;font-weight: bold;display: inline-block;line-height: 1.2em;}#sk-container-id-6 div.sk-label-container {text-align: center;}#sk-container-id-6 div.sk-container {/* jupyter's `normalize.less` sets `[hidden] { display: none; }` but bootstrap.min.css set `[hidden] { display: none !important; }` so we also need the `!important` here to be able to override the default hidden behavior on the sphinx rendered scikit-learn.org. See: https://github.com/scikit-learn/scikit-learn/issues/21755 */display: inline-block !important;position: relative;}#sk-container-id-6 div.sk-text-repr-fallback {display: none;}</style><div id=\"sk-container-id-6\" class=\"sk-top-container\"><div class=\"sk-text-repr-fallback\"><pre>LogisticRegression(random_state=42)</pre><b>In a Jupyter environment, please rerun this cell to show the HTML representation or trust the notebook. <br />On GitHub, the HTML representation is unable to render, please try loading this page with nbviewer.org.</b></div><div class=\"sk-container\" hidden><div class=\"sk-item\"><div class=\"sk-estimator sk-toggleable\"><input class=\"sk-toggleable__control sk-hidden--visually\" id=\"sk-estimator-id-6\" type=\"checkbox\" checked><label for=\"sk-estimator-id-6\" class=\"sk-toggleable__label sk-toggleable__label-arrow\">LogisticRegression</label><div class=\"sk-toggleable__content\"><pre>LogisticRegression(random_state=42)</pre></div></div></div></div></div>"
      ],
      "text/plain": [
       "LogisticRegression(random_state=42)"
      ]
     },
     "execution_count": 123,
     "metadata": {},
     "output_type": "execute_result"
    }
   ],
   "source": [
    "# Model mit review_len\n",
    "lr1 = LogisticRegression(random_state=42)\n",
    "lr1.fit(x_train_combined, y_train)"
   ]
  },
  {
   "cell_type": "code",
   "execution_count": 124,
   "metadata": {},
   "outputs": [],
   "source": [
    "train_acc1_2 = lr1.score(x_train_combined , y_train)"
   ]
  },
  {
   "cell_type": "code",
   "execution_count": 125,
   "metadata": {},
   "outputs": [],
   "source": [
    "lr1_pred = lr1.predict(x_val_combined)\n",
    "\n",
    "val_acc1_2 = accuracy_score(y_val , lr1_pred) \n",
    "\n",
    "val_precision1_2 = precision_score(y_val , lr1_pred , average='weighted')\n",
    "val_recall1_2 = recall_score(y_val , lr1_pred , average='weighted')\n",
    "val_f1score1_2 = f1_score(y_val , lr1_pred , average='weighted')"
   ]
  },
  {
   "cell_type": "code",
   "execution_count": 126,
   "metadata": {},
   "outputs": [
    {
     "name": "stdout",
     "output_type": "stream",
     "text": [
      "The training accuracy for logistic regression : 79.03%\n",
      "\n",
      "The validation accuracy for logistic regression : 75.85%\n",
      "\n",
      "The precision for logistic regression : 0.73\n",
      "\n",
      "The recall for logistic regression : 0.76\n",
      "\n",
      "The f1 score for logistic regression : 0.70\n",
      "\n"
     ]
    }
   ],
   "source": [
    "print(f\"The training accuracy for logistic regression : {(train_acc1_2*100):0.2f}%\\n\")\n",
    "print(f\"The validation accuracy for logistic regression : {(val_acc1_2*100):0.2f}%\\n\")\n",
    "print(f\"The precision for logistic regression : {val_precision1_2:0.2f}\\n\")\n",
    "print(f\"The recall for logistic regression : {val_recall1_2:0.2f}\\n\")\n",
    "print(f\"The f1 score for logistic regression : {val_f1score1_2:0.2f}\\n\")"
   ]
  },
  {
   "cell_type": "code",
   "execution_count": 127,
   "metadata": {},
   "outputs": [
    {
     "data": {
      "image/png": "[encoded data removed]",
      "text/plain": [
       "<Figure size 640x480 with 2 Axes>"
      ]
     },
     "metadata": {},
     "output_type": "display_data"
    }
   ],
   "source": [
    "lr1_cm = confusion_matrix(y_val , lr1_pred)\n",
    "sns.heatmap(lr1_cm, annot=True,fmt='3g')\n",
    "plt.show()"
   ]
  },
  {
   "cell_type": "code",
   "execution_count": null,
   "metadata": {},
   "outputs": [],
   "source": []
  },
  {
   "cell_type": "code",
   "execution_count": null,
   "metadata": {},
   "outputs": [],
   "source": []
  }
 ],
 "metadata": {
  "kernelspec": {
   "display_name": "Python 3",
   "language": "python",
   "name": "python3"
  },
  "language_info": {
   "codemirror_mode": {
    "name": "ipython",
    "version": 3
   },
   "file_extension": ".py",
   "mimetype": "text/x-python",
   "name": "python",
   "nbconvert_exporter": "python",
   "pygments_lexer": "ipython3",
   "version": "3.11.4"
  }
 },
 "nbformat": 4,
 "nbformat_minor": 2
}
