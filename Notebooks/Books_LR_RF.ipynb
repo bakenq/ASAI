{
 "cells": [
  {
   "cell_type": "markdown",
   "metadata": {},
   "source": [
    "# Books Dataset 2 Basic Models"
   ]
  },
  {
   "cell_type": "code",
   "execution_count": 1,
   "metadata": {},
   "outputs": [],
   "source": [
    "import warnings\n",
    "warnings.filterwarnings('ignore')\n",
    "\n",
    "#General Data/Plotting\n",
    "import pandas as pd \n",
    "import numpy as np \n",
    "import matplotlib.pyplot as plt \n",
    "import seaborn as sns \n",
    "from tqdm.auto import tqdm \n",
    "import random\n",
    "\n",
    "# Language\n",
    "import nltk \n",
    "from nltk.corpus import stopwords\n",
    "from nltk.stem import WordNetLemmatizer \n",
    "import re \n",
    "from collections import Counter\n",
    "from string import punctuation\n",
    "\n",
    "# Modeling\n",
    "from sklearn.feature_extraction.text import TfidfVectorizer\n",
    "from sklearn.model_selection import train_test_split \n",
    "from sklearn.metrics import precision_score, recall_score , f1_score, accuracy_score,confusion_matrix\n",
    "\n",
    "from sklearn.linear_model import LogisticRegression\n",
    "from sklearn.ensemble import RandomForestClassifier\n",
    "\n",
    "\n",
    "import tensorflow as tf \n",
    "from tensorflow import keras \n",
    "from tensorflow.keras.preprocessing.text import Tokenizer \n",
    "from tensorflow.keras.preprocessing.sequence import pad_sequences\n",
    "from tensorflow.keras import Sequential \n",
    "from tensorflow.keras.metrics import Precision, Recall\n",
    "from tensorflow.keras.layers import Dense , Embedding , Bidirectional , LSTM\n",
    "\n",
    "lemma = WordNetLemmatizer()"
   ]
  },
  {
   "cell_type": "code",
   "execution_count": 2,
   "metadata": {},
   "outputs": [
    {
     "data": {
      "text/html": [
       "<div>\n",
       "<style scoped>\n",
       "    .dataframe tbody tr th:only-of-type {\n",
       "        vertical-align: middle;\n",
       "    }\n",
       "\n",
       "    .dataframe tbody tr th {\n",
       "        vertical-align: top;\n",
       "    }\n",
       "\n",
       "    .dataframe thead th {\n",
       "        text-align: right;\n",
       "    }\n",
       "</style>\n",
       "<table border=\"1\" class=\"dataframe\">\n",
       "  <thead>\n",
       "    <tr style=\"text-align: right;\">\n",
       "      <th></th>\n",
       "      <th>Title</th>\n",
       "      <th>helpful</th>\n",
       "      <th>Rating</th>\n",
       "      <th>Title.1</th>\n",
       "      <th>Review</th>\n",
       "      <th>helpful_0</th>\n",
       "      <th>helpful_1</th>\n",
       "      <th>ratio_percent</th>\n",
       "      <th>review_len</th>\n",
       "      <th>IsHelpful</th>\n",
       "      <th>cleaned_reviews</th>\n",
       "    </tr>\n",
       "  </thead>\n",
       "  <tbody>\n",
       "    <tr>\n",
       "      <th>0</th>\n",
       "      <td>Alaska Sourdough</td>\n",
       "      <td>36/37</td>\n",
       "      <td>5.0</td>\n",
       "      <td>Real Alaskan Sourdough</td>\n",
       "      <td>Ruth Allman has written an excellent book abou...</td>\n",
       "      <td>36</td>\n",
       "      <td>37</td>\n",
       "      <td>97</td>\n",
       "      <td>153</td>\n",
       "      <td>1</td>\n",
       "      <td>ruth allman written excellent book alaskan sou...</td>\n",
       "    </tr>\n",
       "    <tr>\n",
       "      <th>1</th>\n",
       "      <td>Alaska Sourdough</td>\n",
       "      <td>29/30</td>\n",
       "      <td>5.0</td>\n",
       "      <td>True Alaskan cooking</td>\n",
       "      <td>I have been using this book since 1988, the ei...</td>\n",
       "      <td>29</td>\n",
       "      <td>30</td>\n",
       "      <td>96</td>\n",
       "      <td>63</td>\n",
       "      <td>1</td>\n",
       "      <td>i using book since eighth printing i honestly ...</td>\n",
       "    </tr>\n",
       "    <tr>\n",
       "      <th>2</th>\n",
       "      <td>Alaska Sourdough</td>\n",
       "      <td>25/28</td>\n",
       "      <td>5.0</td>\n",
       "      <td>Cheechako to Sourdough in 190 Pages</td>\n",
       "      <td>My poor dogeared, stained copy of this book ca...</td>\n",
       "      <td>25</td>\n",
       "      <td>28</td>\n",
       "      <td>89</td>\n",
       "      <td>206</td>\n",
       "      <td>1</td>\n",
       "      <td>my poor dogeared stained copy book came way da...</td>\n",
       "    </tr>\n",
       "    <tr>\n",
       "      <th>3</th>\n",
       "      <td>Eyewitness Travel Guide to Europe</td>\n",
       "      <td>3/20</td>\n",
       "      <td>1.0</td>\n",
       "      <td>Disappointed Romanian!</td>\n",
       "      <td>This book in my opinion is biased and takes an...</td>\n",
       "      <td>3</td>\n",
       "      <td>20</td>\n",
       "      <td>15</td>\n",
       "      <td>92</td>\n",
       "      <td>0</td>\n",
       "      <td>this book opinion biased take angle europe cle...</td>\n",
       "    </tr>\n",
       "    <tr>\n",
       "      <th>4</th>\n",
       "      <td>Eyewitness Travel Guide to Europe</td>\n",
       "      <td>20/20</td>\n",
       "      <td>5.0</td>\n",
       "      <td>Going to Europe? Get this book!</td>\n",
       "      <td>If you're already a fan of the Eyewitness Trav...</td>\n",
       "      <td>20</td>\n",
       "      <td>20</td>\n",
       "      <td>100</td>\n",
       "      <td>234</td>\n",
       "      <td>1</td>\n",
       "      <td>if youre already fan eyewitness travel guide s...</td>\n",
       "    </tr>\n",
       "  </tbody>\n",
       "</table>\n",
       "</div>"
      ],
      "text/plain": [
       "                               Title helpful  Rating  \\\n",
       "0                   Alaska Sourdough   36/37     5.0   \n",
       "1                   Alaska Sourdough   29/30     5.0   \n",
       "2                   Alaska Sourdough   25/28     5.0   \n",
       "3  Eyewitness Travel Guide to Europe    3/20     1.0   \n",
       "4  Eyewitness Travel Guide to Europe   20/20     5.0   \n",
       "\n",
       "                               Title.1  \\\n",
       "0               Real Alaskan Sourdough   \n",
       "1                 True Alaskan cooking   \n",
       "2  Cheechako to Sourdough in 190 Pages   \n",
       "3               Disappointed Romanian!   \n",
       "4      Going to Europe? Get this book!   \n",
       "\n",
       "                                              Review  helpful_0  helpful_1  \\\n",
       "0  Ruth Allman has written an excellent book abou...         36         37   \n",
       "1  I have been using this book since 1988, the ei...         29         30   \n",
       "2  My poor dogeared, stained copy of this book ca...         25         28   \n",
       "3  This book in my opinion is biased and takes an...          3         20   \n",
       "4  If you're already a fan of the Eyewitness Trav...         20         20   \n",
       "\n",
       "   ratio_percent  review_len  IsHelpful  \\\n",
       "0             97         153          1   \n",
       "1             96          63          1   \n",
       "2             89         206          1   \n",
       "3             15          92          0   \n",
       "4            100         234          1   \n",
       "\n",
       "                                     cleaned_reviews  \n",
       "0  ruth allman written excellent book alaskan sou...  \n",
       "1  i using book since eighth printing i honestly ...  \n",
       "2  my poor dogeared stained copy book came way da...  \n",
       "3  this book opinion biased take angle europe cle...  \n",
       "4  if youre already fan eyewitness travel guide s...  "
      ]
     },
     "execution_count": 2,
     "metadata": {},
     "output_type": "execute_result"
    }
   ],
   "source": [
    "df = pd.read_csv('../Datasets/Modified_Books_rating.csv')\n",
    "df.head()"
   ]
  },
  {
   "cell_type": "code",
   "execution_count": 3,
   "metadata": {},
   "outputs": [
    {
     "data": {
      "image/png": "[encoded data removed]",
      "text/plain": [
       "<Figure size 1600x500 with 1 Axes>"
      ]
     },
     "metadata": {},
     "output_type": "display_data"
    }
   ],
   "source": [
    "# evaluate most used words\n",
    "def MostWordsUsed(txt , n_words) : \n",
    "    all_text = ''.join(df[txt].values) \n",
    "    \n",
    "    all_text = re.sub(r'\\d+', '', all_text) # numbers\n",
    "    all_text = re.sub(r'[^\\w\\s]', '', all_text) # special characters\n",
    "    \n",
    "    words = all_text.split() \n",
    "    \n",
    "    word_counts = Counter(words)\n",
    "    \n",
    "    top_words = word_counts.most_common(n_words)\n",
    "    \n",
    "    return top_words\n",
    "\n",
    "top_words = MostWordsUsed('Review' , 40)\n",
    "\n",
    "xaxis = [word[0] for word in top_words]\n",
    "yaxis = [word[1] for word in top_words]\n",
    "\n",
    "plt.figure(figsize=(16,5))\n",
    "plt.bar(xaxis , yaxis)\n",
    "plt.xlabel('Word')\n",
    "plt.ylabel('Frequency')\n",
    "plt.title('Most Commonly Used Words', fontsize=25)\n",
    "plt.xticks(rotation=45)\n",
    "plt.subplots_adjust(bottom=0.15)\n",
    "plt.show()"
   ]
  },
  {
   "cell_type": "code",
   "execution_count": 4,
   "metadata": {},
   "outputs": [
    {
     "data": {
      "text/plain": [
       "(109644, 27411)"
      ]
     },
     "execution_count": 4,
     "metadata": {},
     "output_type": "execute_result"
    }
   ],
   "source": [
    "# split data into training set and validation set\n",
    "# 'cleand_reviews' as feature variable and 'IsHelpful' as target that is to be predicted for training\n",
    "# 80% of the data will be used for training\n",
    "x_train , x_val , y_train , y_val = train_test_split(df['cleaned_reviews'] , df['IsHelpful'] , train_size = 0.80 , random_state = 42)\n",
    "len(x_train) , len(x_val)"
   ]
  },
  {
   "cell_type": "code",
   "execution_count": 5,
   "metadata": {},
   "outputs": [
    {
     "name": "stdout",
     "output_type": "stream",
     "text": [
      "No. of feature words:  297756\n"
     ]
    }
   ],
   "source": [
    "# feature extraction\n",
    "# \"feature words\" = eindeutigen Wörter oder Terme im Vokabular, die als Features für die Darstellung der Dokumente verwendet werden. Jedes Dokument wird als Vektor von TF-IDF-Werten für diese feature words dargestellt.\n",
    "\n",
    "# Replace NaN with empty string\n",
    "x_train = x_train.replace(np.nan, '', regex=True)\n",
    "\n",
    "# Feature extraction\n",
    "vec = TfidfVectorizer()\n",
    "vec.fit(x_train)\n",
    "print(\"No. of feature words: \", len(vec.get_feature_names_out()))"
   ]
  },
  {
   "cell_type": "code",
   "execution_count": 6,
   "metadata": {},
   "outputs": [],
   "source": [
    "x_train = vec.transform(x_train).toarray()\n",
    "x_val = vec.transform(x_val).toarray()"
   ]
  },
  {
   "cell_type": "markdown",
   "metadata": {},
   "source": [
    "## Logistic Regression"
   ]
  },
  {
   "cell_type": "code",
   "execution_count": 7,
   "metadata": {},
   "outputs": [
    {
     "ename": "",
     "evalue": "",
     "output_type": "error",
     "traceback": [
      "\u001b[1;31mThe Kernel crashed while executing code in the the current cell or a previous cell. Please review the code in the cell(s) to identify a possible cause of the failure. Click <a href='https://aka.ms/vscodeJupyterKernelCrash'>here</a> for more info. View Jupyter <a href='command:jupyter.viewOutput'>log</a> for further details."
     ]
    }
   ],
   "source": [
    "lr = LogisticRegression(random_state=42)\n",
    "lr.fit(x_train , y_train)"
   ]
  },
  {
   "cell_type": "code",
   "execution_count": null,
   "metadata": {},
   "outputs": [],
   "source": [
    "train_acc1 = lr.score(x_train , y_train)\n",
    "\n",
    "lr_pred = lr.predict(x_val)\n",
    "\n",
    "val_acc1 = accuracy_score(y_val , lr_pred) \n",
    "\n",
    "val_precision1 = precision_score(y_val , lr_pred , average='weighted')\n",
    "val_recall1 = recall_score(y_val , lr_pred , average='weighted')\n",
    "val_f1score1 = f1_score(y_val , lr_pred , average='weighted')\n",
    "\n",
    "print(f\"The training accuracy for logistic regression : {(train_acc1*100):0.2f}%\\n\")\n",
    "print(f\"The validation accuracy for logistic regression : {(val_acc1*100):0.2f}%\\n\")\n",
    "print(f\"The precision for logistic regression : {val_precision1:0.2f}\\n\")\n",
    "print(f\"The recall for logistic regression : {val_recall1:0.2f}\\n\")\n",
    "print(f\"The f1 score for logistic regression : {val_f1score1:0.2f}\\n\")"
   ]
  },
  {
   "cell_type": "code",
   "execution_count": null,
   "metadata": {},
   "outputs": [],
   "source": [
    "lr_cm = confusion_matrix(y_val , lr_pred)\n",
    "sns.heatmap(lr_cm, annot=True,fmt='3g')\n",
    "plt.show()"
   ]
  },
  {
   "cell_type": "markdown",
   "metadata": {},
   "source": [
    "## Random Forest"
   ]
  },
  {
   "cell_type": "code",
   "execution_count": null,
   "metadata": {},
   "outputs": [],
   "source": [
    "rf = RandomForestClassifier()\n",
    "rf.fit(x_train , y_train)"
   ]
  },
  {
   "cell_type": "code",
   "execution_count": null,
   "metadata": {},
   "outputs": [],
   "source": [
    "train_acc2 = rf.score(x_train , y_train)\n",
    "\n",
    "rf_pred = rf.predict(x_val)\n",
    "\n",
    "val_acc2 = accuracy_score(y_val , lr_pred) \n",
    "\n",
    "val_precision2 = precision_score(y_val , rf_pred , average='weighted')\n",
    "val_recall2 = recall_score(y_val , rf_pred , average='weighted')\n",
    "val_f1score2 = f1_score(y_val , rf_pred , average='weighted')\n",
    "\n",
    "print(f\"The training accuracy for Random Forest : {(train_acc2*100):0.2f}%\\n\")\n",
    "print(f\"The validation accuracy for Random Forest : {(val_acc2*100):0.2f}%\\n\")\n",
    "print(f\"The precision for Random Forest : {val_precision2:0.2f}\\n\")\n",
    "print(f\"The recall for Random Forest : {val_recall2:0.2f}\\n\")\n",
    "print(f\"The f1 score for Random Forest : {val_f1score2:0.2f}\\n\")"
   ]
  },
  {
   "cell_type": "code",
   "execution_count": null,
   "metadata": {},
   "outputs": [],
   "source": [
    "rf_cm = confusion_matrix(y_val , rf_pred)\n",
    "sns.heatmap(lr_cm, annot=True,fmt='3g')\n",
    "plt.show()"
   ]
  },
  {
   "cell_type": "markdown",
   "metadata": {},
   "source": [
    "## Compare Models"
   ]
  },
  {
   "cell_type": "code",
   "execution_count": null,
   "metadata": {},
   "outputs": [],
   "source": [
    "train_scores=[train_acc1,train_acc2]\n",
    "val_scores=[val_acc1,val_acc2]\n",
    "\n",
    "models = ['Logistic Regression','RandomForest']\n",
    "\n",
    "x = np.arange(len(models))\n",
    "\n",
    "width = 0.25\n",
    "\n",
    "fig, ax = plt.subplots(figsize=(20, 10))\n",
    "\n",
    "rects1 = ax.bar(x - width, train_scores, width, label='Train Accuracy')\n",
    "\n",
    "rects2 = ax.bar(x + width, val_scores, width, label='Validation Accuracy')\n",
    "\n",
    "ax.set_xlabel('Models')\n",
    "ax.set_ylabel('Accuracy')\n",
    "ax.set_title('Comparison of Training and Validation Accuracies')\n",
    "ax.set_xticks(x)\n",
    "ax.set_xticklabels(models)\n",
    "ax.legend()\n",
    "\n",
    "def autolabel(rects):\n",
    "    for rect in rects:\n",
    "        height = rect.get_height()\n",
    "        ax.annotate('{:.3f}'.format(height),\n",
    "                    xy=(rect.get_x() + rect.get_width() / 2, height),\n",
    "                    xytext=(0, 2),\n",
    "                    textcoords=\"offset points\",\n",
    "                    ha='center', va='bottom')\n",
    "\n",
    "autolabel(rects1)\n",
    "autolabel(rects2)\n",
    "\n",
    "plt.show()\n"
   ]
  },
  {
   "cell_type": "code",
   "execution_count": null,
   "metadata": {},
   "outputs": [],
   "source": []
  },
  {
   "cell_type": "code",
   "execution_count": null,
   "metadata": {},
   "outputs": [],
   "source": []
  },
  {
   "cell_type": "code",
   "execution_count": null,
   "metadata": {},
   "outputs": [],
   "source": []
  },
  {
   "cell_type": "code",
   "execution_count": null,
   "metadata": {},
   "outputs": [],
   "source": []
  }
 ],
 "metadata": {
  "kernelspec": {
   "display_name": "Python 3",
   "language": "python",
   "name": "python3"
  },
  "language_info": {
   "codemirror_mode": {
    "name": "ipython",
    "version": 3
   },
   "file_extension": ".py",
   "mimetype": "text/x-python",
   "name": "python",
   "nbconvert_exporter": "python",
   "pygments_lexer": "ipython3",
   "version": "3.9.6"
  }
 },
 "nbformat": 4,
 "nbformat_minor": 2
}
