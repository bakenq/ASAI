{
 "cells": [
  {
   "cell_type": "code",
   "execution_count": 83,
   "metadata": {},
   "outputs": [],
   "source": [
    "import warnings\n",
    "warnings.filterwarnings('ignore')\n",
    "\n",
    "#General Data/Plotting\n",
    "import pandas as pd \n",
    "import numpy as np \n",
    "import matplotlib.pyplot as plt \n",
    "import seaborn as sns \n",
    "from tqdm.auto import tqdm \n",
    "import random\n",
    "\n",
    "# Language\n",
    "import nltk \n",
    "from nltk.corpus import stopwords\n",
    "from nltk.stem import WordNetLemmatizer \n",
    "import re \n",
    "from collections import Counter\n",
    "from string import punctuation\n",
    "\n",
    "# Modeling\n",
    "from sklearn.feature_extraction.text import TfidfVectorizer\n",
    "from sklearn.model_selection import train_test_split \n",
    "from sklearn.metrics import precision_score, recall_score , f1_score, accuracy_score,confusion_matrix\n",
    "\n",
    "from sklearn.linear_model import LogisticRegression\n",
    "from sklearn.ensemble import RandomForestClassifier\n",
    "\n",
    "\n",
    "import tensorflow as tf \n",
    "from tensorflow import keras \n",
    "from tensorflow.keras.preprocessing.text import Tokenizer \n",
    "from tensorflow.keras.preprocessing.sequence import pad_sequences\n",
    "from tensorflow.keras import Sequential \n",
    "from tensorflow.keras.metrics import Precision, Recall\n",
    "from tensorflow.keras.layers import Dense , Embedding , Bidirectional , LSTM\n",
    "\n",
    "lemma = WordNetLemmatizer()"
   ]
  },
  {
   "cell_type": "code",
   "execution_count": 84,
   "metadata": {},
   "outputs": [],
   "source": [
    "df = pd.read_json('../Datasets/Cell_Phones_and_Accessories_5.json', lines=True)"
   ]
  },
  {
   "cell_type": "code",
   "execution_count": 85,
   "metadata": {},
   "outputs": [],
   "source": [
    "df['helpful_0'] = df['helpful'].apply(func=lambda x: x[0])\n",
    "df['helpful_1'] = df['helpful'].apply(func=lambda x: x[1])\n"
   ]
  },
  {
   "cell_type": "code",
   "execution_count": 86,
   "metadata": {},
   "outputs": [
    {
     "data": {
      "text/html": [
       "<div>\n",
       "<style scoped>\n",
       "    .dataframe tbody tr th:only-of-type {\n",
       "        vertical-align: middle;\n",
       "    }\n",
       "\n",
       "    .dataframe tbody tr th {\n",
       "        vertical-align: top;\n",
       "    }\n",
       "\n",
       "    .dataframe thead th {\n",
       "        text-align: right;\n",
       "    }\n",
       "</style>\n",
       "<table border=\"1\" class=\"dataframe\">\n",
       "  <thead>\n",
       "    <tr style=\"text-align: right;\">\n",
       "      <th></th>\n",
       "      <th>reviewerID</th>\n",
       "      <th>asin</th>\n",
       "      <th>reviewerName</th>\n",
       "      <th>helpful</th>\n",
       "      <th>reviewText</th>\n",
       "      <th>overall</th>\n",
       "      <th>summary</th>\n",
       "      <th>unixReviewTime</th>\n",
       "      <th>reviewTime</th>\n",
       "      <th>helpful_0</th>\n",
       "      <th>helpful_1</th>\n",
       "    </tr>\n",
       "  </thead>\n",
       "  <tbody>\n",
       "    <tr>\n",
       "      <th>3</th>\n",
       "      <td>AWJ0WZQYMYFQ4</td>\n",
       "      <td>120401325X</td>\n",
       "      <td>JM</td>\n",
       "      <td>[4, 4]</td>\n",
       "      <td>Item arrived in great time and was in perfect ...</td>\n",
       "      <td>4</td>\n",
       "      <td>Cute!</td>\n",
       "      <td>1382313600</td>\n",
       "      <td>10 21, 2013</td>\n",
       "      <td>4</td>\n",
       "      <td>4</td>\n",
       "    </tr>\n",
       "    <tr>\n",
       "      <th>4</th>\n",
       "      <td>ATX7CZYFXI1KW</td>\n",
       "      <td>120401325X</td>\n",
       "      <td>patrice m rogoza</td>\n",
       "      <td>[2, 3]</td>\n",
       "      <td>awesome! stays on, and looks great. can be use...</td>\n",
       "      <td>5</td>\n",
       "      <td>leopard home button sticker for iphone 4s</td>\n",
       "      <td>1359849600</td>\n",
       "      <td>02 3, 2013</td>\n",
       "      <td>2</td>\n",
       "      <td>3</td>\n",
       "    </tr>\n",
       "    <tr>\n",
       "      <th>5</th>\n",
       "      <td>APX47D16JOP7H</td>\n",
       "      <td>120401325X</td>\n",
       "      <td>RLH</td>\n",
       "      <td>[1, 2]</td>\n",
       "      <td>These make using the home button easy. My daug...</td>\n",
       "      <td>3</td>\n",
       "      <td>Cute</td>\n",
       "      <td>1381536000</td>\n",
       "      <td>10 12, 2013</td>\n",
       "      <td>1</td>\n",
       "      <td>2</td>\n",
       "    </tr>\n",
       "    <tr>\n",
       "      <th>7</th>\n",
       "      <td>A6FGO4TBZ3QFZ</td>\n",
       "      <td>3998899561</td>\n",
       "      <td>Abdullah Albyati</td>\n",
       "      <td>[1, 2]</td>\n",
       "      <td>it worked for the first week then it only char...</td>\n",
       "      <td>1</td>\n",
       "      <td>not a good Idea</td>\n",
       "      <td>1384992000</td>\n",
       "      <td>11 21, 2013</td>\n",
       "      <td>1</td>\n",
       "      <td>2</td>\n",
       "    </tr>\n",
       "    <tr>\n",
       "      <th>8</th>\n",
       "      <td>A2JWEDW5FSVB0F</td>\n",
       "      <td>3998899561</td>\n",
       "      <td>Adam</td>\n",
       "      <td>[2, 3]</td>\n",
       "      <td>Good case, solid build. Protects phone all aro...</td>\n",
       "      <td>5</td>\n",
       "      <td>Solid Case</td>\n",
       "      <td>1380067200</td>\n",
       "      <td>09 25, 2013</td>\n",
       "      <td>2</td>\n",
       "      <td>3</td>\n",
       "    </tr>\n",
       "  </tbody>\n",
       "</table>\n",
       "</div>"
      ],
      "text/plain": [
       "       reviewerID        asin      reviewerName helpful  \\\n",
       "3   AWJ0WZQYMYFQ4  120401325X                JM  [4, 4]   \n",
       "4   ATX7CZYFXI1KW  120401325X  patrice m rogoza  [2, 3]   \n",
       "5   APX47D16JOP7H  120401325X               RLH  [1, 2]   \n",
       "7   A6FGO4TBZ3QFZ  3998899561  Abdullah Albyati  [1, 2]   \n",
       "8  A2JWEDW5FSVB0F  3998899561              Adam  [2, 3]   \n",
       "\n",
       "                                          reviewText  overall  \\\n",
       "3  Item arrived in great time and was in perfect ...        4   \n",
       "4  awesome! stays on, and looks great. can be use...        5   \n",
       "5  These make using the home button easy. My daug...        3   \n",
       "7  it worked for the first week then it only char...        1   \n",
       "8  Good case, solid build. Protects phone all aro...        5   \n",
       "\n",
       "                                     summary  unixReviewTime   reviewTime  \\\n",
       "3                                      Cute!      1382313600  10 21, 2013   \n",
       "4  leopard home button sticker for iphone 4s      1359849600   02 3, 2013   \n",
       "5                                       Cute      1381536000  10 12, 2013   \n",
       "7                            not a good Idea      1384992000  11 21, 2013   \n",
       "8                                 Solid Case      1380067200  09 25, 2013   \n",
       "\n",
       "   helpful_0  helpful_1  \n",
       "3          4          4  \n",
       "4          2          3  \n",
       "5          1          2  \n",
       "7          1          2  \n",
       "8          2          3  "
      ]
     },
     "execution_count": 86,
     "metadata": {},
     "output_type": "execute_result"
    }
   ],
   "source": [
    "# Remove Reviews that have less than 2 helpful votes\n",
    "df = df[df['helpful_1'] >= 2]\n",
    "df.head()"
   ]
  },
  {
   "cell_type": "code",
   "execution_count": 87,
   "metadata": {},
   "outputs": [],
   "source": [
    "df['helpful_ratio'] = df['helpful_0'] / df['helpful_1']\n"
   ]
  },
  {
   "cell_type": "code",
   "execution_count": 88,
   "metadata": {},
   "outputs": [
    {
     "data": {
      "text/html": [
       "<div>\n",
       "<style scoped>\n",
       "    .dataframe tbody tr th:only-of-type {\n",
       "        vertical-align: middle;\n",
       "    }\n",
       "\n",
       "    .dataframe tbody tr th {\n",
       "        vertical-align: top;\n",
       "    }\n",
       "\n",
       "    .dataframe thead th {\n",
       "        text-align: right;\n",
       "    }\n",
       "</style>\n",
       "<table border=\"1\" class=\"dataframe\">\n",
       "  <thead>\n",
       "    <tr style=\"text-align: right;\">\n",
       "      <th></th>\n",
       "      <th>reviewerID</th>\n",
       "      <th>asin</th>\n",
       "      <th>reviewerName</th>\n",
       "      <th>helpful</th>\n",
       "      <th>reviewText</th>\n",
       "      <th>overall</th>\n",
       "      <th>summary</th>\n",
       "      <th>unixReviewTime</th>\n",
       "      <th>reviewTime</th>\n",
       "      <th>helpful_0</th>\n",
       "      <th>helpful_1</th>\n",
       "      <th>helpful_ratio</th>\n",
       "      <th>ratio_percent</th>\n",
       "    </tr>\n",
       "  </thead>\n",
       "  <tbody>\n",
       "    <tr>\n",
       "      <th>3</th>\n",
       "      <td>AWJ0WZQYMYFQ4</td>\n",
       "      <td>120401325X</td>\n",
       "      <td>JM</td>\n",
       "      <td>[4, 4]</td>\n",
       "      <td>Item arrived in great time and was in perfect ...</td>\n",
       "      <td>4</td>\n",
       "      <td>Cute!</td>\n",
       "      <td>1382313600</td>\n",
       "      <td>10 21, 2013</td>\n",
       "      <td>4</td>\n",
       "      <td>4</td>\n",
       "      <td>1.000000</td>\n",
       "      <td>100</td>\n",
       "    </tr>\n",
       "    <tr>\n",
       "      <th>4</th>\n",
       "      <td>ATX7CZYFXI1KW</td>\n",
       "      <td>120401325X</td>\n",
       "      <td>patrice m rogoza</td>\n",
       "      <td>[2, 3]</td>\n",
       "      <td>awesome! stays on, and looks great. can be use...</td>\n",
       "      <td>5</td>\n",
       "      <td>leopard home button sticker for iphone 4s</td>\n",
       "      <td>1359849600</td>\n",
       "      <td>02 3, 2013</td>\n",
       "      <td>2</td>\n",
       "      <td>3</td>\n",
       "      <td>0.666667</td>\n",
       "      <td>66</td>\n",
       "    </tr>\n",
       "    <tr>\n",
       "      <th>5</th>\n",
       "      <td>APX47D16JOP7H</td>\n",
       "      <td>120401325X</td>\n",
       "      <td>RLH</td>\n",
       "      <td>[1, 2]</td>\n",
       "      <td>These make using the home button easy. My daug...</td>\n",
       "      <td>3</td>\n",
       "      <td>Cute</td>\n",
       "      <td>1381536000</td>\n",
       "      <td>10 12, 2013</td>\n",
       "      <td>1</td>\n",
       "      <td>2</td>\n",
       "      <td>0.500000</td>\n",
       "      <td>50</td>\n",
       "    </tr>\n",
       "    <tr>\n",
       "      <th>7</th>\n",
       "      <td>A6FGO4TBZ3QFZ</td>\n",
       "      <td>3998899561</td>\n",
       "      <td>Abdullah Albyati</td>\n",
       "      <td>[1, 2]</td>\n",
       "      <td>it worked for the first week then it only char...</td>\n",
       "      <td>1</td>\n",
       "      <td>not a good Idea</td>\n",
       "      <td>1384992000</td>\n",
       "      <td>11 21, 2013</td>\n",
       "      <td>1</td>\n",
       "      <td>2</td>\n",
       "      <td>0.500000</td>\n",
       "      <td>50</td>\n",
       "    </tr>\n",
       "    <tr>\n",
       "      <th>8</th>\n",
       "      <td>A2JWEDW5FSVB0F</td>\n",
       "      <td>3998899561</td>\n",
       "      <td>Adam</td>\n",
       "      <td>[2, 3]</td>\n",
       "      <td>Good case, solid build. Protects phone all aro...</td>\n",
       "      <td>5</td>\n",
       "      <td>Solid Case</td>\n",
       "      <td>1380067200</td>\n",
       "      <td>09 25, 2013</td>\n",
       "      <td>2</td>\n",
       "      <td>3</td>\n",
       "      <td>0.666667</td>\n",
       "      <td>66</td>\n",
       "    </tr>\n",
       "  </tbody>\n",
       "</table>\n",
       "</div>"
      ],
      "text/plain": [
       "       reviewerID        asin      reviewerName helpful  \\\n",
       "3   AWJ0WZQYMYFQ4  120401325X                JM  [4, 4]   \n",
       "4   ATX7CZYFXI1KW  120401325X  patrice m rogoza  [2, 3]   \n",
       "5   APX47D16JOP7H  120401325X               RLH  [1, 2]   \n",
       "7   A6FGO4TBZ3QFZ  3998899561  Abdullah Albyati  [1, 2]   \n",
       "8  A2JWEDW5FSVB0F  3998899561              Adam  [2, 3]   \n",
       "\n",
       "                                          reviewText  overall  \\\n",
       "3  Item arrived in great time and was in perfect ...        4   \n",
       "4  awesome! stays on, and looks great. can be use...        5   \n",
       "5  These make using the home button easy. My daug...        3   \n",
       "7  it worked for the first week then it only char...        1   \n",
       "8  Good case, solid build. Protects phone all aro...        5   \n",
       "\n",
       "                                     summary  unixReviewTime   reviewTime  \\\n",
       "3                                      Cute!      1382313600  10 21, 2013   \n",
       "4  leopard home button sticker for iphone 4s      1359849600   02 3, 2013   \n",
       "5                                       Cute      1381536000  10 12, 2013   \n",
       "7                            not a good Idea      1384992000  11 21, 2013   \n",
       "8                                 Solid Case      1380067200  09 25, 2013   \n",
       "\n",
       "   helpful_0  helpful_1  helpful_ratio  ratio_percent  \n",
       "3          4          4       1.000000            100  \n",
       "4          2          3       0.666667             66  \n",
       "5          1          2       0.500000             50  \n",
       "7          1          2       0.500000             50  \n",
       "8          2          3       0.666667             66  "
      ]
     },
     "execution_count": 88,
     "metadata": {},
     "output_type": "execute_result"
    }
   ],
   "source": [
    "df['ratio_percent'] = (df['helpful_ratio'] * 100).astype(int)\n",
    "df.head()"
   ]
  },
  {
   "cell_type": "code",
   "execution_count": 89,
   "metadata": {},
   "outputs": [],
   "source": [
    "df.drop(['reviewerID', 'asin', 'reviewerName', 'unixReviewTime', 'reviewTime'], axis='columns', inplace=True)"
   ]
  },
  {
   "cell_type": "code",
   "execution_count": 90,
   "metadata": {},
   "outputs": [
    {
     "data": {
      "text/html": [
       "<div>\n",
       "<style scoped>\n",
       "    .dataframe tbody tr th:only-of-type {\n",
       "        vertical-align: middle;\n",
       "    }\n",
       "\n",
       "    .dataframe tbody tr th {\n",
       "        vertical-align: top;\n",
       "    }\n",
       "\n",
       "    .dataframe thead th {\n",
       "        text-align: right;\n",
       "    }\n",
       "</style>\n",
       "<table border=\"1\" class=\"dataframe\">\n",
       "  <thead>\n",
       "    <tr style=\"text-align: right;\">\n",
       "      <th></th>\n",
       "      <th>helpful</th>\n",
       "      <th>reviewText</th>\n",
       "      <th>overall</th>\n",
       "      <th>summary</th>\n",
       "      <th>helpful_0</th>\n",
       "      <th>helpful_1</th>\n",
       "      <th>helpful_ratio</th>\n",
       "      <th>ratio_percent</th>\n",
       "    </tr>\n",
       "  </thead>\n",
       "  <tbody>\n",
       "    <tr>\n",
       "      <th>3</th>\n",
       "      <td>[4, 4]</td>\n",
       "      <td>Item arrived in great time and was in perfect ...</td>\n",
       "      <td>4</td>\n",
       "      <td>Cute!</td>\n",
       "      <td>4</td>\n",
       "      <td>4</td>\n",
       "      <td>1.000000</td>\n",
       "      <td>100</td>\n",
       "    </tr>\n",
       "    <tr>\n",
       "      <th>4</th>\n",
       "      <td>[2, 3]</td>\n",
       "      <td>awesome! stays on, and looks great. can be use...</td>\n",
       "      <td>5</td>\n",
       "      <td>leopard home button sticker for iphone 4s</td>\n",
       "      <td>2</td>\n",
       "      <td>3</td>\n",
       "      <td>0.666667</td>\n",
       "      <td>66</td>\n",
       "    </tr>\n",
       "    <tr>\n",
       "      <th>5</th>\n",
       "      <td>[1, 2]</td>\n",
       "      <td>These make using the home button easy. My daug...</td>\n",
       "      <td>3</td>\n",
       "      <td>Cute</td>\n",
       "      <td>1</td>\n",
       "      <td>2</td>\n",
       "      <td>0.500000</td>\n",
       "      <td>50</td>\n",
       "    </tr>\n",
       "    <tr>\n",
       "      <th>7</th>\n",
       "      <td>[1, 2]</td>\n",
       "      <td>it worked for the first week then it only char...</td>\n",
       "      <td>1</td>\n",
       "      <td>not a good Idea</td>\n",
       "      <td>1</td>\n",
       "      <td>2</td>\n",
       "      <td>0.500000</td>\n",
       "      <td>50</td>\n",
       "    </tr>\n",
       "    <tr>\n",
       "      <th>8</th>\n",
       "      <td>[2, 3]</td>\n",
       "      <td>Good case, solid build. Protects phone all aro...</td>\n",
       "      <td>5</td>\n",
       "      <td>Solid Case</td>\n",
       "      <td>2</td>\n",
       "      <td>3</td>\n",
       "      <td>0.666667</td>\n",
       "      <td>66</td>\n",
       "    </tr>\n",
       "  </tbody>\n",
       "</table>\n",
       "</div>"
      ],
      "text/plain": [
       "  helpful                                         reviewText  overall  \\\n",
       "3  [4, 4]  Item arrived in great time and was in perfect ...        4   \n",
       "4  [2, 3]  awesome! stays on, and looks great. can be use...        5   \n",
       "5  [1, 2]  These make using the home button easy. My daug...        3   \n",
       "7  [1, 2]  it worked for the first week then it only char...        1   \n",
       "8  [2, 3]  Good case, solid build. Protects phone all aro...        5   \n",
       "\n",
       "                                     summary  helpful_0  helpful_1  \\\n",
       "3                                      Cute!          4          4   \n",
       "4  leopard home button sticker for iphone 4s          2          3   \n",
       "5                                       Cute          1          2   \n",
       "7                            not a good Idea          1          2   \n",
       "8                                 Solid Case          2          3   \n",
       "\n",
       "   helpful_ratio  ratio_percent  \n",
       "3       1.000000            100  \n",
       "4       0.666667             66  \n",
       "5       0.500000             50  \n",
       "7       0.500000             50  \n",
       "8       0.666667             66  "
      ]
     },
     "execution_count": 90,
     "metadata": {},
     "output_type": "execute_result"
    }
   ],
   "source": [
    "df.head()"
   ]
  },
  {
   "cell_type": "code",
   "execution_count": 91,
   "metadata": {},
   "outputs": [
    {
     "data": {
      "text/html": [
       "<div>\n",
       "<style scoped>\n",
       "    .dataframe tbody tr th:only-of-type {\n",
       "        vertical-align: middle;\n",
       "    }\n",
       "\n",
       "    .dataframe tbody tr th {\n",
       "        vertical-align: top;\n",
       "    }\n",
       "\n",
       "    .dataframe thead th {\n",
       "        text-align: right;\n",
       "    }\n",
       "</style>\n",
       "<table border=\"1\" class=\"dataframe\">\n",
       "  <thead>\n",
       "    <tr style=\"text-align: right;\">\n",
       "      <th></th>\n",
       "      <th>helpful</th>\n",
       "      <th>Review</th>\n",
       "      <th>Rating</th>\n",
       "      <th>summary</th>\n",
       "      <th>helpful_0</th>\n",
       "      <th>helpful_1</th>\n",
       "      <th>helpful_ratio</th>\n",
       "      <th>ratio_percent</th>\n",
       "      <th>review_len</th>\n",
       "    </tr>\n",
       "  </thead>\n",
       "  <tbody>\n",
       "    <tr>\n",
       "      <th>3</th>\n",
       "      <td>[4, 4]</td>\n",
       "      <td>Item arrived in great time and was in perfect ...</td>\n",
       "      <td>4</td>\n",
       "      <td>Cute!</td>\n",
       "      <td>4</td>\n",
       "      <td>4</td>\n",
       "      <td>1.000000</td>\n",
       "      <td>100</td>\n",
       "      <td>51</td>\n",
       "    </tr>\n",
       "    <tr>\n",
       "      <th>4</th>\n",
       "      <td>[2, 3]</td>\n",
       "      <td>awesome! stays on, and looks great. can be use...</td>\n",
       "      <td>5</td>\n",
       "      <td>leopard home button sticker for iphone 4s</td>\n",
       "      <td>2</td>\n",
       "      <td>3</td>\n",
       "      <td>0.666667</td>\n",
       "      <td>66</td>\n",
       "      <td>23</td>\n",
       "    </tr>\n",
       "    <tr>\n",
       "      <th>5</th>\n",
       "      <td>[1, 2]</td>\n",
       "      <td>These make using the home button easy. My daug...</td>\n",
       "      <td>3</td>\n",
       "      <td>Cute</td>\n",
       "      <td>1</td>\n",
       "      <td>2</td>\n",
       "      <td>0.500000</td>\n",
       "      <td>50</td>\n",
       "      <td>23</td>\n",
       "    </tr>\n",
       "    <tr>\n",
       "      <th>7</th>\n",
       "      <td>[1, 2]</td>\n",
       "      <td>it worked for the first week then it only char...</td>\n",
       "      <td>1</td>\n",
       "      <td>not a good Idea</td>\n",
       "      <td>1</td>\n",
       "      <td>2</td>\n",
       "      <td>0.500000</td>\n",
       "      <td>50</td>\n",
       "      <td>20</td>\n",
       "    </tr>\n",
       "    <tr>\n",
       "      <th>8</th>\n",
       "      <td>[2, 3]</td>\n",
       "      <td>Good case, solid build. Protects phone all aro...</td>\n",
       "      <td>5</td>\n",
       "      <td>Solid Case</td>\n",
       "      <td>2</td>\n",
       "      <td>3</td>\n",
       "      <td>0.666667</td>\n",
       "      <td>66</td>\n",
       "      <td>44</td>\n",
       "    </tr>\n",
       "  </tbody>\n",
       "</table>\n",
       "</div>"
      ],
      "text/plain": [
       "  helpful                                             Review  Rating  \\\n",
       "3  [4, 4]  Item arrived in great time and was in perfect ...       4   \n",
       "4  [2, 3]  awesome! stays on, and looks great. can be use...       5   \n",
       "5  [1, 2]  These make using the home button easy. My daug...       3   \n",
       "7  [1, 2]  it worked for the first week then it only char...       1   \n",
       "8  [2, 3]  Good case, solid build. Protects phone all aro...       5   \n",
       "\n",
       "                                     summary  helpful_0  helpful_1  \\\n",
       "3                                      Cute!          4          4   \n",
       "4  leopard home button sticker for iphone 4s          2          3   \n",
       "5                                       Cute          1          2   \n",
       "7                            not a good Idea          1          2   \n",
       "8                                 Solid Case          2          3   \n",
       "\n",
       "   helpful_ratio  ratio_percent  review_len  \n",
       "3       1.000000            100          51  \n",
       "4       0.666667             66          23  \n",
       "5       0.500000             50          23  \n",
       "7       0.500000             50          20  \n",
       "8       0.666667             66          44  "
      ]
     },
     "execution_count": 91,
     "metadata": {},
     "output_type": "execute_result"
    }
   ],
   "source": [
    "df = df.rename(columns={\"reviewText\":\"Review\",\"overall\": \"Rating\"})\n",
    "\n",
    "df['review_len'] = [len(text.split()) for text in df.Review]\n",
    "df.head()"
   ]
  },
  {
   "cell_type": "code",
   "execution_count": 92,
   "metadata": {},
   "outputs": [],
   "source": [
    "def convert_label(df) : \n",
    "    if df['ratio_percent'] <= 70 : \n",
    "        rate = 0 # for Negative \n",
    "    else : \n",
    "        rate = 1 # for Positive\n",
    "        \n",
    "    return rate"
   ]
  },
  {
   "cell_type": "code",
   "execution_count": 93,
   "metadata": {},
   "outputs": [
    {
     "data": {
      "text/html": [
       "<div>\n",
       "<style scoped>\n",
       "    .dataframe tbody tr th:only-of-type {\n",
       "        vertical-align: middle;\n",
       "    }\n",
       "\n",
       "    .dataframe tbody tr th {\n",
       "        vertical-align: top;\n",
       "    }\n",
       "\n",
       "    .dataframe thead th {\n",
       "        text-align: right;\n",
       "    }\n",
       "</style>\n",
       "<table border=\"1\" class=\"dataframe\">\n",
       "  <thead>\n",
       "    <tr style=\"text-align: right;\">\n",
       "      <th></th>\n",
       "      <th>helpful</th>\n",
       "      <th>Review</th>\n",
       "      <th>Rating</th>\n",
       "      <th>summary</th>\n",
       "      <th>helpful_0</th>\n",
       "      <th>helpful_1</th>\n",
       "      <th>helpful_ratio</th>\n",
       "      <th>ratio_percent</th>\n",
       "      <th>review_len</th>\n",
       "      <th>IsHelpful</th>\n",
       "    </tr>\n",
       "  </thead>\n",
       "  <tbody>\n",
       "    <tr>\n",
       "      <th>3</th>\n",
       "      <td>[4, 4]</td>\n",
       "      <td>Item arrived in great time and was in perfect ...</td>\n",
       "      <td>4</td>\n",
       "      <td>Cute!</td>\n",
       "      <td>4</td>\n",
       "      <td>4</td>\n",
       "      <td>1.000000</td>\n",
       "      <td>100</td>\n",
       "      <td>51</td>\n",
       "      <td>1</td>\n",
       "    </tr>\n",
       "    <tr>\n",
       "      <th>4</th>\n",
       "      <td>[2, 3]</td>\n",
       "      <td>awesome! stays on, and looks great. can be use...</td>\n",
       "      <td>5</td>\n",
       "      <td>leopard home button sticker for iphone 4s</td>\n",
       "      <td>2</td>\n",
       "      <td>3</td>\n",
       "      <td>0.666667</td>\n",
       "      <td>66</td>\n",
       "      <td>23</td>\n",
       "      <td>0</td>\n",
       "    </tr>\n",
       "    <tr>\n",
       "      <th>5</th>\n",
       "      <td>[1, 2]</td>\n",
       "      <td>These make using the home button easy. My daug...</td>\n",
       "      <td>3</td>\n",
       "      <td>Cute</td>\n",
       "      <td>1</td>\n",
       "      <td>2</td>\n",
       "      <td>0.500000</td>\n",
       "      <td>50</td>\n",
       "      <td>23</td>\n",
       "      <td>0</td>\n",
       "    </tr>\n",
       "    <tr>\n",
       "      <th>7</th>\n",
       "      <td>[1, 2]</td>\n",
       "      <td>it worked for the first week then it only char...</td>\n",
       "      <td>1</td>\n",
       "      <td>not a good Idea</td>\n",
       "      <td>1</td>\n",
       "      <td>2</td>\n",
       "      <td>0.500000</td>\n",
       "      <td>50</td>\n",
       "      <td>20</td>\n",
       "      <td>0</td>\n",
       "    </tr>\n",
       "    <tr>\n",
       "      <th>8</th>\n",
       "      <td>[2, 3]</td>\n",
       "      <td>Good case, solid build. Protects phone all aro...</td>\n",
       "      <td>5</td>\n",
       "      <td>Solid Case</td>\n",
       "      <td>2</td>\n",
       "      <td>3</td>\n",
       "      <td>0.666667</td>\n",
       "      <td>66</td>\n",
       "      <td>44</td>\n",
       "      <td>0</td>\n",
       "    </tr>\n",
       "  </tbody>\n",
       "</table>\n",
       "</div>"
      ],
      "text/plain": [
       "  helpful                                             Review  Rating  \\\n",
       "3  [4, 4]  Item arrived in great time and was in perfect ...       4   \n",
       "4  [2, 3]  awesome! stays on, and looks great. can be use...       5   \n",
       "5  [1, 2]  These make using the home button easy. My daug...       3   \n",
       "7  [1, 2]  it worked for the first week then it only char...       1   \n",
       "8  [2, 3]  Good case, solid build. Protects phone all aro...       5   \n",
       "\n",
       "                                     summary  helpful_0  helpful_1  \\\n",
       "3                                      Cute!          4          4   \n",
       "4  leopard home button sticker for iphone 4s          2          3   \n",
       "5                                       Cute          1          2   \n",
       "7                            not a good Idea          1          2   \n",
       "8                                 Solid Case          2          3   \n",
       "\n",
       "   helpful_ratio  ratio_percent  review_len  IsHelpful  \n",
       "3       1.000000            100          51          1  \n",
       "4       0.666667             66          23          0  \n",
       "5       0.500000             50          23          0  \n",
       "7       0.500000             50          20          0  \n",
       "8       0.666667             66          44          0  "
      ]
     },
     "execution_count": 93,
     "metadata": {},
     "output_type": "execute_result"
    }
   ],
   "source": [
    "df['IsHelpful'] = df.apply(convert_label, axis = 1)\n",
    "df.head()"
   ]
  },
  {
   "cell_type": "code",
   "execution_count": 94,
   "metadata": {},
   "outputs": [],
   "source": [
    "# Drop reviews below 10 words\n",
    "#df = df[~(df['review_len'] < 10)]"
   ]
  },
  {
   "cell_type": "code",
   "execution_count": 95,
   "metadata": {},
   "outputs": [
    {
     "data": {
      "text/html": [
       "<div>\n",
       "<style scoped>\n",
       "    .dataframe tbody tr th:only-of-type {\n",
       "        vertical-align: middle;\n",
       "    }\n",
       "\n",
       "    .dataframe tbody tr th {\n",
       "        vertical-align: top;\n",
       "    }\n",
       "\n",
       "    .dataframe thead th {\n",
       "        text-align: right;\n",
       "    }\n",
       "</style>\n",
       "<table border=\"1\" class=\"dataframe\">\n",
       "  <thead>\n",
       "    <tr style=\"text-align: right;\">\n",
       "      <th></th>\n",
       "      <th>helpful</th>\n",
       "      <th>Review</th>\n",
       "      <th>Rating</th>\n",
       "      <th>summary</th>\n",
       "      <th>helpful_0</th>\n",
       "      <th>helpful_1</th>\n",
       "      <th>helpful_ratio</th>\n",
       "      <th>ratio_percent</th>\n",
       "      <th>review_len</th>\n",
       "      <th>IsHelpful</th>\n",
       "    </tr>\n",
       "  </thead>\n",
       "  <tbody>\n",
       "    <tr>\n",
       "      <th>3</th>\n",
       "      <td>[4, 4]</td>\n",
       "      <td>Item arrived in great time and was in perfect ...</td>\n",
       "      <td>4</td>\n",
       "      <td>Cute!</td>\n",
       "      <td>4</td>\n",
       "      <td>4</td>\n",
       "      <td>1.0</td>\n",
       "      <td>100</td>\n",
       "      <td>51</td>\n",
       "      <td>1</td>\n",
       "    </tr>\n",
       "    <tr>\n",
       "      <th>168306</th>\n",
       "      <td>[2, 2]</td>\n",
       "      <td>Lived up to expectations for battery life and ...</td>\n",
       "      <td>2</td>\n",
       "      <td>What's the point if they don't stay in your ears?</td>\n",
       "      <td>2</td>\n",
       "      <td>2</td>\n",
       "      <td>1.0</td>\n",
       "      <td>100</td>\n",
       "      <td>20</td>\n",
       "      <td>1</td>\n",
       "    </tr>\n",
       "    <tr>\n",
       "      <th>69446</th>\n",
       "      <td>[4, 4]</td>\n",
       "      <td>The Droid 3 by Motorola was an excellent buy. ...</td>\n",
       "      <td>5</td>\n",
       "      <td>Motorola</td>\n",
       "      <td>4</td>\n",
       "      <td>4</td>\n",
       "      <td>1.0</td>\n",
       "      <td>100</td>\n",
       "      <td>42</td>\n",
       "      <td>1</td>\n",
       "    </tr>\n",
       "    <tr>\n",
       "      <th>69452</th>\n",
       "      <td>[3, 3]</td>\n",
       "      <td>I was looking to find a replacement for my dro...</td>\n",
       "      <td>4</td>\n",
       "      <td>Good but not great.</td>\n",
       "      <td>3</td>\n",
       "      <td>3</td>\n",
       "      <td>1.0</td>\n",
       "      <td>100</td>\n",
       "      <td>89</td>\n",
       "      <td>1</td>\n",
       "    </tr>\n",
       "    <tr>\n",
       "      <th>69454</th>\n",
       "      <td>[12, 12]</td>\n",
       "      <td>I bought this case because of the great review...</td>\n",
       "      <td>2</td>\n",
       "      <td>Near Impossible to remove</td>\n",
       "      <td>12</td>\n",
       "      <td>12</td>\n",
       "      <td>1.0</td>\n",
       "      <td>100</td>\n",
       "      <td>204</td>\n",
       "      <td>1</td>\n",
       "    </tr>\n",
       "  </tbody>\n",
       "</table>\n",
       "</div>"
      ],
      "text/plain": [
       "         helpful                                             Review  Rating  \\\n",
       "3         [4, 4]  Item arrived in great time and was in perfect ...       4   \n",
       "168306    [2, 2]  Lived up to expectations for battery life and ...       2   \n",
       "69446     [4, 4]  The Droid 3 by Motorola was an excellent buy. ...       5   \n",
       "69452     [3, 3]  I was looking to find a replacement for my dro...       4   \n",
       "69454   [12, 12]  I bought this case because of the great review...       2   \n",
       "\n",
       "                                                  summary  helpful_0  \\\n",
       "3                                                   Cute!          4   \n",
       "168306  What's the point if they don't stay in your ears?          2   \n",
       "69446                                            Motorola          4   \n",
       "69452                                 Good but not great.          3   \n",
       "69454                           Near Impossible to remove         12   \n",
       "\n",
       "        helpful_1  helpful_ratio  ratio_percent  review_len  IsHelpful  \n",
       "3               4            1.0            100          51          1  \n",
       "168306          2            1.0            100          20          1  \n",
       "69446           4            1.0            100          42          1  \n",
       "69452           3            1.0            100          89          1  \n",
       "69454          12            1.0            100         204          1  "
      ]
     },
     "execution_count": 95,
     "metadata": {},
     "output_type": "execute_result"
    }
   ],
   "source": [
    "df.sort_values(by='ratio_percent', ascending=False, inplace=True)\n",
    "df.head()"
   ]
  },
  {
   "cell_type": "markdown",
   "metadata": {},
   "source": [
    "### Data Prepossessing :ghost:"
   ]
  },
  {
   "cell_type": "code",
   "execution_count": 96,
   "metadata": {},
   "outputs": [],
   "source": [
    "def DataPrep(text) : \n",
    "    text = re.sub(r'\\d+', '', text) # numbers\n",
    "    text = re.sub(r'[^\\w\\s]', '', text) # special characters\n",
    "    \n",
    "    # tokenization \n",
    "    tokens = nltk.word_tokenize(text) \n",
    "    \n",
    "    # remove puncs \n",
    "    punc = list(punctuation)\n",
    "    words = [word for word in tokens if word not in punc]\n",
    "    \n",
    "    # remove stopwords \n",
    "    stop_words = set(stopwords.words('english'))\n",
    "    words = [word.lower() for word in words if not word in stop_words]\n",
    "    \n",
    "    # lemmatization \n",
    "    words = [lemma.lemmatize(word) for word in words]\n",
    "    \n",
    "    text = ' '.join(words)\n",
    "    \n",
    "    return text"
   ]
  },
  {
   "cell_type": "code",
   "execution_count": 97,
   "metadata": {},
   "outputs": [],
   "source": [
    "df['cleaned_reviews'] = df['Review'].apply(DataPrep)"
   ]
  },
  {
   "cell_type": "code",
   "execution_count": 98,
   "metadata": {},
   "outputs": [
    {
     "data": {
      "text/html": [
       "<div>\n",
       "<style scoped>\n",
       "    .dataframe tbody tr th:only-of-type {\n",
       "        vertical-align: middle;\n",
       "    }\n",
       "\n",
       "    .dataframe tbody tr th {\n",
       "        vertical-align: top;\n",
       "    }\n",
       "\n",
       "    .dataframe thead th {\n",
       "        text-align: right;\n",
       "    }\n",
       "</style>\n",
       "<table border=\"1\" class=\"dataframe\">\n",
       "  <thead>\n",
       "    <tr style=\"text-align: right;\">\n",
       "      <th></th>\n",
       "      <th>helpful</th>\n",
       "      <th>Review</th>\n",
       "      <th>Rating</th>\n",
       "      <th>summary</th>\n",
       "      <th>helpful_0</th>\n",
       "      <th>helpful_1</th>\n",
       "      <th>helpful_ratio</th>\n",
       "      <th>ratio_percent</th>\n",
       "      <th>review_len</th>\n",
       "      <th>IsHelpful</th>\n",
       "      <th>cleaned_reviews</th>\n",
       "    </tr>\n",
       "  </thead>\n",
       "  <tbody>\n",
       "    <tr>\n",
       "      <th>3</th>\n",
       "      <td>[4, 4]</td>\n",
       "      <td>Item arrived in great time and was in perfect ...</td>\n",
       "      <td>4</td>\n",
       "      <td>Cute!</td>\n",
       "      <td>4</td>\n",
       "      <td>4</td>\n",
       "      <td>1.0</td>\n",
       "      <td>100</td>\n",
       "      <td>51</td>\n",
       "      <td>1</td>\n",
       "      <td>item arrived great time perfect condition howe...</td>\n",
       "    </tr>\n",
       "    <tr>\n",
       "      <th>168306</th>\n",
       "      <td>[2, 2]</td>\n",
       "      <td>Lived up to expectations for battery life and ...</td>\n",
       "      <td>2</td>\n",
       "      <td>What's the point if they don't stay in your ears?</td>\n",
       "      <td>2</td>\n",
       "      <td>2</td>\n",
       "      <td>1.0</td>\n",
       "      <td>100</td>\n",
       "      <td>20</td>\n",
       "      <td>1</td>\n",
       "      <td>lived expectation battery life sound quality v...</td>\n",
       "    </tr>\n",
       "    <tr>\n",
       "      <th>69446</th>\n",
       "      <td>[4, 4]</td>\n",
       "      <td>The Droid 3 by Motorola was an excellent buy. ...</td>\n",
       "      <td>5</td>\n",
       "      <td>Motorola</td>\n",
       "      <td>4</td>\n",
       "      <td>4</td>\n",
       "      <td>1.0</td>\n",
       "      <td>100</td>\n",
       "      <td>42</td>\n",
       "      <td>1</td>\n",
       "      <td>the droid motorola excellent buy it came ready...</td>\n",
       "    </tr>\n",
       "    <tr>\n",
       "      <th>69452</th>\n",
       "      <td>[3, 3]</td>\n",
       "      <td>I was looking to find a replacement for my dro...</td>\n",
       "      <td>4</td>\n",
       "      <td>Good but not great.</td>\n",
       "      <td>3</td>\n",
       "      <td>3</td>\n",
       "      <td>1.0</td>\n",
       "      <td>100</td>\n",
       "      <td>89</td>\n",
       "      <td>1</td>\n",
       "      <td>i looking find replacement droid x i found one...</td>\n",
       "    </tr>\n",
       "    <tr>\n",
       "      <th>69454</th>\n",
       "      <td>[12, 12]</td>\n",
       "      <td>I bought this case because of the great review...</td>\n",
       "      <td>2</td>\n",
       "      <td>Near Impossible to remove</td>\n",
       "      <td>12</td>\n",
       "      <td>12</td>\n",
       "      <td>1.0</td>\n",
       "      <td>100</td>\n",
       "      <td>204</td>\n",
       "      <td>1</td>\n",
       "      <td>i bought case great review i verizon galaxy ne...</td>\n",
       "    </tr>\n",
       "  </tbody>\n",
       "</table>\n",
       "</div>"
      ],
      "text/plain": [
       "         helpful                                             Review  Rating  \\\n",
       "3         [4, 4]  Item arrived in great time and was in perfect ...       4   \n",
       "168306    [2, 2]  Lived up to expectations for battery life and ...       2   \n",
       "69446     [4, 4]  The Droid 3 by Motorola was an excellent buy. ...       5   \n",
       "69452     [3, 3]  I was looking to find a replacement for my dro...       4   \n",
       "69454   [12, 12]  I bought this case because of the great review...       2   \n",
       "\n",
       "                                                  summary  helpful_0  \\\n",
       "3                                                   Cute!          4   \n",
       "168306  What's the point if they don't stay in your ears?          2   \n",
       "69446                                            Motorola          4   \n",
       "69452                                 Good but not great.          3   \n",
       "69454                           Near Impossible to remove         12   \n",
       "\n",
       "        helpful_1  helpful_ratio  ratio_percent  review_len  IsHelpful  \\\n",
       "3               4            1.0            100          51          1   \n",
       "168306          2            1.0            100          20          1   \n",
       "69446           4            1.0            100          42          1   \n",
       "69452           3            1.0            100          89          1   \n",
       "69454          12            1.0            100         204          1   \n",
       "\n",
       "                                          cleaned_reviews  \n",
       "3       item arrived great time perfect condition howe...  \n",
       "168306  lived expectation battery life sound quality v...  \n",
       "69446   the droid motorola excellent buy it came ready...  \n",
       "69452   i looking find replacement droid x i found one...  \n",
       "69454   i bought case great review i verizon galaxy ne...  "
      ]
     },
     "execution_count": 98,
     "metadata": {},
     "output_type": "execute_result"
    }
   ],
   "source": [
    "df.head()"
   ]
  },
  {
   "cell_type": "code",
   "execution_count": 99,
   "metadata": {},
   "outputs": [
    {
     "name": "stdout",
     "output_type": "stream",
     "text": [
      "There are around 90 duplicated reviews, we will remove them.\n"
     ]
    }
   ],
   "source": [
    "print(f'There are around {int(df[\"cleaned_reviews\"].duplicated().sum())} duplicated reviews, we will remove them.')"
   ]
  },
  {
   "cell_type": "code",
   "execution_count": 100,
   "metadata": {},
   "outputs": [],
   "source": [
    "df.drop_duplicates(\"cleaned_reviews\", inplace=True)"
   ]
  },
  {
   "cell_type": "markdown",
   "metadata": {},
   "source": [
    "### EDA"
   ]
  },
  {
   "cell_type": "code",
   "execution_count": 101,
   "metadata": {},
   "outputs": [
    {
     "data": {
      "image/png": "[encoded data removed]",
      "text/plain": [
       "<Figure size 1000x500 with 2 Axes>"
      ]
     },
     "metadata": {},
     "output_type": "display_data"
    }
   ],
   "source": [
    "label_count = df['IsHelpful'].value_counts()\n",
    "fig,axes = plt.subplots(nrows=1, ncols=2, figsize=(10,5))\n",
    "\n",
    "sns.set_theme(style='darkgrid', palette='pastel')\n",
    "color = sns.color_palette(palette='pastel')\n",
    "explode = [0.02]*len(label_count)\n",
    "\n",
    "axes[0].pie(label_count.values, labels=label_count.index, autopct='%1.1f%%', colors=color, explode=explode)\n",
    "axes[0].set_title('Percentage Label')\n",
    "\n",
    "#sns.countplot(df['Rating'] , ax=axes[1])\n",
    "counts = df['IsHelpful'].value_counts().sort_index()\n",
    "counts.plot.bar(color=color)\n",
    "axes[1].set_title('Count Label')\n",
    "axes[1].set_xlabel('Label')\n",
    "axes[1].set_ylabel('Count')\n",
    "\n",
    "plt.tight_layout()\n",
    "plt.show()"
   ]
  },
  {
   "cell_type": "markdown",
   "metadata": {},
   "source": [
    "### Split Data"
   ]
  },
  {
   "cell_type": "code",
   "execution_count": 124,
   "metadata": {},
   "outputs": [],
   "source": [
    "x_train, x_val, y_train, y_val, len_train, len_val = train_test_split(df['cleaned_reviews'], df['IsHelpful'], df['review_len'], train_size=0.80, random_state=42)"
   ]
  },
  {
   "cell_type": "code",
   "execution_count": 125,
   "metadata": {},
   "outputs": [
    {
     "data": {
      "text/plain": [
       "(22428, 5608)"
      ]
     },
     "execution_count": 125,
     "metadata": {},
     "output_type": "execute_result"
    }
   ],
   "source": [
    "len(x_train), len(x_val)"
   ]
  },
  {
   "cell_type": "markdown",
   "metadata": {},
   "source": [
    "### Feature Extraction\n",
    "\n",
    "#### Was genau passiert hier?"
   ]
  },
  {
   "cell_type": "code",
   "execution_count": 126,
   "metadata": {},
   "outputs": [
    {
     "name": "stdout",
     "output_type": "stream",
     "text": [
      "No. of feature words:  79120\n"
     ]
    }
   ],
   "source": [
    "vec = TfidfVectorizer()\n",
    "vec.fit(x_train)\n",
    "print(\"No. of feature words: \",len(vec.get_feature_names_out()))"
   ]
  },
  {
   "cell_type": "code",
   "execution_count": 127,
   "metadata": {},
   "outputs": [],
   "source": [
    "x_train = vec.transform(x_train).toarray()\n",
    "x_val = vec.transform(x_val).toarray()"
   ]
  },
  {
   "cell_type": "code",
   "execution_count": 128,
   "metadata": {},
   "outputs": [
    {
     "data": {
      "text/plain": [
       "((22428, 79120), (5608, 79120))"
      ]
     },
     "execution_count": 128,
     "metadata": {},
     "output_type": "execute_result"
    }
   ],
   "source": [
    "x_train.shape , x_val.shape"
   ]
  },
  {
   "cell_type": "code",
   "execution_count": 131,
   "metadata": {},
   "outputs": [],
   "source": [
    "# Add 'len' feature to the TF-IDF transformed data\n",
    "x_train_combined = np.column_stack((x_train, len_train))\n",
    "x_val_combined = np.column_stack((x_val, len_val))"
   ]
  },
  {
   "cell_type": "code",
   "execution_count": 135,
   "metadata": {},
   "outputs": [
    {
     "name": "stdout",
     "output_type": "stream",
     "text": [
      "[[  0.   0.   0. ...   0.   0.  43.]\n",
      " [  0.   0.   0. ...   0.   0.  42.]\n",
      " [  0.   0.   0. ...   0.   0.  26.]\n",
      " ...\n",
      " [  0.   0.   0. ...   0.   0. 178.]\n",
      " [  0.   0.   0. ...   0.   0.  98.]\n",
      " [  0.   0.   0. ...   0.   0.  24.]]\n"
     ]
    }
   ],
   "source": [
    "print(x_train_combined)"
   ]
  },
  {
   "cell_type": "code",
   "execution_count": 136,
   "metadata": {},
   "outputs": [
    {
     "data": {
      "text/plain": [
       "((22428, 79121), (5608, 79121))"
      ]
     },
     "execution_count": 136,
     "metadata": {},
     "output_type": "execute_result"
    }
   ],
   "source": [
    "x_train_combined.shape, x_val_combined.shape"
   ]
  },
  {
   "cell_type": "markdown",
   "metadata": {},
   "source": [
    "### Logistic Regression"
   ]
  },
  {
   "cell_type": "markdown",
   "metadata": {},
   "source": [
    "### LR mit Review+IsHelpful"
   ]
  },
  {
   "cell_type": "code",
   "execution_count": 144,
   "metadata": {},
   "outputs": [
    {
     "data": {
      "text/html": [
       "<style>#sk-container-id-5 {color: black;}#sk-container-id-5 pre{padding: 0;}#sk-container-id-5 div.sk-toggleable {background-color: white;}#sk-container-id-5 label.sk-toggleable__label {cursor: pointer;display: block;width: 100%;margin-bottom: 0;padding: 0.3em;box-sizing: border-box;text-align: center;}#sk-container-id-5 label.sk-toggleable__label-arrow:before {content: \"▸\";float: left;margin-right: 0.25em;color: #696969;}#sk-container-id-5 label.sk-toggleable__label-arrow:hover:before {color: black;}#sk-container-id-5 div.sk-estimator:hover label.sk-toggleable__label-arrow:before {color: black;}#sk-container-id-5 div.sk-toggleable__content {max-height: 0;max-width: 0;overflow: hidden;text-align: left;background-color: #f0f8ff;}#sk-container-id-5 div.sk-toggleable__content pre {margin: 0.2em;color: black;border-radius: 0.25em;background-color: #f0f8ff;}#sk-container-id-5 input.sk-toggleable__control:checked~div.sk-toggleable__content {max-height: 200px;max-width: 100%;overflow: auto;}#sk-container-id-5 input.sk-toggleable__control:checked~label.sk-toggleable__label-arrow:before {content: \"▾\";}#sk-container-id-5 div.sk-estimator input.sk-toggleable__control:checked~label.sk-toggleable__label {background-color: #d4ebff;}#sk-container-id-5 div.sk-label input.sk-toggleable__control:checked~label.sk-toggleable__label {background-color: #d4ebff;}#sk-container-id-5 input.sk-hidden--visually {border: 0;clip: rect(1px 1px 1px 1px);clip: rect(1px, 1px, 1px, 1px);height: 1px;margin: -1px;overflow: hidden;padding: 0;position: absolute;width: 1px;}#sk-container-id-5 div.sk-estimator {font-family: monospace;background-color: #f0f8ff;border: 1px dotted black;border-radius: 0.25em;box-sizing: border-box;margin-bottom: 0.5em;}#sk-container-id-5 div.sk-estimator:hover {background-color: #d4ebff;}#sk-container-id-5 div.sk-parallel-item::after {content: \"\";width: 100%;border-bottom: 1px solid gray;flex-grow: 1;}#sk-container-id-5 div.sk-label:hover label.sk-toggleable__label {background-color: #d4ebff;}#sk-container-id-5 div.sk-serial::before {content: \"\";position: absolute;border-left: 1px solid gray;box-sizing: border-box;top: 0;bottom: 0;left: 50%;z-index: 0;}#sk-container-id-5 div.sk-serial {display: flex;flex-direction: column;align-items: center;background-color: white;padding-right: 0.2em;padding-left: 0.2em;position: relative;}#sk-container-id-5 div.sk-item {position: relative;z-index: 1;}#sk-container-id-5 div.sk-parallel {display: flex;align-items: stretch;justify-content: center;background-color: white;position: relative;}#sk-container-id-5 div.sk-item::before, #sk-container-id-5 div.sk-parallel-item::before {content: \"\";position: absolute;border-left: 1px solid gray;box-sizing: border-box;top: 0;bottom: 0;left: 50%;z-index: -1;}#sk-container-id-5 div.sk-parallel-item {display: flex;flex-direction: column;z-index: 1;position: relative;background-color: white;}#sk-container-id-5 div.sk-parallel-item:first-child::after {align-self: flex-end;width: 50%;}#sk-container-id-5 div.sk-parallel-item:last-child::after {align-self: flex-start;width: 50%;}#sk-container-id-5 div.sk-parallel-item:only-child::after {width: 0;}#sk-container-id-5 div.sk-dashed-wrapped {border: 1px dashed gray;margin: 0 0.4em 0.5em 0.4em;box-sizing: border-box;padding-bottom: 0.4em;background-color: white;}#sk-container-id-5 div.sk-label label {font-family: monospace;font-weight: bold;display: inline-block;line-height: 1.2em;}#sk-container-id-5 div.sk-label-container {text-align: center;}#sk-container-id-5 div.sk-container {/* jupyter's `normalize.less` sets `[hidden] { display: none; }` but bootstrap.min.css set `[hidden] { display: none !important; }` so we also need the `!important` here to be able to override the default hidden behavior on the sphinx rendered scikit-learn.org. See: https://github.com/scikit-learn/scikit-learn/issues/21755 */display: inline-block !important;position: relative;}#sk-container-id-5 div.sk-text-repr-fallback {display: none;}</style><div id=\"sk-container-id-5\" class=\"sk-top-container\"><div class=\"sk-text-repr-fallback\"><pre>LogisticRegression(random_state=42)</pre><b>In a Jupyter environment, please rerun this cell to show the HTML representation or trust the notebook. <br />On GitHub, the HTML representation is unable to render, please try loading this page with nbviewer.org.</b></div><div class=\"sk-container\" hidden><div class=\"sk-item\"><div class=\"sk-estimator sk-toggleable\"><input class=\"sk-toggleable__control sk-hidden--visually\" id=\"sk-estimator-id-5\" type=\"checkbox\" checked><label for=\"sk-estimator-id-5\" class=\"sk-toggleable__label sk-toggleable__label-arrow\">LogisticRegression</label><div class=\"sk-toggleable__content\"><pre>LogisticRegression(random_state=42)</pre></div></div></div></div></div>"
      ],
      "text/plain": [
       "LogisticRegression(random_state=42)"
      ]
     },
     "execution_count": 144,
     "metadata": {},
     "output_type": "execute_result"
    }
   ],
   "source": [
    "lr = LogisticRegression(random_state=42)\n",
    "lr.fit(x_train , y_train)"
   ]
  },
  {
   "cell_type": "code",
   "execution_count": 145,
   "metadata": {},
   "outputs": [],
   "source": [
    "train_acc1 = lr.score(x_train , y_train)"
   ]
  },
  {
   "cell_type": "code",
   "execution_count": 146,
   "metadata": {},
   "outputs": [],
   "source": [
    "lr_pred = lr.predict(x_val)\n",
    "\n",
    "val_acc1 = accuracy_score(y_val , lr_pred) \n",
    "\n",
    "val_precision1 = precision_score(y_val , lr_pred , average='weighted')\n",
    "val_recall1 = recall_score(y_val , lr_pred , average='weighted')\n",
    "val_f1score1 = f1_score(y_val , lr_pred , average='weighted')"
   ]
  },
  {
   "cell_type": "code",
   "execution_count": 147,
   "metadata": {},
   "outputs": [
    {
     "name": "stdout",
     "output_type": "stream",
     "text": [
      "The training accuracy for logistic regression : 74.71%\n",
      "\n",
      "The validation accuracy for logistic regression : 62.64%\n",
      "\n",
      "The precision for logistic regression : 0.62\n",
      "\n",
      "The recall for logistic regression : 0.63\n",
      "\n",
      "The f1 score for logistic regression : 0.61\n",
      "\n"
     ]
    }
   ],
   "source": [
    "print(f\"The training accuracy for logistic regression : {(train_acc1*100):0.2f}%\\n\")\n",
    "print(f\"The validation accuracy for logistic regression : {(val_acc1*100):0.2f}%\\n\")\n",
    "print(f\"The precision for logistic regression : {val_precision1:0.2f}\\n\")\n",
    "print(f\"The recall for logistic regression : {val_recall1:0.2f}\\n\")\n",
    "print(f\"The f1 score for logistic regression : {val_f1score1:0.2f}\\n\")"
   ]
  },
  {
   "cell_type": "code",
   "execution_count": 153,
   "metadata": {},
   "outputs": [
    {
     "data": {
      "image/png": "[encoded data removed]",
      "text/plain": [
       "<Figure size 640x480 with 2 Axes>"
      ]
     },
     "metadata": {},
     "output_type": "display_data"
    }
   ],
   "source": [
    "lr_cm = confusion_matrix(y_val , lr_pred)\n",
    "sns.heatmap(lr_cm, annot=True,fmt='3g')\n",
    "plt.show()"
   ]
  },
  {
   "cell_type": "markdown",
   "metadata": {},
   "source": [
    "### LR mit Review+IsHelpful+Len"
   ]
  },
  {
   "cell_type": "code",
   "execution_count": 148,
   "metadata": {},
   "outputs": [
    {
     "data": {
      "text/html": [
       "<style>#sk-container-id-6 {color: black;}#sk-container-id-6 pre{padding: 0;}#sk-container-id-6 div.sk-toggleable {background-color: white;}#sk-container-id-6 label.sk-toggleable__label {cursor: pointer;display: block;width: 100%;margin-bottom: 0;padding: 0.3em;box-sizing: border-box;text-align: center;}#sk-container-id-6 label.sk-toggleable__label-arrow:before {content: \"▸\";float: left;margin-right: 0.25em;color: #696969;}#sk-container-id-6 label.sk-toggleable__label-arrow:hover:before {color: black;}#sk-container-id-6 div.sk-estimator:hover label.sk-toggleable__label-arrow:before {color: black;}#sk-container-id-6 div.sk-toggleable__content {max-height: 0;max-width: 0;overflow: hidden;text-align: left;background-color: #f0f8ff;}#sk-container-id-6 div.sk-toggleable__content pre {margin: 0.2em;color: black;border-radius: 0.25em;background-color: #f0f8ff;}#sk-container-id-6 input.sk-toggleable__control:checked~div.sk-toggleable__content {max-height: 200px;max-width: 100%;overflow: auto;}#sk-container-id-6 input.sk-toggleable__control:checked~label.sk-toggleable__label-arrow:before {content: \"▾\";}#sk-container-id-6 div.sk-estimator input.sk-toggleable__control:checked~label.sk-toggleable__label {background-color: #d4ebff;}#sk-container-id-6 div.sk-label input.sk-toggleable__control:checked~label.sk-toggleable__label {background-color: #d4ebff;}#sk-container-id-6 input.sk-hidden--visually {border: 0;clip: rect(1px 1px 1px 1px);clip: rect(1px, 1px, 1px, 1px);height: 1px;margin: -1px;overflow: hidden;padding: 0;position: absolute;width: 1px;}#sk-container-id-6 div.sk-estimator {font-family: monospace;background-color: #f0f8ff;border: 1px dotted black;border-radius: 0.25em;box-sizing: border-box;margin-bottom: 0.5em;}#sk-container-id-6 div.sk-estimator:hover {background-color: #d4ebff;}#sk-container-id-6 div.sk-parallel-item::after {content: \"\";width: 100%;border-bottom: 1px solid gray;flex-grow: 1;}#sk-container-id-6 div.sk-label:hover label.sk-toggleable__label {background-color: #d4ebff;}#sk-container-id-6 div.sk-serial::before {content: \"\";position: absolute;border-left: 1px solid gray;box-sizing: border-box;top: 0;bottom: 0;left: 50%;z-index: 0;}#sk-container-id-6 div.sk-serial {display: flex;flex-direction: column;align-items: center;background-color: white;padding-right: 0.2em;padding-left: 0.2em;position: relative;}#sk-container-id-6 div.sk-item {position: relative;z-index: 1;}#sk-container-id-6 div.sk-parallel {display: flex;align-items: stretch;justify-content: center;background-color: white;position: relative;}#sk-container-id-6 div.sk-item::before, #sk-container-id-6 div.sk-parallel-item::before {content: \"\";position: absolute;border-left: 1px solid gray;box-sizing: border-box;top: 0;bottom: 0;left: 50%;z-index: -1;}#sk-container-id-6 div.sk-parallel-item {display: flex;flex-direction: column;z-index: 1;position: relative;background-color: white;}#sk-container-id-6 div.sk-parallel-item:first-child::after {align-self: flex-end;width: 50%;}#sk-container-id-6 div.sk-parallel-item:last-child::after {align-self: flex-start;width: 50%;}#sk-container-id-6 div.sk-parallel-item:only-child::after {width: 0;}#sk-container-id-6 div.sk-dashed-wrapped {border: 1px dashed gray;margin: 0 0.4em 0.5em 0.4em;box-sizing: border-box;padding-bottom: 0.4em;background-color: white;}#sk-container-id-6 div.sk-label label {font-family: monospace;font-weight: bold;display: inline-block;line-height: 1.2em;}#sk-container-id-6 div.sk-label-container {text-align: center;}#sk-container-id-6 div.sk-container {/* jupyter's `normalize.less` sets `[hidden] { display: none; }` but bootstrap.min.css set `[hidden] { display: none !important; }` so we also need the `!important` here to be able to override the default hidden behavior on the sphinx rendered scikit-learn.org. See: https://github.com/scikit-learn/scikit-learn/issues/21755 */display: inline-block !important;position: relative;}#sk-container-id-6 div.sk-text-repr-fallback {display: none;}</style><div id=\"sk-container-id-6\" class=\"sk-top-container\"><div class=\"sk-text-repr-fallback\"><pre>LogisticRegression(random_state=42)</pre><b>In a Jupyter environment, please rerun this cell to show the HTML representation or trust the notebook. <br />On GitHub, the HTML representation is unable to render, please try loading this page with nbviewer.org.</b></div><div class=\"sk-container\" hidden><div class=\"sk-item\"><div class=\"sk-estimator sk-toggleable\"><input class=\"sk-toggleable__control sk-hidden--visually\" id=\"sk-estimator-id-6\" type=\"checkbox\" checked><label for=\"sk-estimator-id-6\" class=\"sk-toggleable__label sk-toggleable__label-arrow\">LogisticRegression</label><div class=\"sk-toggleable__content\"><pre>LogisticRegression(random_state=42)</pre></div></div></div></div></div>"
      ],
      "text/plain": [
       "LogisticRegression(random_state=42)"
      ]
     },
     "execution_count": 148,
     "metadata": {},
     "output_type": "execute_result"
    }
   ],
   "source": [
    "# Model mit review_len\n",
    "lr1 = LogisticRegression(random_state=42)\n",
    "lr1.fit(x_train_combined, y_train)"
   ]
  },
  {
   "cell_type": "code",
   "execution_count": 149,
   "metadata": {},
   "outputs": [],
   "source": [
    "train_acc1_2 = lr1.score(x_train_combined , y_train)"
   ]
  },
  {
   "cell_type": "code",
   "execution_count": 150,
   "metadata": {},
   "outputs": [],
   "source": [
    "lr1_pred = lr1.predict(x_val_combined)\n",
    "\n",
    "val_acc1_2 = accuracy_score(y_val , lr1_pred) \n",
    "\n",
    "val_precision1_2 = precision_score(y_val , lr1_pred , average='weighted')\n",
    "val_recall1_2 = recall_score(y_val , lr1_pred , average='weighted')\n",
    "val_f1score1_2 = f1_score(y_val , lr1_pred , average='weighted')"
   ]
  },
  {
   "cell_type": "code",
   "execution_count": 151,
   "metadata": {},
   "outputs": [
    {
     "name": "stdout",
     "output_type": "stream",
     "text": [
      "The training accuracy for logistic regression : 69.85%\n",
      "\n",
      "The validation accuracy for logistic regression : 63.27%\n",
      "\n",
      "The precision for logistic regression : 0.62\n",
      "\n",
      "The recall for logistic regression : 0.63\n",
      "\n",
      "The f1 score for logistic regression : 0.62\n",
      "\n"
     ]
    }
   ],
   "source": [
    "print(f\"The training accuracy for logistic regression : {(train_acc1_2*100):0.2f}%\\n\")\n",
    "print(f\"The validation accuracy for logistic regression : {(val_acc1_2*100):0.2f}%\\n\")\n",
    "print(f\"The precision for logistic regression : {val_precision1_2:0.2f}\\n\")\n",
    "print(f\"The recall for logistic regression : {val_recall1_2:0.2f}\\n\")\n",
    "print(f\"The f1 score for logistic regression : {val_f1score1_2:0.2f}\\n\")"
   ]
  },
  {
   "cell_type": "code",
   "execution_count": 154,
   "metadata": {},
   "outputs": [
    {
     "data": {
      "image/png": "[encoded data removed]",
      "text/plain": [
       "<Figure size 640x480 with 2 Axes>"
      ]
     },
     "metadata": {},
     "output_type": "display_data"
    }
   ],
   "source": [
    "lr1_cm = confusion_matrix(y_val , lr1_pred)\n",
    "sns.heatmap(lr1_cm, annot=True,fmt='3g')\n",
    "plt.show()"
   ]
  },
  {
   "cell_type": "code",
   "execution_count": null,
   "metadata": {},
   "outputs": [],
   "source": []
  },
  {
   "cell_type": "code",
   "execution_count": null,
   "metadata": {},
   "outputs": [],
   "source": []
  }
 ],
 "metadata": {
  "kernelspec": {
   "display_name": "Python 3",
   "language": "python",
   "name": "python3"
  },
  "language_info": {
   "codemirror_mode": {
    "name": "ipython",
    "version": 3
   },
   "file_extension": ".py",
   "mimetype": "text/x-python",
   "name": "python",
   "nbconvert_exporter": "python",
   "pygments_lexer": "ipython3",
   "version": "3.11.4"
  }
 },
 "nbformat": 4,
 "nbformat_minor": 2
}
