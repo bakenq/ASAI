{
 "cells": [
  {
   "cell_type": "code",
   "execution_count": 1,
   "metadata": {},
   "outputs": [
    {
     "name": "stdout",
     "output_type": "stream",
     "text": [
      "WARNING:tensorflow:From c:\\Users\\Niko\\AppData\\Local\\Programs\\Python\\Python311\\Lib\\site-packages\\keras\\src\\losses.py:2976: The name tf.losses.sparse_softmax_cross_entropy is deprecated. Please use tf.compat.v1.losses.sparse_softmax_cross_entropy instead.\n",
      "\n"
     ]
    }
   ],
   "source": [
    "import warnings\n",
    "warnings.filterwarnings('ignore')\n",
    "\n",
    "#General Data/Plotting\n",
    "import pandas as pd \n",
    "import numpy as np \n",
    "import matplotlib.pyplot as plt \n",
    "import seaborn as sns \n",
    "from tqdm.auto import tqdm \n",
    "import random\n",
    "\n",
    "# Language\n",
    "import nltk \n",
    "from nltk.corpus import stopwords\n",
    "from nltk.stem import WordNetLemmatizer \n",
    "import re \n",
    "from collections import Counter\n",
    "from string import punctuation\n",
    "\n",
    "# Modeling\n",
    "from sklearn.feature_extraction.text import TfidfVectorizer\n",
    "from sklearn.model_selection import train_test_split \n",
    "from sklearn.metrics import precision_score, recall_score , f1_score, accuracy_score, confusion_matrix\n",
    "\n",
    "from sklearn.linear_model import LogisticRegression\n",
    "from sklearn.ensemble import RandomForestClassifier\n",
    "\n",
    "from sklearn.datasets import load_iris\n",
    "from sklearn.preprocessing import LabelEncoder\n",
    "\n",
    "# DistilBERT/Tensorflow/Torch\n",
    "import tensorflow as tf\n",
    "from transformers import TFDistilBertForSequenceClassification, DistilBertForSequenceClassification, DistilBertTokenizer\n",
    "\n",
    "from torch.utils.data import DataLoader, TensorDataset, random_split\n",
    "from torch.nn import CrossEntropyLoss\n",
    "from torch.optim import Adam\n",
    "import torch\n",
    "\n",
    "\n",
    "lemma = WordNetLemmatizer()"
   ]
  },
  {
   "cell_type": "code",
   "execution_count": 2,
   "metadata": {},
   "outputs": [],
   "source": [
    "# Pandas Progress bar\n",
    "tqdm.pandas()"
   ]
  },
  {
   "cell_type": "code",
   "execution_count": 3,
   "metadata": {},
   "outputs": [],
   "source": [
    "df = pd.read_csv('../Datasets/Books_rating.csv')"
   ]
  },
  {
   "cell_type": "code",
   "execution_count": 4,
   "metadata": {},
   "outputs": [
    {
     "data": {
      "text/html": [
       "<div>\n",
       "<style scoped>\n",
       "    .dataframe tbody tr th:only-of-type {\n",
       "        vertical-align: middle;\n",
       "    }\n",
       "\n",
       "    .dataframe tbody tr th {\n",
       "        vertical-align: top;\n",
       "    }\n",
       "\n",
       "    .dataframe thead th {\n",
       "        text-align: right;\n",
       "    }\n",
       "</style>\n",
       "<table border=\"1\" class=\"dataframe\">\n",
       "  <thead>\n",
       "    <tr style=\"text-align: right;\">\n",
       "      <th></th>\n",
       "      <th>Id</th>\n",
       "      <th>Title</th>\n",
       "      <th>Price</th>\n",
       "      <th>User_id</th>\n",
       "      <th>profileName</th>\n",
       "      <th>review/helpfulness</th>\n",
       "      <th>review/score</th>\n",
       "      <th>review/time</th>\n",
       "      <th>review/summary</th>\n",
       "      <th>review/text</th>\n",
       "      <th>helpful_0</th>\n",
       "      <th>helpful_1</th>\n",
       "    </tr>\n",
       "  </thead>\n",
       "  <tbody>\n",
       "    <tr>\n",
       "      <th>0</th>\n",
       "      <td>1882931173</td>\n",
       "      <td>Its Only Art If Its Well Hung!</td>\n",
       "      <td>NaN</td>\n",
       "      <td>AVCGYZL8FQQTD</td>\n",
       "      <td>Jim of Oz \"jim-of-oz\"</td>\n",
       "      <td>7/7</td>\n",
       "      <td>4.0</td>\n",
       "      <td>940636800</td>\n",
       "      <td>Nice collection of Julie Strain images</td>\n",
       "      <td>This is only for Julie Strain fans. It's a col...</td>\n",
       "      <td>7</td>\n",
       "      <td>7</td>\n",
       "    </tr>\n",
       "    <tr>\n",
       "      <th>1</th>\n",
       "      <td>0826414346</td>\n",
       "      <td>Dr. Seuss: American Icon</td>\n",
       "      <td>NaN</td>\n",
       "      <td>A30TK6U7DNS82R</td>\n",
       "      <td>Kevin Killian</td>\n",
       "      <td>10/10</td>\n",
       "      <td>5.0</td>\n",
       "      <td>1095724800</td>\n",
       "      <td>Really Enjoyed It</td>\n",
       "      <td>I don't care much for Dr. Seuss but after read...</td>\n",
       "      <td>10</td>\n",
       "      <td>10</td>\n",
       "    </tr>\n",
       "    <tr>\n",
       "      <th>2</th>\n",
       "      <td>0826414346</td>\n",
       "      <td>Dr. Seuss: American Icon</td>\n",
       "      <td>NaN</td>\n",
       "      <td>A3UH4UZ4RSVO82</td>\n",
       "      <td>John Granger</td>\n",
       "      <td>10/11</td>\n",
       "      <td>5.0</td>\n",
       "      <td>1078790400</td>\n",
       "      <td>Essential for every personal and Public Library</td>\n",
       "      <td>If people become the books they read and if \"t...</td>\n",
       "      <td>10</td>\n",
       "      <td>11</td>\n",
       "    </tr>\n",
       "    <tr>\n",
       "      <th>3</th>\n",
       "      <td>0826414346</td>\n",
       "      <td>Dr. Seuss: American Icon</td>\n",
       "      <td>NaN</td>\n",
       "      <td>A2MVUWT453QH61</td>\n",
       "      <td>Roy E. Perry \"amateur philosopher\"</td>\n",
       "      <td>7/7</td>\n",
       "      <td>4.0</td>\n",
       "      <td>1090713600</td>\n",
       "      <td>Phlip Nel gives silly Seuss a serious treatment</td>\n",
       "      <td>Theodore Seuss Geisel (1904-1991), aka &amp;quot;D...</td>\n",
       "      <td>7</td>\n",
       "      <td>7</td>\n",
       "    </tr>\n",
       "    <tr>\n",
       "      <th>4</th>\n",
       "      <td>0826414346</td>\n",
       "      <td>Dr. Seuss: American Icon</td>\n",
       "      <td>NaN</td>\n",
       "      <td>A22X4XUPKF66MR</td>\n",
       "      <td>D. H. Richards \"ninthwavestore\"</td>\n",
       "      <td>3/3</td>\n",
       "      <td>4.0</td>\n",
       "      <td>1107993600</td>\n",
       "      <td>Good academic overview</td>\n",
       "      <td>Philip Nel - Dr. Seuss: American IconThis is b...</td>\n",
       "      <td>3</td>\n",
       "      <td>3</td>\n",
       "    </tr>\n",
       "  </tbody>\n",
       "</table>\n",
       "</div>"
      ],
      "text/plain": [
       "           Id                           Title  Price         User_id  \\\n",
       "0  1882931173  Its Only Art If Its Well Hung!    NaN   AVCGYZL8FQQTD   \n",
       "1  0826414346        Dr. Seuss: American Icon    NaN  A30TK6U7DNS82R   \n",
       "2  0826414346        Dr. Seuss: American Icon    NaN  A3UH4UZ4RSVO82   \n",
       "3  0826414346        Dr. Seuss: American Icon    NaN  A2MVUWT453QH61   \n",
       "4  0826414346        Dr. Seuss: American Icon    NaN  A22X4XUPKF66MR   \n",
       "\n",
       "                          profileName review/helpfulness  review/score  \\\n",
       "0               Jim of Oz \"jim-of-oz\"                7/7           4.0   \n",
       "1                       Kevin Killian              10/10           5.0   \n",
       "2                        John Granger              10/11           5.0   \n",
       "3  Roy E. Perry \"amateur philosopher\"                7/7           4.0   \n",
       "4     D. H. Richards \"ninthwavestore\"                3/3           4.0   \n",
       "\n",
       "   review/time                                   review/summary  \\\n",
       "0    940636800           Nice collection of Julie Strain images   \n",
       "1   1095724800                                Really Enjoyed It   \n",
       "2   1078790400  Essential for every personal and Public Library   \n",
       "3   1090713600  Phlip Nel gives silly Seuss a serious treatment   \n",
       "4   1107993600                           Good academic overview   \n",
       "\n",
       "                                         review/text helpful_0 helpful_1  \n",
       "0  This is only for Julie Strain fans. It's a col...         7         7  \n",
       "1  I don't care much for Dr. Seuss but after read...        10        10  \n",
       "2  If people become the books they read and if \"t...        10        11  \n",
       "3  Theodore Seuss Geisel (1904-1991), aka &quot;D...         7         7  \n",
       "4  Philip Nel - Dr. Seuss: American IconThis is b...         3         3  "
      ]
     },
     "execution_count": 4,
     "metadata": {},
     "output_type": "execute_result"
    }
   ],
   "source": [
    "df[['helpful_0', 'helpful_1']] = df['review/helpfulness'].str.split('/', expand=True)\n",
    "\n",
    "# Konvertieren der 'helpfulness'-Spalte in numerische Werte (falls notwendig)\n",
    "#df['review/helpfulness'] = pd.to_numeric(df['review/helpfulness'], errors='coerce')\n",
    "\n",
    "df.head()"
   ]
  },
  {
   "cell_type": "code",
   "execution_count": 5,
   "metadata": {},
   "outputs": [
    {
     "name": "stderr",
     "output_type": "stream",
     "text": [
      "100%|██████████| 3000000/3000000 [00:47<00:00, 62789.62it/s]\n",
      "100%|██████████| 3000000/3000000 [00:47<00:00, 62563.44it/s]\n"
     ]
    }
   ],
   "source": [
    "# Daten vor dem Plotten sortieren/konvertieren\n",
    "df['helpful_0'] = df['helpful_0'].progress_apply(pd.to_numeric)\n",
    "df['helpful_1'] = df['helpful_1'].progress_apply(pd.to_numeric)"
   ]
  },
  {
   "cell_type": "code",
   "execution_count": 6,
   "metadata": {},
   "outputs": [],
   "source": [
    "df['helpful_0'] = df['helpful_0'].astype(int)\n",
    "df['helpful_1'] = df['helpful_1'].astype(int)"
   ]
  },
  {
   "cell_type": "code",
   "execution_count": 9,
   "metadata": {},
   "outputs": [
    {
     "name": "stdout",
     "output_type": "stream",
     "text": [
      "Number of rows with helpful_1 >= 20:  239553\n"
     ]
    }
   ],
   "source": [
    "num_rows = len(df[df['helpful_1'] >= 20])\n",
    "print(\"Number of rows with helpful_1 >= 20: \", num_rows)"
   ]
  },
  {
   "cell_type": "code",
   "execution_count": 10,
   "metadata": {},
   "outputs": [],
   "source": [
    "# Remove reviews with not enough helpful votes\n",
    "df = df[df['helpful_1'] >= 20]"
   ]
  },
  {
   "cell_type": "code",
   "execution_count": 11,
   "metadata": {},
   "outputs": [],
   "source": [
    "df['helpful_ratio'] = df['helpful_0'] / df['helpful_1']"
   ]
  },
  {
   "cell_type": "code",
   "execution_count": 12,
   "metadata": {},
   "outputs": [
    {
     "data": {
      "text/html": [
       "<div>\n",
       "<style scoped>\n",
       "    .dataframe tbody tr th:only-of-type {\n",
       "        vertical-align: middle;\n",
       "    }\n",
       "\n",
       "    .dataframe tbody tr th {\n",
       "        vertical-align: top;\n",
       "    }\n",
       "\n",
       "    .dataframe thead th {\n",
       "        text-align: right;\n",
       "    }\n",
       "</style>\n",
       "<table border=\"1\" class=\"dataframe\">\n",
       "  <thead>\n",
       "    <tr style=\"text-align: right;\">\n",
       "      <th></th>\n",
       "      <th>Id</th>\n",
       "      <th>Title</th>\n",
       "      <th>Price</th>\n",
       "      <th>User_id</th>\n",
       "      <th>profileName</th>\n",
       "      <th>review/helpfulness</th>\n",
       "      <th>review/score</th>\n",
       "      <th>review/time</th>\n",
       "      <th>review/summary</th>\n",
       "      <th>review/text</th>\n",
       "      <th>helpful_0</th>\n",
       "      <th>helpful_1</th>\n",
       "      <th>helpful_ratio</th>\n",
       "      <th>ratio_percent</th>\n",
       "    </tr>\n",
       "  </thead>\n",
       "  <tbody>\n",
       "    <tr>\n",
       "      <th>47</th>\n",
       "      <td>0802841899</td>\n",
       "      <td>The Church of Christ: A Biblical Ecclesiology ...</td>\n",
       "      <td>25.97</td>\n",
       "      <td>ARI272XF8TOL4</td>\n",
       "      <td>Christopher J. Bray</td>\n",
       "      <td>74/81</td>\n",
       "      <td>5.0</td>\n",
       "      <td>955411200</td>\n",
       "      <td>Ecclesiological Milestone</td>\n",
       "      <td>With the publication of Everett Ferguson's boo...</td>\n",
       "      <td>74</td>\n",
       "      <td>81</td>\n",
       "      <td>0.913580</td>\n",
       "      <td>91</td>\n",
       "    </tr>\n",
       "    <tr>\n",
       "      <th>81</th>\n",
       "      <td>0974289108</td>\n",
       "      <td>The Ultimate Guide to Law School Admission: In...</td>\n",
       "      <td>14.95</td>\n",
       "      <td>A1KZ0RDJZQSY4O</td>\n",
       "      <td>sayock</td>\n",
       "      <td>27/29</td>\n",
       "      <td>3.0</td>\n",
       "      <td>1090368000</td>\n",
       "      <td>No &amp;quot;Insider&amp;quot; Secrets</td>\n",
       "      <td>If you are someone who is fairly new to the la...</td>\n",
       "      <td>27</td>\n",
       "      <td>29</td>\n",
       "      <td>0.931034</td>\n",
       "      <td>93</td>\n",
       "    </tr>\n",
       "    <tr>\n",
       "      <th>88</th>\n",
       "      <td>0809080699</td>\n",
       "      <td>The Repeal of Reticence: A History of America'...</td>\n",
       "      <td>NaN</td>\n",
       "      <td>A18YY5TBNSDW3O</td>\n",
       "      <td>Bartleby</td>\n",
       "      <td>29/29</td>\n",
       "      <td>5.0</td>\n",
       "      <td>899164800</td>\n",
       "      <td>Great treatment of the defeat of reticence by ...</td>\n",
       "      <td>Using a quiet, restrained writing style that i...</td>\n",
       "      <td>29</td>\n",
       "      <td>29</td>\n",
       "      <td>1.000000</td>\n",
       "      <td>100</td>\n",
       "    </tr>\n",
       "    <tr>\n",
       "      <th>91</th>\n",
       "      <td>B000NKGYMK</td>\n",
       "      <td>Alaska Sourdough</td>\n",
       "      <td>NaN</td>\n",
       "      <td>NaN</td>\n",
       "      <td>NaN</td>\n",
       "      <td>36/37</td>\n",
       "      <td>5.0</td>\n",
       "      <td>949104000</td>\n",
       "      <td>Real Alaskan Sourdough</td>\n",
       "      <td>Ruth Allman has written an excellent book abou...</td>\n",
       "      <td>36</td>\n",
       "      <td>37</td>\n",
       "      <td>0.972973</td>\n",
       "      <td>97</td>\n",
       "    </tr>\n",
       "    <tr>\n",
       "      <th>92</th>\n",
       "      <td>B000NKGYMK</td>\n",
       "      <td>Alaska Sourdough</td>\n",
       "      <td>NaN</td>\n",
       "      <td>AC58Z72OB2DDX</td>\n",
       "      <td>Gary W. Marian</td>\n",
       "      <td>29/30</td>\n",
       "      <td>5.0</td>\n",
       "      <td>945734400</td>\n",
       "      <td>True Alaskan cooking</td>\n",
       "      <td>I have been using this book since 1988, the ei...</td>\n",
       "      <td>29</td>\n",
       "      <td>30</td>\n",
       "      <td>0.966667</td>\n",
       "      <td>96</td>\n",
       "    </tr>\n",
       "  </tbody>\n",
       "</table>\n",
       "</div>"
      ],
      "text/plain": [
       "            Id                                              Title  Price  \\\n",
       "47  0802841899  The Church of Christ: A Biblical Ecclesiology ...  25.97   \n",
       "81  0974289108  The Ultimate Guide to Law School Admission: In...  14.95   \n",
       "88  0809080699  The Repeal of Reticence: A History of America'...    NaN   \n",
       "91  B000NKGYMK                                   Alaska Sourdough    NaN   \n",
       "92  B000NKGYMK                                   Alaska Sourdough    NaN   \n",
       "\n",
       "           User_id          profileName review/helpfulness  review/score  \\\n",
       "47   ARI272XF8TOL4  Christopher J. Bray              74/81           5.0   \n",
       "81  A1KZ0RDJZQSY4O               sayock              27/29           3.0   \n",
       "88  A18YY5TBNSDW3O             Bartleby              29/29           5.0   \n",
       "91             NaN                  NaN              36/37           5.0   \n",
       "92   AC58Z72OB2DDX       Gary W. Marian              29/30           5.0   \n",
       "\n",
       "    review/time                                     review/summary  \\\n",
       "47    955411200                          Ecclesiological Milestone   \n",
       "81   1090368000                     No &quot;Insider&quot; Secrets   \n",
       "88    899164800  Great treatment of the defeat of reticence by ...   \n",
       "91    949104000                             Real Alaskan Sourdough   \n",
       "92    945734400                               True Alaskan cooking   \n",
       "\n",
       "                                          review/text  helpful_0  helpful_1  \\\n",
       "47  With the publication of Everett Ferguson's boo...         74         81   \n",
       "81  If you are someone who is fairly new to the la...         27         29   \n",
       "88  Using a quiet, restrained writing style that i...         29         29   \n",
       "91  Ruth Allman has written an excellent book abou...         36         37   \n",
       "92  I have been using this book since 1988, the ei...         29         30   \n",
       "\n",
       "    helpful_ratio  ratio_percent  \n",
       "47       0.913580             91  \n",
       "81       0.931034             93  \n",
       "88       1.000000            100  \n",
       "91       0.972973             97  \n",
       "92       0.966667             96  "
      ]
     },
     "execution_count": 12,
     "metadata": {},
     "output_type": "execute_result"
    }
   ],
   "source": [
    "df['ratio_percent'] = (df['helpful_ratio'] * 100).astype(int)\n",
    "df.head()"
   ]
  },
  {
   "cell_type": "code",
   "execution_count": 13,
   "metadata": {},
   "outputs": [],
   "source": [
    "# Drop unused columns\n",
    "df.drop(['Id', 'Title', 'Price', 'User_id', 'profileName', 'review/time', 'review/summary'], axis='columns', inplace=True)"
   ]
  },
  {
   "cell_type": "code",
   "execution_count": 14,
   "metadata": {},
   "outputs": [],
   "source": [
    "df = df.rename(columns={\"review/text\":\"Review\",\"review/score\": \"Rating\"})\n",
    "\n",
    "df['review_len'] = [len(text.split()) for text in df.Review]"
   ]
  },
  {
   "cell_type": "code",
   "execution_count": 16,
   "metadata": {},
   "outputs": [
    {
     "data": {
      "text/html": [
       "<div>\n",
       "<style scoped>\n",
       "    .dataframe tbody tr th:only-of-type {\n",
       "        vertical-align: middle;\n",
       "    }\n",
       "\n",
       "    .dataframe tbody tr th {\n",
       "        vertical-align: top;\n",
       "    }\n",
       "\n",
       "    .dataframe thead th {\n",
       "        text-align: right;\n",
       "    }\n",
       "</style>\n",
       "<table border=\"1\" class=\"dataframe\">\n",
       "  <thead>\n",
       "    <tr style=\"text-align: right;\">\n",
       "      <th></th>\n",
       "      <th>review/helpfulness</th>\n",
       "      <th>Rating</th>\n",
       "      <th>Review</th>\n",
       "      <th>helpful_0</th>\n",
       "      <th>helpful_1</th>\n",
       "      <th>helpful_ratio</th>\n",
       "      <th>ratio_percent</th>\n",
       "      <th>review_len</th>\n",
       "    </tr>\n",
       "  </thead>\n",
       "  <tbody>\n",
       "    <tr>\n",
       "      <th>47</th>\n",
       "      <td>74/81</td>\n",
       "      <td>5.0</td>\n",
       "      <td>With the publication of Everett Ferguson's boo...</td>\n",
       "      <td>74</td>\n",
       "      <td>81</td>\n",
       "      <td>0.913580</td>\n",
       "      <td>91</td>\n",
       "      <td>999</td>\n",
       "    </tr>\n",
       "    <tr>\n",
       "      <th>81</th>\n",
       "      <td>27/29</td>\n",
       "      <td>3.0</td>\n",
       "      <td>If you are someone who is fairly new to the la...</td>\n",
       "      <td>27</td>\n",
       "      <td>29</td>\n",
       "      <td>0.931034</td>\n",
       "      <td>93</td>\n",
       "      <td>367</td>\n",
       "    </tr>\n",
       "    <tr>\n",
       "      <th>88</th>\n",
       "      <td>29/29</td>\n",
       "      <td>5.0</td>\n",
       "      <td>Using a quiet, restrained writing style that i...</td>\n",
       "      <td>29</td>\n",
       "      <td>29</td>\n",
       "      <td>1.000000</td>\n",
       "      <td>100</td>\n",
       "      <td>532</td>\n",
       "    </tr>\n",
       "    <tr>\n",
       "      <th>91</th>\n",
       "      <td>36/37</td>\n",
       "      <td>5.0</td>\n",
       "      <td>Ruth Allman has written an excellent book abou...</td>\n",
       "      <td>36</td>\n",
       "      <td>37</td>\n",
       "      <td>0.972973</td>\n",
       "      <td>97</td>\n",
       "      <td>153</td>\n",
       "    </tr>\n",
       "    <tr>\n",
       "      <th>92</th>\n",
       "      <td>29/30</td>\n",
       "      <td>5.0</td>\n",
       "      <td>I have been using this book since 1988, the ei...</td>\n",
       "      <td>29</td>\n",
       "      <td>30</td>\n",
       "      <td>0.966667</td>\n",
       "      <td>96</td>\n",
       "      <td>63</td>\n",
       "    </tr>\n",
       "  </tbody>\n",
       "</table>\n",
       "</div>"
      ],
      "text/plain": [
       "   review/helpfulness  Rating  \\\n",
       "47              74/81     5.0   \n",
       "81              27/29     3.0   \n",
       "88              29/29     5.0   \n",
       "91              36/37     5.0   \n",
       "92              29/30     5.0   \n",
       "\n",
       "                                               Review  helpful_0  helpful_1  \\\n",
       "47  With the publication of Everett Ferguson's boo...         74         81   \n",
       "81  If you are someone who is fairly new to the la...         27         29   \n",
       "88  Using a quiet, restrained writing style that i...         29         29   \n",
       "91  Ruth Allman has written an excellent book abou...         36         37   \n",
       "92  I have been using this book since 1988, the ei...         29         30   \n",
       "\n",
       "    helpful_ratio  ratio_percent  review_len  \n",
       "47       0.913580             91         999  \n",
       "81       0.931034             93         367  \n",
       "88       1.000000            100         532  \n",
       "91       0.972973             97         153  \n",
       "92       0.966667             96          63  "
      ]
     },
     "execution_count": 16,
     "metadata": {},
     "output_type": "execute_result"
    }
   ],
   "source": [
    "df.head()"
   ]
  },
  {
   "cell_type": "code",
   "execution_count": 17,
   "metadata": {},
   "outputs": [
    {
     "data": {
      "text/plain": [
       "239553"
      ]
     },
     "execution_count": 17,
     "metadata": {},
     "output_type": "execute_result"
    }
   ],
   "source": [
    "len(df)"
   ]
  },
  {
   "cell_type": "code",
   "execution_count": 18,
   "metadata": {},
   "outputs": [],
   "source": [
    "df = df[df['review_len'] <= 300]"
   ]
  },
  {
   "cell_type": "code",
   "execution_count": 19,
   "metadata": {},
   "outputs": [
    {
     "data": {
      "text/plain": [
       "181104"
      ]
     },
     "execution_count": 19,
     "metadata": {},
     "output_type": "execute_result"
    }
   ],
   "source": [
    "len(df)"
   ]
  },
  {
   "cell_type": "code",
   "execution_count": 20,
   "metadata": {},
   "outputs": [],
   "source": [
    "def convert_label(df) : \n",
    "    if df['ratio_percent'] <= 70 : \n",
    "        rate = 0 # for Negative \n",
    "    else : \n",
    "        rate = 1 # for Positive\n",
    "        \n",
    "    return rate"
   ]
  },
  {
   "cell_type": "code",
   "execution_count": 21,
   "metadata": {},
   "outputs": [
    {
     "data": {
      "text/html": [
       "<div>\n",
       "<style scoped>\n",
       "    .dataframe tbody tr th:only-of-type {\n",
       "        vertical-align: middle;\n",
       "    }\n",
       "\n",
       "    .dataframe tbody tr th {\n",
       "        vertical-align: top;\n",
       "    }\n",
       "\n",
       "    .dataframe thead th {\n",
       "        text-align: right;\n",
       "    }\n",
       "</style>\n",
       "<table border=\"1\" class=\"dataframe\">\n",
       "  <thead>\n",
       "    <tr style=\"text-align: right;\">\n",
       "      <th></th>\n",
       "      <th>review/helpfulness</th>\n",
       "      <th>Rating</th>\n",
       "      <th>Review</th>\n",
       "      <th>helpful_0</th>\n",
       "      <th>helpful_1</th>\n",
       "      <th>helpful_ratio</th>\n",
       "      <th>ratio_percent</th>\n",
       "      <th>review_len</th>\n",
       "      <th>IsHelpful</th>\n",
       "    </tr>\n",
       "  </thead>\n",
       "  <tbody>\n",
       "    <tr>\n",
       "      <th>91</th>\n",
       "      <td>36/37</td>\n",
       "      <td>5.0</td>\n",
       "      <td>Ruth Allman has written an excellent book abou...</td>\n",
       "      <td>36</td>\n",
       "      <td>37</td>\n",
       "      <td>0.972973</td>\n",
       "      <td>97</td>\n",
       "      <td>153</td>\n",
       "      <td>1</td>\n",
       "    </tr>\n",
       "    <tr>\n",
       "      <th>92</th>\n",
       "      <td>29/30</td>\n",
       "      <td>5.0</td>\n",
       "      <td>I have been using this book since 1988, the ei...</td>\n",
       "      <td>29</td>\n",
       "      <td>30</td>\n",
       "      <td>0.966667</td>\n",
       "      <td>96</td>\n",
       "      <td>63</td>\n",
       "      <td>1</td>\n",
       "    </tr>\n",
       "    <tr>\n",
       "      <th>93</th>\n",
       "      <td>25/28</td>\n",
       "      <td>5.0</td>\n",
       "      <td>My poor dogeared, stained copy of this book ca...</td>\n",
       "      <td>25</td>\n",
       "      <td>28</td>\n",
       "      <td>0.892857</td>\n",
       "      <td>89</td>\n",
       "      <td>206</td>\n",
       "      <td>1</td>\n",
       "    </tr>\n",
       "    <tr>\n",
       "      <th>127</th>\n",
       "      <td>3/20</td>\n",
       "      <td>1.0</td>\n",
       "      <td>This book in my opinion is biased and takes an...</td>\n",
       "      <td>3</td>\n",
       "      <td>20</td>\n",
       "      <td>0.150000</td>\n",
       "      <td>15</td>\n",
       "      <td>92</td>\n",
       "      <td>0</td>\n",
       "    </tr>\n",
       "    <tr>\n",
       "      <th>139</th>\n",
       "      <td>20/20</td>\n",
       "      <td>5.0</td>\n",
       "      <td>If you're already a fan of the Eyewitness Trav...</td>\n",
       "      <td>20</td>\n",
       "      <td>20</td>\n",
       "      <td>1.000000</td>\n",
       "      <td>100</td>\n",
       "      <td>234</td>\n",
       "      <td>1</td>\n",
       "    </tr>\n",
       "  </tbody>\n",
       "</table>\n",
       "</div>"
      ],
      "text/plain": [
       "    review/helpfulness  Rating  \\\n",
       "91               36/37     5.0   \n",
       "92               29/30     5.0   \n",
       "93               25/28     5.0   \n",
       "127               3/20     1.0   \n",
       "139              20/20     5.0   \n",
       "\n",
       "                                                Review  helpful_0  helpful_1  \\\n",
       "91   Ruth Allman has written an excellent book abou...         36         37   \n",
       "92   I have been using this book since 1988, the ei...         29         30   \n",
       "93   My poor dogeared, stained copy of this book ca...         25         28   \n",
       "127  This book in my opinion is biased and takes an...          3         20   \n",
       "139  If you're already a fan of the Eyewitness Trav...         20         20   \n",
       "\n",
       "     helpful_ratio  ratio_percent  review_len  IsHelpful  \n",
       "91        0.972973             97         153          1  \n",
       "92        0.966667             96          63          1  \n",
       "93        0.892857             89         206          1  \n",
       "127       0.150000             15          92          0  \n",
       "139       1.000000            100         234          1  "
      ]
     },
     "execution_count": 21,
     "metadata": {},
     "output_type": "execute_result"
    }
   ],
   "source": [
    "df['IsHelpful'] = df.apply(convert_label, axis = 1)\n",
    "df.head()"
   ]
  },
  {
   "cell_type": "markdown",
   "metadata": {},
   "source": [
    "Ich hab mir das hier mal als neues .csv exportiert, damit ich das nich immer wieder machen muss"
   ]
  },
  {
   "cell_type": "code",
   "execution_count": 22,
   "metadata": {},
   "outputs": [],
   "source": [
    "df.to_csv('../Datasets/Modified_Books_rating.csv', index=False)"
   ]
  },
  {
   "cell_type": "markdown",
   "metadata": {},
   "source": [
    "### Data Prepossessing :ghost:"
   ]
  },
  {
   "cell_type": "markdown",
   "metadata": {},
   "source": [
    "ChatGPT hat bei Preprocessing nichts anderes außer Tokenizing erwähnt, mal schauen wie das läuft"
   ]
  },
  {
   "cell_type": "code",
   "execution_count": 18,
   "metadata": {},
   "outputs": [],
   "source": [
    "# Tokenize the reviews\n",
    "tokenizer = DistilBertTokenizer.from_pretrained('distilbert-base-uncased')\n",
    "encoded_data = tokenizer(df['Review'].tolist(), padding=True, truncation=True, max_length=512, return_tensors='pt')\n"
   ]
  },
  {
   "cell_type": "code",
   "execution_count": 25,
   "metadata": {},
   "outputs": [],
   "source": [
    "# Encode labels\n",
    "label_encoder = LabelEncoder()\n",
    "encoded_labels = torch.tensor(label_encoder.fit_transform(df['IsHelpful'].tolist()))"
   ]
  },
  {
   "cell_type": "code",
   "execution_count": 26,
   "metadata": {},
   "outputs": [],
   "source": [
    "# Create DataLoader\n",
    "dataset = TensorDataset(encoded_data['input_ids'], encoded_data['attention_mask'], encoded_labels)\n",
    "train_size = int(0.8 * len(dataset))\n",
    "test_size = len(dataset) - train_size\n",
    "train_dataset, test_dataset = random_split(dataset, [train_size, test_size])\n"
   ]
  },
  {
   "cell_type": "code",
   "execution_count": 27,
   "metadata": {},
   "outputs": [],
   "source": [
    "train_loader = DataLoader(train_dataset, batch_size=16, shuffle=True)\n",
    "test_loader = DataLoader(test_dataset, batch_size=16, shuffle=False)"
   ]
  },
  {
   "cell_type": "code",
   "execution_count": 30,
   "metadata": {},
   "outputs": [
    {
     "name": "stderr",
     "output_type": "stream",
     "text": [
      "Some weights of DistilBertForSequenceClassification were not initialized from the model checkpoint at distilbert-base-uncased and are newly initialized: ['classifier.bias', 'pre_classifier.weight', 'classifier.weight', 'pre_classifier.bias']\n",
      "You should probably TRAIN this model on a down-stream task to be able to use it for predictions and inference.\n"
     ]
    }
   ],
   "source": [
    "# Load pre-trained DistilBERT model\n",
    "model = DistilBertForSequenceClassification.from_pretrained('distilbert-base-uncased', num_labels=2)\n",
    "optimizer = Adam(model.parameters(), lr=5e-5)\n",
    "loss_fn = CrossEntropyLoss()"
   ]
  },
  {
   "cell_type": "code",
   "execution_count": 31,
   "metadata": {},
   "outputs": [
    {
     "data": {
      "text/plain": [
       "DistilBertForSequenceClassification(\n",
       "  (distilbert): DistilBertModel(\n",
       "    (embeddings): Embeddings(\n",
       "      (word_embeddings): Embedding(30522, 768, padding_idx=0)\n",
       "      (position_embeddings): Embedding(512, 768)\n",
       "      (LayerNorm): LayerNorm((768,), eps=1e-12, elementwise_affine=True)\n",
       "      (dropout): Dropout(p=0.1, inplace=False)\n",
       "    )\n",
       "    (transformer): Transformer(\n",
       "      (layer): ModuleList(\n",
       "        (0-5): 6 x TransformerBlock(\n",
       "          (attention): MultiHeadSelfAttention(\n",
       "            (dropout): Dropout(p=0.1, inplace=False)\n",
       "            (q_lin): Linear(in_features=768, out_features=768, bias=True)\n",
       "            (k_lin): Linear(in_features=768, out_features=768, bias=True)\n",
       "            (v_lin): Linear(in_features=768, out_features=768, bias=True)\n",
       "            (out_lin): Linear(in_features=768, out_features=768, bias=True)\n",
       "          )\n",
       "          (sa_layer_norm): LayerNorm((768,), eps=1e-12, elementwise_affine=True)\n",
       "          (ffn): FFN(\n",
       "            (dropout): Dropout(p=0.1, inplace=False)\n",
       "            (lin1): Linear(in_features=768, out_features=3072, bias=True)\n",
       "            (lin2): Linear(in_features=3072, out_features=768, bias=True)\n",
       "            (activation): GELUActivation()\n",
       "          )\n",
       "          (output_layer_norm): LayerNorm((768,), eps=1e-12, elementwise_affine=True)\n",
       "        )\n",
       "      )\n",
       "    )\n",
       "  )\n",
       "  (pre_classifier): Linear(in_features=768, out_features=768, bias=True)\n",
       "  (classifier): Linear(in_features=768, out_features=2, bias=True)\n",
       "  (dropout): Dropout(p=0.2, inplace=False)\n",
       ")"
      ]
     },
     "execution_count": 31,
     "metadata": {},
     "output_type": "execute_result"
    }
   ],
   "source": [
    "# Training loop (example - adjust as needed)\n",
    "epochs = 3\n",
    "device = torch.device('cuda' if torch.cuda.is_available() else 'cpu')\n",
    "model.to(device)"
   ]
  },
  {
   "cell_type": "markdown",
   "metadata": {},
   "source": [
    "Das läuft jetzt auch schon seit über 5 std, nice"
   ]
  },
  {
   "cell_type": "markdown",
   "metadata": {},
   "source": [
    "Muss mal Tensorflow GPU aufsetzen maybe, aber hatte da noch keinen Nerv zu, da das über WSL etc. läuft"
   ]
  },
  {
   "cell_type": "code",
   "execution_count": 32,
   "metadata": {},
   "outputs": [],
   "source": [
    "for epoch in range(epochs):\n",
    "    model.train()\n",
    "    for batch in train_loader:\n",
    "        input_ids, attention_mask, labels = batch\n",
    "        input_ids, attention_mask, labels = input_ids.to(device), attention_mask.to(device), labels.to(device)\n",
    "\n",
    "        optimizer.zero_grad()\n",
    "        outputs = model(input_ids, attention_mask=attention_mask, labels=labels)\n",
    "        loss = outputs.loss\n",
    "        loss.backward()\n",
    "        optimizer.step()\n",
    "\n",
    "    model.eval()\n",
    "    all_preds, all_labels = [], []\n",
    "    with torch.no_grad():\n",
    "        for batch in test_loader:\n",
    "            input_ids, attention_mask, labels = batch\n",
    "            input_ids, attention_mask, labels = input_ids.to(device), attention_mask.to(device), labels.to(device)\n",
    "\n",
    "            outputs = model(input_ids, attention_mask=attention_mask)\n",
    "            logits = outputs.logits\n",
    "            preds = torch.argmax(logits, dim=1)\n",
    "\n",
    "            all_preds.extend(preds.cpu().numpy())\n",
    "            all_labels.extend(labels.cpu().numpy())\n",
    "\n",
    "    accuracy = accuracy_score(all_labels, all_preds)\n",
    "    print(f'Epoch {epoch + 1}/{epochs}, Accuracy: {accuracy}')"
   ]
  },
  {
   "cell_type": "code",
   "execution_count": null,
   "metadata": {},
   "outputs": [],
   "source": []
  }
 ],
 "metadata": {
  "kernelspec": {
   "display_name": "Python 3",
   "language": "python",
   "name": "python3"
  },
  "language_info": {
   "codemirror_mode": {
    "name": "ipython",
    "version": 3
   },
   "file_extension": ".py",
   "mimetype": "text/x-python",
   "name": "python",
   "nbconvert_exporter": "python",
   "pygments_lexer": "ipython3",
   "version": "3.11.4"
  }
 },
 "nbformat": 4,
 "nbformat_minor": 2
}
